{
  "nbformat": 4,
  "nbformat_minor": 0,
  "metadata": {
    "colab": {
      "name": "04-Bubble_Plots.ipynb",
      "provenance": [],
      "include_colab_link": true
    },
    "kernelspec": {
      "name": "python3",
      "display_name": "Python 3"
    }
  },
  "cells": [
    {
      "cell_type": "markdown",
      "metadata": {
        "id": "view-in-github",
        "colab_type": "text"
      },
      "source": [
        "<a href=\"https://colab.research.google.com/github/sourcecode369/plotly-dashboards-with-dash/blob/master/04-Bubble%20Plots/04_Bubble_Plots.ipynb\" target=\"_parent\"><img src=\"https://colab.research.google.com/assets/colab-badge.svg\" alt=\"Open In Colab\"/></a>"
      ]
    },
    {
      "cell_type": "code",
      "metadata": {
        "id": "zkXSh5FSgJYp",
        "colab_type": "code",
        "colab": {
          "base_uri": "https://localhost:8080/",
          "height": 50
        },
        "outputId": "4c726c24-5f3c-4143-d5fd-dcbf62bcaa24"
      },
      "source": [
        "%%time\n",
        "import numpy as np\n",
        "import plotly.offline as pyo\n",
        "import plotly.graph_objs as  go\n",
        "import pandas as pd\n",
        "np.random.seed(42)"
      ],
      "execution_count": 1,
      "outputs": [
        {
          "output_type": "stream",
          "text": [
            "CPU times: user 279 ms, sys: 109 ms, total: 388 ms\n",
            "Wall time: 1.22 s\n"
          ],
          "name": "stdout"
        }
      ]
    },
    {
      "cell_type": "code",
      "metadata": {
        "id": "ucIhILO7gMYh",
        "colab_type": "code",
        "colab": {
          "base_uri": "https://localhost:8080/",
          "height": 98
        },
        "outputId": "d5128626-468e-4c05-b685-949de3ce9daf"
      },
      "source": [
        "!git clone https://github.com/Pierian-Data/Plotly-Dashboards-with-Dash.git"
      ],
      "execution_count": 2,
      "outputs": [
        {
          "output_type": "stream",
          "text": [
            "Cloning into 'Plotly-Dashboards-with-Dash'...\n",
            "remote: Enumerating objects: 812, done.\u001b[K\n",
            "remote: Total 812 (delta 0), reused 0 (delta 0), pack-reused 812\u001b[K\n",
            "Receiving objects: 100% (812/812), 19.92 MiB | 7.68 MiB/s, done.\n",
            "Resolving deltas: 100% (476/476), done.\n"
          ],
          "name": "stdout"
        }
      ]
    },
    {
      "cell_type": "code",
      "metadata": {
        "id": "p2lEKBYugOKJ",
        "colab_type": "code",
        "colab": {}
      },
      "source": [
        "df = pd.read_csv('Plotly-Dashboards-with-Dash/Data/mpg.csv')"
      ],
      "execution_count": 0,
      "outputs": []
    },
    {
      "cell_type": "code",
      "metadata": {
        "id": "928_H5YTgVQq",
        "colab_type": "code",
        "colab": {
          "base_uri": "https://localhost:8080/",
          "height": 191
        },
        "outputId": "bc26dc36-ae6c-41f1-8d81-5f25f67fa4ac"
      },
      "source": [
        "df.head()"
      ],
      "execution_count": 4,
      "outputs": [
        {
          "output_type": "execute_result",
          "data": {
            "text/html": [
              "<div>\n",
              "<style scoped>\n",
              "    .dataframe tbody tr th:only-of-type {\n",
              "        vertical-align: middle;\n",
              "    }\n",
              "\n",
              "    .dataframe tbody tr th {\n",
              "        vertical-align: top;\n",
              "    }\n",
              "\n",
              "    .dataframe thead th {\n",
              "        text-align: right;\n",
              "    }\n",
              "</style>\n",
              "<table border=\"1\" class=\"dataframe\">\n",
              "  <thead>\n",
              "    <tr style=\"text-align: right;\">\n",
              "      <th></th>\n",
              "      <th>mpg</th>\n",
              "      <th>cylinders</th>\n",
              "      <th>displacement</th>\n",
              "      <th>horsepower</th>\n",
              "      <th>weight</th>\n",
              "      <th>acceleration</th>\n",
              "      <th>model_year</th>\n",
              "      <th>origin</th>\n",
              "      <th>name</th>\n",
              "    </tr>\n",
              "  </thead>\n",
              "  <tbody>\n",
              "    <tr>\n",
              "      <th>0</th>\n",
              "      <td>18.0</td>\n",
              "      <td>8</td>\n",
              "      <td>307.0</td>\n",
              "      <td>130</td>\n",
              "      <td>3504</td>\n",
              "      <td>12.0</td>\n",
              "      <td>70</td>\n",
              "      <td>1</td>\n",
              "      <td>chevrolet chevelle malibu</td>\n",
              "    </tr>\n",
              "    <tr>\n",
              "      <th>1</th>\n",
              "      <td>15.0</td>\n",
              "      <td>8</td>\n",
              "      <td>350.0</td>\n",
              "      <td>165</td>\n",
              "      <td>3693</td>\n",
              "      <td>11.5</td>\n",
              "      <td>70</td>\n",
              "      <td>1</td>\n",
              "      <td>buick skylark 320</td>\n",
              "    </tr>\n",
              "    <tr>\n",
              "      <th>2</th>\n",
              "      <td>18.0</td>\n",
              "      <td>8</td>\n",
              "      <td>318.0</td>\n",
              "      <td>150</td>\n",
              "      <td>3436</td>\n",
              "      <td>11.0</td>\n",
              "      <td>70</td>\n",
              "      <td>1</td>\n",
              "      <td>plymouth satellite</td>\n",
              "    </tr>\n",
              "    <tr>\n",
              "      <th>3</th>\n",
              "      <td>16.0</td>\n",
              "      <td>8</td>\n",
              "      <td>304.0</td>\n",
              "      <td>150</td>\n",
              "      <td>3433</td>\n",
              "      <td>12.0</td>\n",
              "      <td>70</td>\n",
              "      <td>1</td>\n",
              "      <td>amc rebel sst</td>\n",
              "    </tr>\n",
              "    <tr>\n",
              "      <th>4</th>\n",
              "      <td>17.0</td>\n",
              "      <td>8</td>\n",
              "      <td>302.0</td>\n",
              "      <td>140</td>\n",
              "      <td>3449</td>\n",
              "      <td>10.5</td>\n",
              "      <td>70</td>\n",
              "      <td>1</td>\n",
              "      <td>ford torino</td>\n",
              "    </tr>\n",
              "  </tbody>\n",
              "</table>\n",
              "</div>"
            ],
            "text/plain": [
              "    mpg  cylinders  displacement  ... model_year  origin                       name\n",
              "0  18.0          8         307.0  ...         70       1  chevrolet chevelle malibu\n",
              "1  15.0          8         350.0  ...         70       1          buick skylark 320\n",
              "2  18.0          8         318.0  ...         70       1         plymouth satellite\n",
              "3  16.0          8         304.0  ...         70       1              amc rebel sst\n",
              "4  17.0          8         302.0  ...         70       1                ford torino\n",
              "\n",
              "[5 rows x 9 columns]"
            ]
          },
          "metadata": {
            "tags": []
          },
          "execution_count": 4
        }
      ]
    },
    {
      "cell_type": "code",
      "metadata": {
        "id": "OqMlHed7gWOb",
        "colab_type": "code",
        "colab": {
          "base_uri": "https://localhost:8080/",
          "height": 542
        },
        "outputId": "418b70d2-ef93-4d13-882c-16fb52ef9a5c"
      },
      "source": [
        "data = [go.Scatter(x=df[\"horsepower\"], \n",
        "                   y=df[\"mpg\"], \n",
        "                   text=df['name'], \n",
        "                   mode=\"markers\", \n",
        "                   marker=dict(size=df[\"weight\"]/200, color=df[\"cylinders\"],showscale=True))]\n",
        "\n",
        "layout = go.Layout(title=\"Bubble Chart\",hovermode=\"x\")\n",
        "figure = go.Figure(data=data, layout=layout)\n",
        "pyo.iplot(figure)"
      ],
      "execution_count": 15,
      "outputs": [
        {
          "output_type": "display_data",
          "data": {
            "text/html": [
              "<html>\n",
              "<head><meta charset=\"utf-8\" /></head>\n",
              "<body>\n",
              "    <div>\n",
              "            <script src=\"https://cdnjs.cloudflare.com/ajax/libs/mathjax/2.7.5/MathJax.js?config=TeX-AMS-MML_SVG\"></script><script type=\"text/javascript\">if (window.MathJax) {MathJax.Hub.Config({SVG: {font: \"STIX-Web\"}});}</script>\n",
              "                <script type=\"text/javascript\">window.PlotlyConfig = {MathJaxConfig: 'local'};</script>\n",
              "        <script src=\"https://cdn.plot.ly/plotly-latest.min.js\"></script>    \n",
              "            <div id=\"ed1a1af4-ef86-47d4-9801-cf64f5efb36d\" class=\"plotly-graph-div\" style=\"height:525px; width:100%;\"></div>\n",
              "            <script type=\"text/javascript\">\n",
              "                \n",
              "                    window.PLOTLYENV=window.PLOTLYENV || {};\n",
              "                    \n",
              "                if (document.getElementById(\"ed1a1af4-ef86-47d4-9801-cf64f5efb36d\")) {\n",
              "                    Plotly.newPlot(\n",
              "                        'ed1a1af4-ef86-47d4-9801-cf64f5efb36d',\n",
              "                        [{\"marker\": {\"color\": [8, 8, 8, 8, 8, 8, 8, 8, 8, 8, 8, 8, 8, 8, 4, 6, 6, 6, 4, 4, 4, 4, 4, 4, 6, 8, 8, 8, 8, 4, 4, 4, 4, 6, 6, 6, 6, 6, 8, 8, 8, 8, 8, 8, 8, 6, 4, 6, 6, 4, 4, 4, 4, 4, 4, 4, 4, 4, 4, 4, 4, 4, 8, 8, 8, 8, 8, 8, 8, 8, 8, 3, 8, 8, 8, 8, 4, 4, 4, 4, 4, 4, 4, 4, 4, 8, 8, 8, 8, 8, 8, 8, 8, 8, 8, 8, 8, 6, 6, 6, 6, 6, 4, 8, 8, 8, 8, 6, 4, 4, 4, 3, 4, 6, 4, 8, 8, 4, 4, 4, 4, 8, 4, 6, 8, 6, 6, 6, 6, 4, 4, 4, 4, 6, 6, 6, 8, 8, 8, 8, 8, 4, 4, 4, 4, 4, 4, 4, 4, 4, 4, 4, 6, 6, 6, 6, 8, 8, 8, 8, 6, 6, 6, 6, 6, 8, 8, 4, 4, 6, 4, 4, 4, 4, 6, 4, 6, 4, 4, 4, 4, 4, 4, 4, 4, 4, 4, 8, 8, 8, 8, 6, 6, 6, 6, 4, 4, 4, 4, 6, 6, 6, 6, 4, 4, 4, 4, 4, 8, 4, 6, 6, 8, 8, 8, 8, 4, 4, 4, 4, 4, 8, 8, 8, 8, 6, 6, 6, 6, 8, 8, 8, 8, 4, 4, 4, 4, 4, 4, 4, 4, 6, 4, 3, 4, 4, 4, 4, 4, 8, 8, 8, 6, 6, 6, 4, 6, 6, 6, 6, 6, 6, 8, 6, 8, 8, 4, 4, 4, 4, 4, 4, 4, 4, 5, 6, 4, 6, 4, 4, 6, 6, 4, 6, 6, 8, 8, 8, 8, 8, 8, 8, 8, 4, 4, 4, 4, 5, 8, 4, 8, 4, 4, 4, 4, 4, 6, 6, 4, 4, 4, 4, 4, 4, 4, 4, 6, 4, 4, 4, 4, 4, 4, 4, 4, 4, 4, 5, 4, 4, 4, 4, 4, 6, 3, 4, 4, 4, 4, 4, 4, 6, 4, 4, 4, 4, 4, 4, 4, 4, 4, 4, 4, 4, 4, 4, 4, 4, 4, 4, 6, 6, 6, 6, 8, 6, 6, 4, 4, 4, 4, 4, 4, 4, 4, 4, 4, 4, 4, 4, 4, 4, 4, 4, 4, 4, 6, 6, 4, 6, 4, 4, 4, 4, 4, 4, 4, 4], \"showscale\": true, \"size\": [17.52, 18.465, 17.18, 17.165, 17.245, 21.705, 21.77, 21.56, 22.125, 19.25, 17.815, 18.045, 18.805, 15.43, 11.86, 14.165, 13.87, 12.935, 10.65, 9.175, 13.36, 12.15, 11.875, 11.17, 13.24, 23.075, 21.88, 21.91, 23.66, 10.65, 11.32, 11.14, 10.23, 13.17, 17.195, 16.645, 16.51, 16.44, 21.045, 22.32, 20.77, 20.48, 24.775, 23.73, 25.7, 14.81, 12.04, 16.41, 15.695, 11.1, 10.615, 10.37, 10.325, 8.865, 8.065, 9.17, 9.775, 11.39, 10.63, 11.27, 12.04, 11.13, 21.37, 21.925, 20.675, 20.645, 18.36, 23.165, 22.51, 22.28, 22.11, 11.65, 19.46, 20.49, 21.47, 20.385, 14.665, 12.555, 14.895, 10.945, 11.975, 11.44, 12.53, 10.82, 10.5, 20.5, 18.36, 19.94, 20.21, 18.885, 24.76, 22.32, 21.815, 21.185, 23.675, 24.755, 19.105, 15.605, 16.39, 14.725, 15.105, 14.52, 9.75, 24.985, 24.53, 23.27, 22.495, 13.945, 11.395, 12.005, 11.895, 10.62, 11.55, 12.36, 11.325, 20.41, 21.39, 9.335, 10.79, 12.91, 14.34, 16.995, 13.3, 14.035, 18.32, 15.51, 14.375, 14.505, 16.68, 9.75, 12.255, 9.18, 12.71, 18.905, 18.16, 18.065, 20.705, 23.495, 22.285, 23.19, 21.285, 11.095, 9.815, 11.5, 8.245, 10.015, 10.625, 10.54, 11.23, 12.445, 11.955, 10.0, 16.32, 17.295, 17.16, 15.79, 23.34, 22.2, 22.49, 23.285, 19.535, 19.485, 18.65, 18.925, 15.195, 16.105, 15.845, 10.855, 13.195, 14.57, 12.96, 13.51, 11.115, 12.725, 14.92, 9.685, 16.055, 13.47, 14.785, 14.725, 13.355, 8.975, 12.32, 11.1, 12.86, 11.275, 11.01, 21.075, 20.95, 19.81, 21.075, 16.165, 16.765, 15.06, 15.425, 10.175, 10.82, 9.685, 8.975, 18.255, 17.87, 18.225, 15.965, 9.125, 9.95, 10.775, 12.825, 15.75, 19.7, 16.35, 14.65, 19.1, 21.9, 20.275, 19.35, 18.775, 10.225, 10.775, 9.125, 11.5, 9.725, 19.4, 20.3, 20.7, 21.475, 17.6, 17.125, 18.15, 17.625, 21.1, 20.825, 21.625, 21.675, 9.7, 13.7, 11.325, 13.775, 10.255, 10.375, 9.925, 10.95, 14.075, 13.0, 13.6, 9.925, 9.0, 9.925, 10.35, 9.0, 16.825, 18.675, 17.85, 17.675, 15.775, 14.825, 13.6, 17.15, 16.05, 16.9, 15.35, 18.1, 17.05, 17.125, 17.225, 16.025, 20.4, 10.775, 12.8, 11.5, 11.15, 12.575, 13.725, 14.275, 12.025, 14.15, 15.7, 13.975, 17.05, 9.95, 10.675, 16.225, 14.95, 14.45, 16.325, 16.8, 19.2, 18.625, 19.775, 19.15, 21.8, 20.27, 18.025, 19.7, 9.625, 9.875, 9.575, 13.35, 17.65, 19.5, 15.95, 17.1, 11.0, 10.75, 10.1, 10.65, 13.35, 12.975, 13.5, 12.78, 10.72, 9.84, 10.6, 10.095, 13.39, 14.35, 15.015, 16.905, 10.94, 13.555, 12.71, 12.17, 11.325, 10.55, 14.0, 10.55, 10.425, 11.675, 14.75, 16.25, 9.25, 9.175, 10.725, 9.225, 14.55, 12.1, 12.5, 14.525, 11.45, 12.45, 13.175, 13.1, 13.625, 11.925, 8.775, 9.375, 8.8, 10.325, 9.875, 10.25, 9.925, 11.075, 10.225, 11.9, 10.95, 11.6, 11.05, 11.75, 13.075, 13.175, 16.15, 15.8, 14.5, 14.65, 17.075, 18.625, 15.3, 17.325, 13.025, 13.2, 11.975, 12.875, 12.625, 13.675, 14.325, 15.175, 9.9, 10.125, 9.85, 10.625, 10.625, 10.8, 11.025, 11.225, 9.825, 9.825, 9.975, 14.725, 15.075, 12.925, 14.175, 13.325, 11.85, 14.75, 13.95, 10.65, 11.475, 13.125, 13.6]}, \"mode\": \"markers\", \"text\": [\"chevrolet chevelle malibu\", \"buick skylark 320\", \"plymouth satellite\", \"amc rebel sst\", \"ford torino\", \"ford galaxie 500\", \"chevrolet impala\", \"plymouth fury iii\", \"pontiac catalina\", \"amc ambassador dpl\", \"dodge challenger se\", \"plymouth 'cuda 340\", \"chevrolet monte carlo\", \"buick estate wagon (sw)\", \"toyota corona mark ii\", \"plymouth duster\", \"amc hornet\", \"ford maverick\", \"datsun pl510\", \"volkswagen 1131 deluxe sedan\", \"peugeot 504\", \"audi 100 ls\", \"saab 99e\", \"bmw 2002\", \"amc gremlin\", \"ford f250\", \"chevy c20\", \"dodge d200\", \"hi 1200d\", \"datsun pl510\", \"chevrolet vega 2300\", \"toyota corona\", \"ford pinto\", \"amc gremlin\", \"plymouth satellite custom\", \"chevrolet chevelle malibu\", \"ford torino 500\", \"amc matador\", \"chevrolet impala\", \"pontiac catalina brougham\", \"ford galaxie 500\", \"plymouth fury iii\", \"dodge monaco (sw)\", \"ford country squire (sw)\", \"pontiac safari (sw)\", \"amc hornet sportabout (sw)\", \"chevrolet vega (sw)\", \"pontiac firebird\", \"ford mustang\", \"mercury capri 2000\", \"opel 1900\", \"peugeot 304\", \"fiat 124b\", \"toyota corolla 1200\", \"datsun 1200\", \"volkswagen model 111\", \"plymouth cricket\", \"toyota corona hardtop\", \"dodge colt hardtop\", \"volkswagen type 3\", \"chevrolet vega\", \"ford pinto runabout\", \"chevrolet impala\", \"pontiac catalina\", \"plymouth fury iii\", \"ford galaxie 500\", \"amc ambassador sst\", \"mercury marquis\", \"buick lesabre custom\", \"oldsmobile delta 88 royale\", \"chrysler newport royal\", \"mazda rx2 coupe\", \"amc matador (sw)\", \"chevrolet chevelle concours (sw)\", \"ford gran torino (sw)\", \"plymouth satellite custom (sw)\", \"volvo 145e (sw)\", \"volkswagen 411 (sw)\", \"peugeot 504 (sw)\", \"renault 12 (sw)\", \"ford pinto (sw)\", \"datsun 510 (sw)\", \"toyouta corona mark ii (sw)\", \"dodge colt (sw)\", \"toyota corolla 1600 (sw)\", \"buick century 350\", \"amc matador\", \"chevrolet malibu\", \"ford gran torino\", \"dodge coronet custom\", \"mercury marquis brougham\", \"chevrolet caprice classic\", \"ford ltd\", \"plymouth fury gran sedan\", \"chrysler new yorker brougham\", \"buick electra 225 custom\", \"amc ambassador brougham\", \"plymouth valiant\", \"chevrolet nova custom\", \"amc hornet\", \"ford maverick\", \"plymouth duster\", \"volkswagen super beetle\", \"chevrolet impala\", \"ford country\", \"plymouth custom suburb\", \"oldsmobile vista cruiser\", \"amc gremlin\", \"toyota carina\", \"chevrolet vega\", \"datsun 610\", \"maxda rx3\", \"ford pinto\", \"mercury capri v6\", \"fiat 124 sport coupe\", \"chevrolet monte carlo s\", \"pontiac grand prix\", \"fiat 128\", \"opel manta\", \"audi 100ls\", \"volvo 144ea\", \"dodge dart custom\", \"saab 99le\", \"toyota mark ii\", \"oldsmobile omega\", \"plymouth duster\", \"ford maverick\", \"amc hornet\", \"chevrolet nova\", \"datsun b210\", \"ford pinto\", \"toyota corolla 1200\", \"chevrolet vega\", \"chevrolet chevelle malibu classic\", \"amc matador\", \"plymouth satellite sebring\", \"ford gran torino\", \"buick century luxus (sw)\", \"dodge coronet custom (sw)\", \"ford gran torino (sw)\", \"amc matador (sw)\", \"audi fox\", \"volkswagen dasher\", \"opel manta\", \"toyota corona\", \"datsun 710\", \"dodge colt\", \"fiat 128\", \"fiat 124 tc\", \"honda civic\", \"subaru\", \"fiat x1.9\", \"plymouth valiant custom\", \"chevrolet nova\", \"mercury monarch\", \"ford maverick\", \"pontiac catalina\", \"chevrolet bel air\", \"plymouth grand fury\", \"ford ltd\", \"buick century\", \"chevroelt chevelle malibu\", \"amc matador\", \"plymouth fury\", \"buick skyhawk\", \"chevrolet monza 2+2\", \"ford mustang ii\", \"toyota corolla\", \"ford pinto\", \"amc gremlin\", \"pontiac astro\", \"toyota corona\", \"volkswagen dasher\", \"datsun 710\", \"ford pinto\", \"volkswagen rabbit\", \"amc pacer\", \"audi 100ls\", \"peugeot 504\", \"volvo 244dl\", \"saab 99le\", \"honda civic cvcc\", \"fiat 131\", \"opel 1900\", \"capri ii\", \"dodge colt\", \"renault 12tl\", \"chevrolet chevelle malibu classic\", \"dodge coronet brougham\", \"amc matador\", \"ford gran torino\", \"plymouth valiant\", \"chevrolet nova\", \"ford maverick\", \"amc hornet\", \"chevrolet chevette\", \"chevrolet woody\", \"vw rabbit\", \"honda civic\", \"dodge aspen se\", \"ford granada ghia\", \"pontiac ventura sj\", \"amc pacer d/l\", \"volkswagen rabbit\", \"datsun b-210\", \"toyota corolla\", \"ford pinto\", \"volvo 245\", \"plymouth volare premier v8\", \"peugeot 504\", \"toyota mark ii\", \"mercedes-benz 280s\", \"cadillac seville\", \"chevy c10\", \"ford f108\", \"dodge d100\", \"honda accord cvcc\", \"buick opel isuzu deluxe\", \"renault 5 gtl\", \"plymouth arrow gs\", \"datsun f-10 hatchback\", \"chevrolet caprice classic\", \"oldsmobile cutlass supreme\", \"dodge monaco brougham\", \"mercury cougar brougham\", \"chevrolet concours\", \"buick skylark\", \"plymouth volare custom\", \"ford granada\", \"pontiac grand prix lj\", \"chevrolet monte carlo landau\", \"chrysler cordoba\", \"ford thunderbird\", \"volkswagen rabbit custom\", \"pontiac sunbird coupe\", \"toyota corolla liftback\", \"ford mustang ii 2+2\", \"chevrolet chevette\", \"dodge colt m/m\", \"subaru dl\", \"volkswagen dasher\", \"datsun 810\", \"bmw 320i\", \"mazda rx-4\", \"volkswagen rabbit custom diesel\", \"ford fiesta\", \"mazda glc deluxe\", \"datsun b210 gx\", \"honda civic cvcc\", \"oldsmobile cutlass salon brougham\", \"dodge diplomat\", \"mercury monarch ghia\", \"pontiac phoenix lj\", \"chevrolet malibu\", \"ford fairmont (auto)\", \"ford fairmont (man)\", \"plymouth volare\", \"amc concord\", \"buick century special\", \"mercury zephyr\", \"dodge aspen\", \"amc concord d/l\", \"chevrolet monte carlo landau\", \"buick regal sport coupe (turbo)\", \"ford futura\", \"dodge magnum xe\", \"chevrolet chevette\", \"toyota corona\", \"datsun 510\", \"dodge omni\", \"toyota celica gt liftback\", \"plymouth sapporo\", \"oldsmobile starfire sx\", \"datsun 200-sx\", \"audi 5000\", \"volvo 264gl\", \"saab 99gle\", \"peugeot 604sl\", \"volkswagen scirocco\", \"honda accord lx\", \"pontiac lemans v6\", \"mercury zephyr 6\", \"ford fairmont 4\", \"amc concord dl 6\", \"dodge aspen 6\", \"chevrolet caprice classic\", \"ford ltd landau\", \"mercury grand marquis\", \"dodge st. regis\", \"buick estate wagon (sw)\", \"ford country squire (sw)\", \"chevrolet malibu classic (sw)\", \"chrysler lebaron town @ country (sw)\", \"vw rabbit custom\", \"maxda glc deluxe\", \"dodge colt hatchback custom\", \"amc spirit dl\", \"mercedes benz 300d\", \"cadillac eldorado\", \"peugeot 504\", \"oldsmobile cutlass salon brougham\", \"plymouth horizon\", \"plymouth horizon tc3\", \"datsun 210\", \"fiat strada custom\", \"buick skylark limited\", \"chevrolet citation\", \"oldsmobile omega brougham\", \"pontiac phoenix\", \"vw rabbit\", \"toyota corolla tercel\", \"chevrolet chevette\", \"datsun 310\", \"chevrolet citation\", \"ford fairmont\", \"amc concord\", \"dodge aspen\", \"audi 4000\", \"toyota corona liftback\", \"mazda 626\", \"datsun 510 hatchback\", \"toyota corolla\", \"mazda glc\", \"dodge colt\", \"datsun 210\", \"vw rabbit c (diesel)\", \"vw dasher (diesel)\", \"audi 5000s (diesel)\", \"mercedes-benz 240d\", \"honda civic 1500 gl\", \"renault lecar deluxe\", \"subaru dl\", \"vokswagen rabbit\", \"datsun 280-zx\", \"mazda rx-7 gs\", \"triumph tr7 coupe\", \"ford mustang cobra\", \"honda accord\", \"plymouth reliant\", \"buick skylark\", \"dodge aries wagon (sw)\", \"chevrolet citation\", \"plymouth reliant\", \"toyota starlet\", \"plymouth champ\", \"honda civic 1300\", \"subaru\", \"datsun 210 mpg\", \"toyota tercel\", \"mazda glc 4\", \"plymouth horizon 4\", \"ford escort 4w\", \"ford escort 2h\", \"volkswagen jetta\", \"renault 18i\", \"honda prelude\", \"toyota corolla\", \"datsun 200sx\", \"mazda 626\", \"peugeot 505s turbo diesel\", \"volvo diesel\", \"toyota cressida\", \"datsun 810 maxima\", \"buick century\", \"oldsmobile cutlass ls\", \"ford granada gl\", \"chrysler lebaron salon\", \"chevrolet cavalier\", \"chevrolet cavalier wagon\", \"chevrolet cavalier 2-door\", \"pontiac j2000 se hatchback\", \"dodge aries se\", \"pontiac phoenix\", \"ford fairmont futura\", \"amc concord dl\", \"volkswagen rabbit l\", \"mazda glc custom l\", \"mazda glc custom\", \"plymouth horizon miser\", \"mercury lynx l\", \"nissan stanza xe\", \"honda accord\", \"toyota corolla\", \"honda civic\", \"honda civic (auto)\", \"datsun 310 gx\", \"buick century limited\", \"oldsmobile cutlass ciera (diesel)\", \"chrysler lebaron medallion\", \"ford granada l\", \"toyota celica gt\", \"dodge charger 2.2\", \"chevrolet camaro\", \"ford mustang gl\", \"vw pickup\", \"dodge rampage\", \"ford ranger\", \"chevy s-10\"], \"type\": \"scatter\", \"x\": [\"130\", \"165\", \"150\", \"150\", \"140\", \"198\", \"220\", \"215\", \"225\", \"190\", \"170\", \"160\", \"150\", \"225\", \"95\", \"95\", \"97\", \"85\", \"88\", \"46\", \"87\", \"90\", \"95\", \"113\", \"90\", \"215\", \"200\", \"210\", \"193\", \"88\", \"90\", \"95\", \"?\", \"100\", \"105\", \"100\", \"88\", \"100\", \"165\", \"175\", \"153\", \"150\", \"180\", \"170\", \"175\", \"110\", \"72\", \"100\", \"88\", \"86\", \"90\", \"70\", \"76\", \"65\", \"69\", \"60\", \"70\", \"95\", \"80\", \"54\", \"90\", \"86\", \"165\", \"175\", \"150\", \"153\", \"150\", \"208\", \"155\", \"160\", \"190\", \"97\", \"150\", \"130\", \"140\", \"150\", \"112\", \"76\", \"87\", \"69\", \"86\", \"92\", \"97\", \"80\", \"88\", \"175\", \"150\", \"145\", \"137\", \"150\", \"198\", \"150\", \"158\", \"150\", \"215\", \"225\", \"175\", \"105\", \"100\", \"100\", \"88\", \"95\", \"46\", \"150\", \"167\", \"170\", \"180\", \"100\", \"88\", \"72\", \"94\", \"90\", \"85\", \"107\", \"90\", \"145\", \"230\", \"49\", \"75\", \"91\", \"112\", \"150\", \"110\", \"122\", \"180\", \"95\", \"?\", \"100\", \"100\", \"67\", \"80\", \"65\", \"75\", \"100\", \"110\", \"105\", \"140\", \"150\", \"150\", \"140\", \"150\", \"83\", \"67\", \"78\", \"52\", \"61\", \"75\", \"75\", \"75\", \"97\", \"93\", \"67\", \"95\", \"105\", \"72\", \"72\", \"170\", \"145\", \"150\", \"148\", \"110\", \"105\", \"110\", \"95\", \"110\", \"110\", \"129\", \"75\", \"83\", \"100\", \"78\", \"96\", \"71\", \"97\", \"97\", \"70\", \"90\", \"95\", \"88\", \"98\", \"115\", \"53\", \"86\", \"81\", \"92\", \"79\", \"83\", \"140\", \"150\", \"120\", \"152\", \"100\", \"105\", \"81\", \"90\", \"52\", \"60\", \"70\", \"53\", \"100\", \"78\", \"110\", \"95\", \"71\", \"70\", \"75\", \"72\", \"102\", \"150\", \"88\", \"108\", \"120\", \"180\", \"145\", \"130\", \"150\", \"68\", \"80\", \"58\", \"96\", \"70\", \"145\", \"110\", \"145\", \"130\", \"110\", \"105\", \"100\", \"98\", \"180\", \"170\", \"190\", \"149\", \"78\", \"88\", \"75\", \"89\", \"63\", \"83\", \"67\", \"78\", \"97\", \"110\", \"110\", \"48\", \"66\", \"52\", \"70\", \"60\", \"110\", \"140\", \"139\", \"105\", \"95\", \"85\", \"88\", \"100\", \"90\", \"105\", \"85\", \"110\", \"120\", \"145\", \"165\", \"139\", \"140\", \"68\", \"95\", \"97\", \"75\", \"95\", \"105\", \"85\", \"97\", \"103\", \"125\", \"115\", \"133\", \"71\", \"68\", \"115\", \"85\", \"88\", \"90\", \"110\", \"130\", \"129\", \"138\", \"135\", \"155\", \"142\", \"125\", \"150\", \"71\", \"65\", \"80\", \"80\", \"77\", \"125\", \"71\", \"90\", \"70\", \"70\", \"65\", \"69\", \"90\", \"115\", \"115\", \"90\", \"76\", \"60\", \"70\", \"65\", \"90\", \"88\", \"90\", \"90\", \"78\", \"90\", \"75\", \"92\", \"75\", \"65\", \"105\", \"65\", \"48\", \"48\", \"67\", \"67\", \"67\", \"?\", \"67\", \"62\", \"132\", \"100\", \"88\", \"?\", \"72\", \"84\", \"84\", \"92\", \"110\", \"84\", \"58\", \"64\", \"60\", \"67\", \"65\", \"62\", \"68\", \"63\", \"65\", \"65\", \"74\", \"?\", \"75\", \"75\", \"100\", \"74\", \"80\", \"76\", \"116\", \"120\", \"110\", \"105\", \"88\", \"85\", \"88\", \"88\", \"88\", \"85\", \"84\", \"90\", \"92\", \"?\", \"74\", \"68\", \"68\", \"63\", \"70\", \"88\", \"75\", \"70\", \"67\", \"67\", \"67\", \"110\", \"85\", \"92\", \"112\", \"96\", \"84\", \"90\", \"86\", \"52\", \"84\", \"79\", \"82\"], \"y\": [18.0, 15.0, 18.0, 16.0, 17.0, 15.0, 14.0, 14.0, 14.0, 15.0, 15.0, 14.0, 15.0, 14.0, 24.0, 22.0, 18.0, 21.0, 27.0, 26.0, 25.0, 24.0, 25.0, 26.0, 21.0, 10.0, 10.0, 11.0, 9.0, 27.0, 28.0, 25.0, 25.0, 19.0, 16.0, 17.0, 19.0, 18.0, 14.0, 14.0, 14.0, 14.0, 12.0, 13.0, 13.0, 18.0, 22.0, 19.0, 18.0, 23.0, 28.0, 30.0, 30.0, 31.0, 35.0, 27.0, 26.0, 24.0, 25.0, 23.0, 20.0, 21.0, 13.0, 14.0, 15.0, 14.0, 17.0, 11.0, 13.0, 12.0, 13.0, 19.0, 15.0, 13.0, 13.0, 14.0, 18.0, 22.0, 21.0, 26.0, 22.0, 28.0, 23.0, 28.0, 27.0, 13.0, 14.0, 13.0, 14.0, 15.0, 12.0, 13.0, 13.0, 14.0, 13.0, 12.0, 13.0, 18.0, 16.0, 18.0, 18.0, 23.0, 26.0, 11.0, 12.0, 13.0, 12.0, 18.0, 20.0, 21.0, 22.0, 18.0, 19.0, 21.0, 26.0, 15.0, 16.0, 29.0, 24.0, 20.0, 19.0, 15.0, 24.0, 20.0, 11.0, 20.0, 21.0, 19.0, 15.0, 31.0, 26.0, 32.0, 25.0, 16.0, 16.0, 18.0, 16.0, 13.0, 14.0, 14.0, 14.0, 29.0, 26.0, 26.0, 31.0, 32.0, 28.0, 24.0, 26.0, 24.0, 26.0, 31.0, 19.0, 18.0, 15.0, 15.0, 16.0, 15.0, 16.0, 14.0, 17.0, 16.0, 15.0, 18.0, 21.0, 20.0, 13.0, 29.0, 23.0, 20.0, 23.0, 24.0, 25.0, 24.0, 18.0, 29.0, 19.0, 23.0, 23.0, 22.0, 25.0, 33.0, 28.0, 25.0, 25.0, 26.0, 27.0, 17.5, 16.0, 15.5, 14.5, 22.0, 22.0, 24.0, 22.5, 29.0, 24.5, 29.0, 33.0, 20.0, 18.0, 18.5, 17.5, 29.5, 32.0, 28.0, 26.5, 20.0, 13.0, 19.0, 19.0, 16.5, 16.5, 13.0, 13.0, 13.0, 31.5, 30.0, 36.0, 25.5, 33.5, 17.5, 17.0, 15.5, 15.0, 17.5, 20.5, 19.0, 18.5, 16.0, 15.5, 15.5, 16.0, 29.0, 24.5, 26.0, 25.5, 30.5, 33.5, 30.0, 30.5, 22.0, 21.5, 21.5, 43.1, 36.1, 32.8, 39.4, 36.1, 19.9, 19.4, 20.2, 19.2, 20.5, 20.2, 25.1, 20.5, 19.4, 20.6, 20.8, 18.6, 18.1, 19.2, 17.7, 18.1, 17.5, 30.0, 27.5, 27.2, 30.9, 21.1, 23.2, 23.8, 23.9, 20.3, 17.0, 21.6, 16.2, 31.5, 29.5, 21.5, 19.8, 22.3, 20.2, 20.6, 17.0, 17.6, 16.5, 18.2, 16.9, 15.5, 19.2, 18.5, 31.9, 34.1, 35.7, 27.4, 25.4, 23.0, 27.2, 23.9, 34.2, 34.5, 31.8, 37.3, 28.4, 28.8, 26.8, 33.5, 41.5, 38.1, 32.1, 37.2, 28.0, 26.4, 24.3, 19.1, 34.3, 29.8, 31.3, 37.0, 32.2, 46.6, 27.9, 40.8, 44.3, 43.4, 36.4, 30.0, 44.6, 40.9, 33.8, 29.8, 32.7, 23.7, 35.0, 23.6, 32.4, 27.2, 26.6, 25.8, 23.5, 30.0, 39.1, 39.0, 35.1, 32.3, 37.0, 37.7, 34.1, 34.7, 34.4, 29.9, 33.0, 34.5, 33.7, 32.4, 32.9, 31.6, 28.1, 30.7, 25.4, 24.2, 22.4, 26.6, 20.2, 17.6, 28.0, 27.0, 34.0, 31.0, 29.0, 27.0, 24.0, 23.0, 36.0, 37.0, 31.0, 38.0, 36.0, 36.0, 36.0, 34.0, 38.0, 32.0, 38.0, 25.0, 38.0, 26.0, 22.0, 32.0, 36.0, 27.0, 27.0, 44.0, 32.0, 28.0, 31.0]}],\n",
              "                        {\"hovermode\": \"x\", \"template\": {\"data\": {\"bar\": [{\"error_x\": {\"color\": \"#2a3f5f\"}, \"error_y\": {\"color\": \"#2a3f5f\"}, \"marker\": {\"line\": {\"color\": \"#E5ECF6\", \"width\": 0.5}}, \"type\": \"bar\"}], \"barpolar\": [{\"marker\": {\"line\": {\"color\": \"#E5ECF6\", \"width\": 0.5}}, \"type\": \"barpolar\"}], \"carpet\": [{\"aaxis\": {\"endlinecolor\": \"#2a3f5f\", \"gridcolor\": \"white\", \"linecolor\": \"white\", \"minorgridcolor\": \"white\", \"startlinecolor\": \"#2a3f5f\"}, \"baxis\": {\"endlinecolor\": \"#2a3f5f\", \"gridcolor\": \"white\", \"linecolor\": \"white\", \"minorgridcolor\": \"white\", \"startlinecolor\": \"#2a3f5f\"}, \"type\": \"carpet\"}], \"choropleth\": [{\"colorbar\": {\"outlinewidth\": 0, \"ticks\": \"\"}, \"type\": \"choropleth\"}], \"contour\": [{\"colorbar\": {\"outlinewidth\": 0, \"ticks\": \"\"}, \"colorscale\": [[0.0, \"#0d0887\"], [0.1111111111111111, \"#46039f\"], [0.2222222222222222, \"#7201a8\"], [0.3333333333333333, \"#9c179e\"], [0.4444444444444444, \"#bd3786\"], [0.5555555555555556, \"#d8576b\"], [0.6666666666666666, \"#ed7953\"], [0.7777777777777778, \"#fb9f3a\"], [0.8888888888888888, \"#fdca26\"], [1.0, \"#f0f921\"]], \"type\": \"contour\"}], \"contourcarpet\": [{\"colorbar\": {\"outlinewidth\": 0, \"ticks\": \"\"}, \"type\": \"contourcarpet\"}], \"heatmap\": [{\"colorbar\": {\"outlinewidth\": 0, \"ticks\": \"\"}, \"colorscale\": [[0.0, \"#0d0887\"], [0.1111111111111111, \"#46039f\"], [0.2222222222222222, \"#7201a8\"], [0.3333333333333333, \"#9c179e\"], [0.4444444444444444, \"#bd3786\"], [0.5555555555555556, \"#d8576b\"], [0.6666666666666666, \"#ed7953\"], [0.7777777777777778, \"#fb9f3a\"], [0.8888888888888888, \"#fdca26\"], [1.0, \"#f0f921\"]], \"type\": \"heatmap\"}], \"heatmapgl\": [{\"colorbar\": {\"outlinewidth\": 0, \"ticks\": \"\"}, \"colorscale\": [[0.0, \"#0d0887\"], [0.1111111111111111, \"#46039f\"], [0.2222222222222222, \"#7201a8\"], [0.3333333333333333, \"#9c179e\"], [0.4444444444444444, \"#bd3786\"], [0.5555555555555556, \"#d8576b\"], [0.6666666666666666, \"#ed7953\"], [0.7777777777777778, \"#fb9f3a\"], [0.8888888888888888, \"#fdca26\"], [1.0, \"#f0f921\"]], \"type\": \"heatmapgl\"}], \"histogram\": [{\"marker\": {\"colorbar\": {\"outlinewidth\": 0, \"ticks\": \"\"}}, \"type\": \"histogram\"}], \"histogram2d\": [{\"colorbar\": {\"outlinewidth\": 0, \"ticks\": \"\"}, \"colorscale\": [[0.0, \"#0d0887\"], [0.1111111111111111, \"#46039f\"], [0.2222222222222222, \"#7201a8\"], [0.3333333333333333, \"#9c179e\"], [0.4444444444444444, \"#bd3786\"], [0.5555555555555556, \"#d8576b\"], [0.6666666666666666, \"#ed7953\"], [0.7777777777777778, \"#fb9f3a\"], [0.8888888888888888, \"#fdca26\"], [1.0, \"#f0f921\"]], \"type\": \"histogram2d\"}], \"histogram2dcontour\": [{\"colorbar\": {\"outlinewidth\": 0, \"ticks\": \"\"}, \"colorscale\": [[0.0, \"#0d0887\"], [0.1111111111111111, \"#46039f\"], [0.2222222222222222, \"#7201a8\"], [0.3333333333333333, \"#9c179e\"], [0.4444444444444444, \"#bd3786\"], [0.5555555555555556, \"#d8576b\"], [0.6666666666666666, \"#ed7953\"], [0.7777777777777778, \"#fb9f3a\"], [0.8888888888888888, \"#fdca26\"], [1.0, \"#f0f921\"]], \"type\": \"histogram2dcontour\"}], \"mesh3d\": [{\"colorbar\": {\"outlinewidth\": 0, \"ticks\": \"\"}, \"type\": \"mesh3d\"}], \"parcoords\": [{\"line\": {\"colorbar\": {\"outlinewidth\": 0, \"ticks\": \"\"}}, \"type\": \"parcoords\"}], \"scatter\": [{\"marker\": {\"colorbar\": {\"outlinewidth\": 0, \"ticks\": \"\"}}, \"type\": \"scatter\"}], \"scatter3d\": [{\"line\": {\"colorbar\": {\"outlinewidth\": 0, \"ticks\": \"\"}}, \"marker\": {\"colorbar\": {\"outlinewidth\": 0, \"ticks\": \"\"}}, \"type\": \"scatter3d\"}], \"scattercarpet\": [{\"marker\": {\"colorbar\": {\"outlinewidth\": 0, \"ticks\": \"\"}}, \"type\": \"scattercarpet\"}], \"scattergeo\": [{\"marker\": {\"colorbar\": {\"outlinewidth\": 0, \"ticks\": \"\"}}, \"type\": \"scattergeo\"}], \"scattergl\": [{\"marker\": {\"colorbar\": {\"outlinewidth\": 0, \"ticks\": \"\"}}, \"type\": \"scattergl\"}], \"scattermapbox\": [{\"marker\": {\"colorbar\": {\"outlinewidth\": 0, \"ticks\": \"\"}}, \"type\": \"scattermapbox\"}], \"scatterpolar\": [{\"marker\": {\"colorbar\": {\"outlinewidth\": 0, \"ticks\": \"\"}}, \"type\": \"scatterpolar\"}], \"scatterpolargl\": [{\"marker\": {\"colorbar\": {\"outlinewidth\": 0, \"ticks\": \"\"}}, \"type\": \"scatterpolargl\"}], \"scatterternary\": [{\"marker\": {\"colorbar\": {\"outlinewidth\": 0, \"ticks\": \"\"}}, \"type\": \"scatterternary\"}], \"surface\": [{\"colorbar\": {\"outlinewidth\": 0, \"ticks\": \"\"}, \"colorscale\": [[0.0, \"#0d0887\"], [0.1111111111111111, \"#46039f\"], [0.2222222222222222, \"#7201a8\"], [0.3333333333333333, \"#9c179e\"], [0.4444444444444444, \"#bd3786\"], [0.5555555555555556, \"#d8576b\"], [0.6666666666666666, \"#ed7953\"], [0.7777777777777778, \"#fb9f3a\"], [0.8888888888888888, \"#fdca26\"], [1.0, \"#f0f921\"]], \"type\": \"surface\"}], \"table\": [{\"cells\": {\"fill\": {\"color\": \"#EBF0F8\"}, \"line\": {\"color\": \"white\"}}, \"header\": {\"fill\": {\"color\": \"#C8D4E3\"}, \"line\": {\"color\": \"white\"}}, \"type\": \"table\"}]}, \"layout\": {\"annotationdefaults\": {\"arrowcolor\": \"#2a3f5f\", \"arrowhead\": 0, \"arrowwidth\": 1}, \"colorscale\": {\"diverging\": [[0, \"#8e0152\"], [0.1, \"#c51b7d\"], [0.2, \"#de77ae\"], [0.3, \"#f1b6da\"], [0.4, \"#fde0ef\"], [0.5, \"#f7f7f7\"], [0.6, \"#e6f5d0\"], [0.7, \"#b8e186\"], [0.8, \"#7fbc41\"], [0.9, \"#4d9221\"], [1, \"#276419\"]], \"sequential\": [[0.0, \"#0d0887\"], [0.1111111111111111, \"#46039f\"], [0.2222222222222222, \"#7201a8\"], [0.3333333333333333, \"#9c179e\"], [0.4444444444444444, \"#bd3786\"], [0.5555555555555556, \"#d8576b\"], [0.6666666666666666, \"#ed7953\"], [0.7777777777777778, \"#fb9f3a\"], [0.8888888888888888, \"#fdca26\"], [1.0, \"#f0f921\"]], \"sequentialminus\": [[0.0, \"#0d0887\"], [0.1111111111111111, \"#46039f\"], [0.2222222222222222, \"#7201a8\"], [0.3333333333333333, \"#9c179e\"], [0.4444444444444444, \"#bd3786\"], [0.5555555555555556, \"#d8576b\"], [0.6666666666666666, \"#ed7953\"], [0.7777777777777778, \"#fb9f3a\"], [0.8888888888888888, \"#fdca26\"], [1.0, \"#f0f921\"]]}, \"colorway\": [\"#636efa\", \"#EF553B\", \"#00cc96\", \"#ab63fa\", \"#FFA15A\", \"#19d3f3\", \"#FF6692\", \"#B6E880\", \"#FF97FF\", \"#FECB52\"], \"font\": {\"color\": \"#2a3f5f\"}, \"geo\": {\"bgcolor\": \"white\", \"lakecolor\": \"white\", \"landcolor\": \"#E5ECF6\", \"showlakes\": true, \"showland\": true, \"subunitcolor\": \"white\"}, \"hoverlabel\": {\"align\": \"left\"}, \"hovermode\": \"closest\", \"mapbox\": {\"style\": \"light\"}, \"paper_bgcolor\": \"white\", \"plot_bgcolor\": \"#E5ECF6\", \"polar\": {\"angularaxis\": {\"gridcolor\": \"white\", \"linecolor\": \"white\", \"ticks\": \"\"}, \"bgcolor\": \"#E5ECF6\", \"radialaxis\": {\"gridcolor\": \"white\", \"linecolor\": \"white\", \"ticks\": \"\"}}, \"scene\": {\"xaxis\": {\"backgroundcolor\": \"#E5ECF6\", \"gridcolor\": \"white\", \"gridwidth\": 2, \"linecolor\": \"white\", \"showbackground\": true, \"ticks\": \"\", \"zerolinecolor\": \"white\"}, \"yaxis\": {\"backgroundcolor\": \"#E5ECF6\", \"gridcolor\": \"white\", \"gridwidth\": 2, \"linecolor\": \"white\", \"showbackground\": true, \"ticks\": \"\", \"zerolinecolor\": \"white\"}, \"zaxis\": {\"backgroundcolor\": \"#E5ECF6\", \"gridcolor\": \"white\", \"gridwidth\": 2, \"linecolor\": \"white\", \"showbackground\": true, \"ticks\": \"\", \"zerolinecolor\": \"white\"}}, \"shapedefaults\": {\"line\": {\"color\": \"#2a3f5f\"}}, \"ternary\": {\"aaxis\": {\"gridcolor\": \"white\", \"linecolor\": \"white\", \"ticks\": \"\"}, \"baxis\": {\"gridcolor\": \"white\", \"linecolor\": \"white\", \"ticks\": \"\"}, \"bgcolor\": \"#E5ECF6\", \"caxis\": {\"gridcolor\": \"white\", \"linecolor\": \"white\", \"ticks\": \"\"}}, \"title\": {\"x\": 0.05}, \"xaxis\": {\"automargin\": true, \"gridcolor\": \"white\", \"linecolor\": \"white\", \"ticks\": \"\", \"zerolinecolor\": \"white\", \"zerolinewidth\": 2}, \"yaxis\": {\"automargin\": true, \"gridcolor\": \"white\", \"linecolor\": \"white\", \"ticks\": \"\", \"zerolinecolor\": \"white\", \"zerolinewidth\": 2}}}, \"title\": {\"text\": \"Bubble Chart\"}},\n",
              "                        {\"responsive\": true}\n",
              "                    ).then(function(){\n",
              "                            \n",
              "var gd = document.getElementById('ed1a1af4-ef86-47d4-9801-cf64f5efb36d');\n",
              "var x = new MutationObserver(function (mutations, observer) {{\n",
              "        var display = window.getComputedStyle(gd).display;\n",
              "        if (!display || display === 'none') {{\n",
              "            console.log([gd, 'removed!']);\n",
              "            Plotly.purge(gd);\n",
              "            observer.disconnect();\n",
              "        }}\n",
              "}});\n",
              "\n",
              "// Listen for the removal of the full notebook cells\n",
              "var notebookContainer = gd.closest('#notebook-container');\n",
              "if (notebookContainer) {{\n",
              "    x.observe(notebookContainer, {childList: true});\n",
              "}}\n",
              "\n",
              "// Listen for the clearing of the current output cell\n",
              "var outputEl = gd.closest('.output');\n",
              "if (outputEl) {{\n",
              "    x.observe(outputEl, {childList: true});\n",
              "}}\n",
              "\n",
              "                        })\n",
              "                };\n",
              "                \n",
              "            </script>\n",
              "        </div>\n",
              "</body>\n",
              "</html>"
            ]
          },
          "metadata": {
            "tags": []
          }
        }
      ]
    },
    {
      "cell_type": "code",
      "metadata": {
        "id": "EpFoYrNnhISc",
        "colab_type": "code",
        "colab": {
          "base_uri": "https://localhost:8080/",
          "height": 542
        },
        "outputId": "64c6b8f8-f77a-4aa6-83d4-e0555421cd4b"
      },
      "source": [
        "data = [go.Scatter(x=df[\"acceleration\"], \n",
        "                   y=df[\"displacement\"], \n",
        "                   text=df['name'], \n",
        "                   mode=\"markers\", \n",
        "                   marker=dict(size=df[\"weight\"]/200, color=df[\"cylinders\"],showscale=True))]\n",
        "\n",
        "layout = go.Layout(title=\"Bubble Chart\",hovermode=\"x\")\n",
        "figure = go.Figure(data=data, layout=layout)\n",
        "pyo.iplot(figure)   "
      ],
      "execution_count": 16,
      "outputs": [
        {
          "output_type": "display_data",
          "data": {
            "text/html": [
              "<html>\n",
              "<head><meta charset=\"utf-8\" /></head>\n",
              "<body>\n",
              "    <div>\n",
              "            <script src=\"https://cdnjs.cloudflare.com/ajax/libs/mathjax/2.7.5/MathJax.js?config=TeX-AMS-MML_SVG\"></script><script type=\"text/javascript\">if (window.MathJax) {MathJax.Hub.Config({SVG: {font: \"STIX-Web\"}});}</script>\n",
              "                <script type=\"text/javascript\">window.PlotlyConfig = {MathJaxConfig: 'local'};</script>\n",
              "        <script src=\"https://cdn.plot.ly/plotly-latest.min.js\"></script>    \n",
              "            <div id=\"cd9ecd03-d381-4f88-9b11-a52386a05fe5\" class=\"plotly-graph-div\" style=\"height:525px; width:100%;\"></div>\n",
              "            <script type=\"text/javascript\">\n",
              "                \n",
              "                    window.PLOTLYENV=window.PLOTLYENV || {};\n",
              "                    \n",
              "                if (document.getElementById(\"cd9ecd03-d381-4f88-9b11-a52386a05fe5\")) {\n",
              "                    Plotly.newPlot(\n",
              "                        'cd9ecd03-d381-4f88-9b11-a52386a05fe5',\n",
              "                        [{\"marker\": {\"color\": [8, 8, 8, 8, 8, 8, 8, 8, 8, 8, 8, 8, 8, 8, 4, 6, 6, 6, 4, 4, 4, 4, 4, 4, 6, 8, 8, 8, 8, 4, 4, 4, 4, 6, 6, 6, 6, 6, 8, 8, 8, 8, 8, 8, 8, 6, 4, 6, 6, 4, 4, 4, 4, 4, 4, 4, 4, 4, 4, 4, 4, 4, 8, 8, 8, 8, 8, 8, 8, 8, 8, 3, 8, 8, 8, 8, 4, 4, 4, 4, 4, 4, 4, 4, 4, 8, 8, 8, 8, 8, 8, 8, 8, 8, 8, 8, 8, 6, 6, 6, 6, 6, 4, 8, 8, 8, 8, 6, 4, 4, 4, 3, 4, 6, 4, 8, 8, 4, 4, 4, 4, 8, 4, 6, 8, 6, 6, 6, 6, 4, 4, 4, 4, 6, 6, 6, 8, 8, 8, 8, 8, 4, 4, 4, 4, 4, 4, 4, 4, 4, 4, 4, 6, 6, 6, 6, 8, 8, 8, 8, 6, 6, 6, 6, 6, 8, 8, 4, 4, 6, 4, 4, 4, 4, 6, 4, 6, 4, 4, 4, 4, 4, 4, 4, 4, 4, 4, 8, 8, 8, 8, 6, 6, 6, 6, 4, 4, 4, 4, 6, 6, 6, 6, 4, 4, 4, 4, 4, 8, 4, 6, 6, 8, 8, 8, 8, 4, 4, 4, 4, 4, 8, 8, 8, 8, 6, 6, 6, 6, 8, 8, 8, 8, 4, 4, 4, 4, 4, 4, 4, 4, 6, 4, 3, 4, 4, 4, 4, 4, 8, 8, 8, 6, 6, 6, 4, 6, 6, 6, 6, 6, 6, 8, 6, 8, 8, 4, 4, 4, 4, 4, 4, 4, 4, 5, 6, 4, 6, 4, 4, 6, 6, 4, 6, 6, 8, 8, 8, 8, 8, 8, 8, 8, 4, 4, 4, 4, 5, 8, 4, 8, 4, 4, 4, 4, 4, 6, 6, 4, 4, 4, 4, 4, 4, 4, 4, 6, 4, 4, 4, 4, 4, 4, 4, 4, 4, 4, 5, 4, 4, 4, 4, 4, 6, 3, 4, 4, 4, 4, 4, 4, 6, 4, 4, 4, 4, 4, 4, 4, 4, 4, 4, 4, 4, 4, 4, 4, 4, 4, 4, 6, 6, 6, 6, 8, 6, 6, 4, 4, 4, 4, 4, 4, 4, 4, 4, 4, 4, 4, 4, 4, 4, 4, 4, 4, 4, 6, 6, 4, 6, 4, 4, 4, 4, 4, 4, 4, 4], \"showscale\": true, \"size\": [17.52, 18.465, 17.18, 17.165, 17.245, 21.705, 21.77, 21.56, 22.125, 19.25, 17.815, 18.045, 18.805, 15.43, 11.86, 14.165, 13.87, 12.935, 10.65, 9.175, 13.36, 12.15, 11.875, 11.17, 13.24, 23.075, 21.88, 21.91, 23.66, 10.65, 11.32, 11.14, 10.23, 13.17, 17.195, 16.645, 16.51, 16.44, 21.045, 22.32, 20.77, 20.48, 24.775, 23.73, 25.7, 14.81, 12.04, 16.41, 15.695, 11.1, 10.615, 10.37, 10.325, 8.865, 8.065, 9.17, 9.775, 11.39, 10.63, 11.27, 12.04, 11.13, 21.37, 21.925, 20.675, 20.645, 18.36, 23.165, 22.51, 22.28, 22.11, 11.65, 19.46, 20.49, 21.47, 20.385, 14.665, 12.555, 14.895, 10.945, 11.975, 11.44, 12.53, 10.82, 10.5, 20.5, 18.36, 19.94, 20.21, 18.885, 24.76, 22.32, 21.815, 21.185, 23.675, 24.755, 19.105, 15.605, 16.39, 14.725, 15.105, 14.52, 9.75, 24.985, 24.53, 23.27, 22.495, 13.945, 11.395, 12.005, 11.895, 10.62, 11.55, 12.36, 11.325, 20.41, 21.39, 9.335, 10.79, 12.91, 14.34, 16.995, 13.3, 14.035, 18.32, 15.51, 14.375, 14.505, 16.68, 9.75, 12.255, 9.18, 12.71, 18.905, 18.16, 18.065, 20.705, 23.495, 22.285, 23.19, 21.285, 11.095, 9.815, 11.5, 8.245, 10.015, 10.625, 10.54, 11.23, 12.445, 11.955, 10.0, 16.32, 17.295, 17.16, 15.79, 23.34, 22.2, 22.49, 23.285, 19.535, 19.485, 18.65, 18.925, 15.195, 16.105, 15.845, 10.855, 13.195, 14.57, 12.96, 13.51, 11.115, 12.725, 14.92, 9.685, 16.055, 13.47, 14.785, 14.725, 13.355, 8.975, 12.32, 11.1, 12.86, 11.275, 11.01, 21.075, 20.95, 19.81, 21.075, 16.165, 16.765, 15.06, 15.425, 10.175, 10.82, 9.685, 8.975, 18.255, 17.87, 18.225, 15.965, 9.125, 9.95, 10.775, 12.825, 15.75, 19.7, 16.35, 14.65, 19.1, 21.9, 20.275, 19.35, 18.775, 10.225, 10.775, 9.125, 11.5, 9.725, 19.4, 20.3, 20.7, 21.475, 17.6, 17.125, 18.15, 17.625, 21.1, 20.825, 21.625, 21.675, 9.7, 13.7, 11.325, 13.775, 10.255, 10.375, 9.925, 10.95, 14.075, 13.0, 13.6, 9.925, 9.0, 9.925, 10.35, 9.0, 16.825, 18.675, 17.85, 17.675, 15.775, 14.825, 13.6, 17.15, 16.05, 16.9, 15.35, 18.1, 17.05, 17.125, 17.225, 16.025, 20.4, 10.775, 12.8, 11.5, 11.15, 12.575, 13.725, 14.275, 12.025, 14.15, 15.7, 13.975, 17.05, 9.95, 10.675, 16.225, 14.95, 14.45, 16.325, 16.8, 19.2, 18.625, 19.775, 19.15, 21.8, 20.27, 18.025, 19.7, 9.625, 9.875, 9.575, 13.35, 17.65, 19.5, 15.95, 17.1, 11.0, 10.75, 10.1, 10.65, 13.35, 12.975, 13.5, 12.78, 10.72, 9.84, 10.6, 10.095, 13.39, 14.35, 15.015, 16.905, 10.94, 13.555, 12.71, 12.17, 11.325, 10.55, 14.0, 10.55, 10.425, 11.675, 14.75, 16.25, 9.25, 9.175, 10.725, 9.225, 14.55, 12.1, 12.5, 14.525, 11.45, 12.45, 13.175, 13.1, 13.625, 11.925, 8.775, 9.375, 8.8, 10.325, 9.875, 10.25, 9.925, 11.075, 10.225, 11.9, 10.95, 11.6, 11.05, 11.75, 13.075, 13.175, 16.15, 15.8, 14.5, 14.65, 17.075, 18.625, 15.3, 17.325, 13.025, 13.2, 11.975, 12.875, 12.625, 13.675, 14.325, 15.175, 9.9, 10.125, 9.85, 10.625, 10.625, 10.8, 11.025, 11.225, 9.825, 9.825, 9.975, 14.725, 15.075, 12.925, 14.175, 13.325, 11.85, 14.75, 13.95, 10.65, 11.475, 13.125, 13.6]}, \"mode\": \"markers\", \"text\": [\"chevrolet chevelle malibu\", \"buick skylark 320\", \"plymouth satellite\", \"amc rebel sst\", \"ford torino\", \"ford galaxie 500\", \"chevrolet impala\", \"plymouth fury iii\", \"pontiac catalina\", \"amc ambassador dpl\", \"dodge challenger se\", \"plymouth 'cuda 340\", \"chevrolet monte carlo\", \"buick estate wagon (sw)\", \"toyota corona mark ii\", \"plymouth duster\", \"amc hornet\", \"ford maverick\", \"datsun pl510\", \"volkswagen 1131 deluxe sedan\", \"peugeot 504\", \"audi 100 ls\", \"saab 99e\", \"bmw 2002\", \"amc gremlin\", \"ford f250\", \"chevy c20\", \"dodge d200\", \"hi 1200d\", \"datsun pl510\", \"chevrolet vega 2300\", \"toyota corona\", \"ford pinto\", \"amc gremlin\", \"plymouth satellite custom\", \"chevrolet chevelle malibu\", \"ford torino 500\", \"amc matador\", \"chevrolet impala\", \"pontiac catalina brougham\", \"ford galaxie 500\", \"plymouth fury iii\", \"dodge monaco (sw)\", \"ford country squire (sw)\", \"pontiac safari (sw)\", \"amc hornet sportabout (sw)\", \"chevrolet vega (sw)\", \"pontiac firebird\", \"ford mustang\", \"mercury capri 2000\", \"opel 1900\", \"peugeot 304\", \"fiat 124b\", \"toyota corolla 1200\", \"datsun 1200\", \"volkswagen model 111\", \"plymouth cricket\", \"toyota corona hardtop\", \"dodge colt hardtop\", \"volkswagen type 3\", \"chevrolet vega\", \"ford pinto runabout\", \"chevrolet impala\", \"pontiac catalina\", \"plymouth fury iii\", \"ford galaxie 500\", \"amc ambassador sst\", \"mercury marquis\", \"buick lesabre custom\", \"oldsmobile delta 88 royale\", \"chrysler newport royal\", \"mazda rx2 coupe\", \"amc matador (sw)\", \"chevrolet chevelle concours (sw)\", \"ford gran torino (sw)\", \"plymouth satellite custom (sw)\", \"volvo 145e (sw)\", \"volkswagen 411 (sw)\", \"peugeot 504 (sw)\", \"renault 12 (sw)\", \"ford pinto (sw)\", \"datsun 510 (sw)\", \"toyouta corona mark ii (sw)\", \"dodge colt (sw)\", \"toyota corolla 1600 (sw)\", \"buick century 350\", \"amc matador\", \"chevrolet malibu\", \"ford gran torino\", \"dodge coronet custom\", \"mercury marquis brougham\", \"chevrolet caprice classic\", \"ford ltd\", \"plymouth fury gran sedan\", \"chrysler new yorker brougham\", \"buick electra 225 custom\", \"amc ambassador brougham\", \"plymouth valiant\", \"chevrolet nova custom\", \"amc hornet\", \"ford maverick\", \"plymouth duster\", \"volkswagen super beetle\", \"chevrolet impala\", \"ford country\", \"plymouth custom suburb\", \"oldsmobile vista cruiser\", \"amc gremlin\", \"toyota carina\", \"chevrolet vega\", \"datsun 610\", \"maxda rx3\", \"ford pinto\", \"mercury capri v6\", \"fiat 124 sport coupe\", \"chevrolet monte carlo s\", \"pontiac grand prix\", \"fiat 128\", \"opel manta\", \"audi 100ls\", \"volvo 144ea\", \"dodge dart custom\", \"saab 99le\", \"toyota mark ii\", \"oldsmobile omega\", \"plymouth duster\", \"ford maverick\", \"amc hornet\", \"chevrolet nova\", \"datsun b210\", \"ford pinto\", \"toyota corolla 1200\", \"chevrolet vega\", \"chevrolet chevelle malibu classic\", \"amc matador\", \"plymouth satellite sebring\", \"ford gran torino\", \"buick century luxus (sw)\", \"dodge coronet custom (sw)\", \"ford gran torino (sw)\", \"amc matador (sw)\", \"audi fox\", \"volkswagen dasher\", \"opel manta\", \"toyota corona\", \"datsun 710\", \"dodge colt\", \"fiat 128\", \"fiat 124 tc\", \"honda civic\", \"subaru\", \"fiat x1.9\", \"plymouth valiant custom\", \"chevrolet nova\", \"mercury monarch\", \"ford maverick\", \"pontiac catalina\", \"chevrolet bel air\", \"plymouth grand fury\", \"ford ltd\", \"buick century\", \"chevroelt chevelle malibu\", \"amc matador\", \"plymouth fury\", \"buick skyhawk\", \"chevrolet monza 2+2\", \"ford mustang ii\", \"toyota corolla\", \"ford pinto\", \"amc gremlin\", \"pontiac astro\", \"toyota corona\", \"volkswagen dasher\", \"datsun 710\", \"ford pinto\", \"volkswagen rabbit\", \"amc pacer\", \"audi 100ls\", \"peugeot 504\", \"volvo 244dl\", \"saab 99le\", \"honda civic cvcc\", \"fiat 131\", \"opel 1900\", \"capri ii\", \"dodge colt\", \"renault 12tl\", \"chevrolet chevelle malibu classic\", \"dodge coronet brougham\", \"amc matador\", \"ford gran torino\", \"plymouth valiant\", \"chevrolet nova\", \"ford maverick\", \"amc hornet\", \"chevrolet chevette\", \"chevrolet woody\", \"vw rabbit\", \"honda civic\", \"dodge aspen se\", \"ford granada ghia\", \"pontiac ventura sj\", \"amc pacer d/l\", \"volkswagen rabbit\", \"datsun b-210\", \"toyota corolla\", \"ford pinto\", \"volvo 245\", \"plymouth volare premier v8\", \"peugeot 504\", \"toyota mark ii\", \"mercedes-benz 280s\", \"cadillac seville\", \"chevy c10\", \"ford f108\", \"dodge d100\", \"honda accord cvcc\", \"buick opel isuzu deluxe\", \"renault 5 gtl\", \"plymouth arrow gs\", \"datsun f-10 hatchback\", \"chevrolet caprice classic\", \"oldsmobile cutlass supreme\", \"dodge monaco brougham\", \"mercury cougar brougham\", \"chevrolet concours\", \"buick skylark\", \"plymouth volare custom\", \"ford granada\", \"pontiac grand prix lj\", \"chevrolet monte carlo landau\", \"chrysler cordoba\", \"ford thunderbird\", \"volkswagen rabbit custom\", \"pontiac sunbird coupe\", \"toyota corolla liftback\", \"ford mustang ii 2+2\", \"chevrolet chevette\", \"dodge colt m/m\", \"subaru dl\", \"volkswagen dasher\", \"datsun 810\", \"bmw 320i\", \"mazda rx-4\", \"volkswagen rabbit custom diesel\", \"ford fiesta\", \"mazda glc deluxe\", \"datsun b210 gx\", \"honda civic cvcc\", \"oldsmobile cutlass salon brougham\", \"dodge diplomat\", \"mercury monarch ghia\", \"pontiac phoenix lj\", \"chevrolet malibu\", \"ford fairmont (auto)\", \"ford fairmont (man)\", \"plymouth volare\", \"amc concord\", \"buick century special\", \"mercury zephyr\", \"dodge aspen\", \"amc concord d/l\", \"chevrolet monte carlo landau\", \"buick regal sport coupe (turbo)\", \"ford futura\", \"dodge magnum xe\", \"chevrolet chevette\", \"toyota corona\", \"datsun 510\", \"dodge omni\", \"toyota celica gt liftback\", \"plymouth sapporo\", \"oldsmobile starfire sx\", \"datsun 200-sx\", \"audi 5000\", \"volvo 264gl\", \"saab 99gle\", \"peugeot 604sl\", \"volkswagen scirocco\", \"honda accord lx\", \"pontiac lemans v6\", \"mercury zephyr 6\", \"ford fairmont 4\", \"amc concord dl 6\", \"dodge aspen 6\", \"chevrolet caprice classic\", \"ford ltd landau\", \"mercury grand marquis\", \"dodge st. regis\", \"buick estate wagon (sw)\", \"ford country squire (sw)\", \"chevrolet malibu classic (sw)\", \"chrysler lebaron town @ country (sw)\", \"vw rabbit custom\", \"maxda glc deluxe\", \"dodge colt hatchback custom\", \"amc spirit dl\", \"mercedes benz 300d\", \"cadillac eldorado\", \"peugeot 504\", \"oldsmobile cutlass salon brougham\", \"plymouth horizon\", \"plymouth horizon tc3\", \"datsun 210\", \"fiat strada custom\", \"buick skylark limited\", \"chevrolet citation\", \"oldsmobile omega brougham\", \"pontiac phoenix\", \"vw rabbit\", \"toyota corolla tercel\", \"chevrolet chevette\", \"datsun 310\", \"chevrolet citation\", \"ford fairmont\", \"amc concord\", \"dodge aspen\", \"audi 4000\", \"toyota corona liftback\", \"mazda 626\", \"datsun 510 hatchback\", \"toyota corolla\", \"mazda glc\", \"dodge colt\", \"datsun 210\", \"vw rabbit c (diesel)\", \"vw dasher (diesel)\", \"audi 5000s (diesel)\", \"mercedes-benz 240d\", \"honda civic 1500 gl\", \"renault lecar deluxe\", \"subaru dl\", \"vokswagen rabbit\", \"datsun 280-zx\", \"mazda rx-7 gs\", \"triumph tr7 coupe\", \"ford mustang cobra\", \"honda accord\", \"plymouth reliant\", \"buick skylark\", \"dodge aries wagon (sw)\", \"chevrolet citation\", \"plymouth reliant\", \"toyota starlet\", \"plymouth champ\", \"honda civic 1300\", \"subaru\", \"datsun 210 mpg\", \"toyota tercel\", \"mazda glc 4\", \"plymouth horizon 4\", \"ford escort 4w\", \"ford escort 2h\", \"volkswagen jetta\", \"renault 18i\", \"honda prelude\", \"toyota corolla\", \"datsun 200sx\", \"mazda 626\", \"peugeot 505s turbo diesel\", \"volvo diesel\", \"toyota cressida\", \"datsun 810 maxima\", \"buick century\", \"oldsmobile cutlass ls\", \"ford granada gl\", \"chrysler lebaron salon\", \"chevrolet cavalier\", \"chevrolet cavalier wagon\", \"chevrolet cavalier 2-door\", \"pontiac j2000 se hatchback\", \"dodge aries se\", \"pontiac phoenix\", \"ford fairmont futura\", \"amc concord dl\", \"volkswagen rabbit l\", \"mazda glc custom l\", \"mazda glc custom\", \"plymouth horizon miser\", \"mercury lynx l\", \"nissan stanza xe\", \"honda accord\", \"toyota corolla\", \"honda civic\", \"honda civic (auto)\", \"datsun 310 gx\", \"buick century limited\", \"oldsmobile cutlass ciera (diesel)\", \"chrysler lebaron medallion\", \"ford granada l\", \"toyota celica gt\", \"dodge charger 2.2\", \"chevrolet camaro\", \"ford mustang gl\", \"vw pickup\", \"dodge rampage\", \"ford ranger\", \"chevy s-10\"], \"type\": \"scatter\", \"x\": [12.0, 11.5, 11.0, 12.0, 10.5, 10.0, 9.0, 8.5, 10.0, 8.5, 10.0, 8.0, 9.5, 10.0, 15.0, 15.5, 15.5, 16.0, 14.5, 20.5, 17.5, 14.5, 17.5, 12.5, 15.0, 14.0, 15.0, 13.5, 18.5, 14.5, 15.5, 14.0, 19.0, 13.0, 15.5, 15.5, 15.5, 15.5, 12.0, 11.5, 13.5, 13.0, 11.5, 12.0, 12.0, 13.5, 19.0, 15.0, 14.5, 14.0, 14.0, 19.5, 14.5, 19.0, 18.0, 19.0, 20.5, 15.5, 17.0, 23.5, 19.5, 16.5, 12.0, 12.0, 13.5, 13.0, 11.5, 11.0, 13.5, 13.5, 12.5, 13.5, 12.5, 14.0, 16.0, 14.0, 14.5, 18.0, 19.5, 18.0, 16.0, 17.0, 14.5, 15.0, 16.5, 13.0, 11.5, 13.0, 14.5, 12.5, 11.5, 12.0, 13.0, 14.5, 11.0, 11.0, 11.0, 16.5, 18.0, 16.0, 16.5, 16.0, 21.0, 14.0, 12.5, 13.0, 12.5, 15.0, 19.0, 19.5, 16.5, 13.5, 18.5, 14.0, 15.5, 13.0, 9.5, 19.5, 15.5, 14.0, 15.5, 11.0, 14.0, 13.5, 11.0, 16.5, 17.0, 16.0, 17.0, 19.0, 16.5, 21.0, 17.0, 17.0, 18.0, 16.5, 14.0, 14.5, 13.5, 16.0, 15.5, 16.5, 15.5, 14.5, 16.5, 19.0, 14.5, 15.5, 14.0, 15.0, 15.5, 16.0, 16.0, 16.0, 21.0, 19.5, 11.5, 14.0, 14.5, 13.5, 21.0, 18.5, 19.0, 19.0, 15.0, 13.5, 12.0, 16.0, 17.0, 16.0, 18.5, 13.5, 16.5, 17.0, 14.5, 14.0, 17.0, 15.0, 17.0, 14.5, 13.5, 17.5, 15.5, 16.9, 14.9, 17.7, 15.3, 13.0, 13.0, 13.9, 12.8, 15.4, 14.5, 17.6, 17.6, 22.2, 22.1, 14.2, 17.4, 17.7, 21.0, 16.2, 17.8, 12.2, 17.0, 16.4, 13.6, 15.7, 13.2, 21.9, 15.5, 16.7, 12.1, 12.0, 15.0, 14.0, 18.5, 14.8, 18.6, 15.5, 16.8, 12.5, 19.0, 13.7, 14.9, 16.4, 16.9, 17.7, 19.0, 11.1, 11.4, 12.2, 14.5, 14.5, 16.0, 18.2, 15.8, 17.0, 15.9, 16.4, 14.1, 14.5, 12.8, 13.5, 21.5, 14.4, 19.4, 18.6, 16.4, 15.5, 13.2, 12.8, 19.2, 18.2, 15.8, 15.4, 17.2, 17.2, 15.8, 16.7, 18.7, 15.1, 13.2, 13.4, 11.2, 13.7, 16.5, 14.2, 14.7, 14.5, 14.8, 16.7, 17.6, 14.9, 15.9, 13.6, 15.7, 15.8, 14.9, 16.6, 15.4, 18.2, 17.3, 18.2, 16.6, 15.4, 13.4, 13.2, 15.2, 14.9, 14.3, 15.0, 13.0, 14.0, 15.2, 14.4, 15.0, 20.1, 17.4, 24.8, 22.2, 13.2, 14.9, 19.2, 14.7, 16.0, 11.3, 12.9, 13.2, 14.7, 18.8, 15.5, 16.4, 16.5, 18.1, 20.1, 18.7, 15.8, 15.5, 17.5, 15.0, 15.2, 17.9, 14.4, 19.2, 21.7, 23.7, 19.9, 21.8, 13.8, 17.3, 18.0, 15.3, 11.4, 12.5, 15.1, 14.3, 17.0, 15.7, 16.4, 14.4, 12.6, 12.9, 16.9, 16.4, 16.1, 17.8, 19.4, 17.3, 16.0, 14.9, 16.2, 20.7, 14.2, 15.8, 14.4, 16.8, 14.8, 18.3, 20.4, 19.6, 12.6, 13.8, 15.8, 19.0, 17.1, 16.6, 19.6, 18.6, 18.0, 16.2, 16.0, 18.0, 16.4, 20.5, 15.3, 18.2, 17.6, 14.7, 17.3, 14.5, 14.5, 16.9, 15.0, 15.7, 16.2, 16.4, 17.0, 14.5, 14.7, 13.9, 13.0, 17.3, 15.6, 24.6, 11.6, 18.6, 19.4], \"y\": [307.0, 350.0, 318.0, 304.0, 302.0, 429.0, 454.0, 440.0, 455.0, 390.0, 383.0, 340.0, 400.0, 455.0, 113.0, 198.0, 199.0, 200.0, 97.0, 97.0, 110.0, 107.0, 104.0, 121.0, 199.0, 360.0, 307.0, 318.0, 304.0, 97.0, 140.0, 113.0, 98.0, 232.0, 225.0, 250.0, 250.0, 232.0, 350.0, 400.0, 351.0, 318.0, 383.0, 400.0, 400.0, 258.0, 140.0, 250.0, 250.0, 122.0, 116.0, 79.0, 88.0, 71.0, 72.0, 97.0, 91.0, 113.0, 97.5, 97.0, 140.0, 122.0, 350.0, 400.0, 318.0, 351.0, 304.0, 429.0, 350.0, 350.0, 400.0, 70.0, 304.0, 307.0, 302.0, 318.0, 121.0, 121.0, 120.0, 96.0, 122.0, 97.0, 120.0, 98.0, 97.0, 350.0, 304.0, 350.0, 302.0, 318.0, 429.0, 400.0, 351.0, 318.0, 440.0, 455.0, 360.0, 225.0, 250.0, 232.0, 250.0, 198.0, 97.0, 400.0, 400.0, 360.0, 350.0, 232.0, 97.0, 140.0, 108.0, 70.0, 122.0, 155.0, 98.0, 350.0, 400.0, 68.0, 116.0, 114.0, 121.0, 318.0, 121.0, 156.0, 350.0, 198.0, 200.0, 232.0, 250.0, 79.0, 122.0, 71.0, 140.0, 250.0, 258.0, 225.0, 302.0, 350.0, 318.0, 302.0, 304.0, 98.0, 79.0, 97.0, 76.0, 83.0, 90.0, 90.0, 116.0, 120.0, 108.0, 79.0, 225.0, 250.0, 250.0, 250.0, 400.0, 350.0, 318.0, 351.0, 231.0, 250.0, 258.0, 225.0, 231.0, 262.0, 302.0, 97.0, 140.0, 232.0, 140.0, 134.0, 90.0, 119.0, 171.0, 90.0, 232.0, 115.0, 120.0, 121.0, 121.0, 91.0, 107.0, 116.0, 140.0, 98.0, 101.0, 305.0, 318.0, 304.0, 351.0, 225.0, 250.0, 200.0, 232.0, 85.0, 98.0, 90.0, 91.0, 225.0, 250.0, 250.0, 258.0, 97.0, 85.0, 97.0, 140.0, 130.0, 318.0, 120.0, 156.0, 168.0, 350.0, 350.0, 302.0, 318.0, 98.0, 111.0, 79.0, 122.0, 85.0, 305.0, 260.0, 318.0, 302.0, 250.0, 231.0, 225.0, 250.0, 400.0, 350.0, 400.0, 351.0, 97.0, 151.0, 97.0, 140.0, 98.0, 98.0, 97.0, 97.0, 146.0, 121.0, 80.0, 90.0, 98.0, 78.0, 85.0, 91.0, 260.0, 318.0, 302.0, 231.0, 200.0, 200.0, 140.0, 225.0, 232.0, 231.0, 200.0, 225.0, 258.0, 305.0, 231.0, 302.0, 318.0, 98.0, 134.0, 119.0, 105.0, 134.0, 156.0, 151.0, 119.0, 131.0, 163.0, 121.0, 163.0, 89.0, 98.0, 231.0, 200.0, 140.0, 232.0, 225.0, 305.0, 302.0, 351.0, 318.0, 350.0, 351.0, 267.0, 360.0, 89.0, 86.0, 98.0, 121.0, 183.0, 350.0, 141.0, 260.0, 105.0, 105.0, 85.0, 91.0, 151.0, 173.0, 173.0, 151.0, 98.0, 89.0, 98.0, 86.0, 151.0, 140.0, 151.0, 225.0, 97.0, 134.0, 120.0, 119.0, 108.0, 86.0, 156.0, 85.0, 90.0, 90.0, 121.0, 146.0, 91.0, 85.0, 97.0, 89.0, 168.0, 70.0, 122.0, 140.0, 107.0, 135.0, 151.0, 156.0, 173.0, 135.0, 79.0, 86.0, 81.0, 97.0, 85.0, 89.0, 91.0, 105.0, 98.0, 98.0, 105.0, 100.0, 107.0, 108.0, 119.0, 120.0, 141.0, 145.0, 168.0, 146.0, 231.0, 350.0, 200.0, 225.0, 112.0, 112.0, 112.0, 112.0, 135.0, 151.0, 140.0, 151.0, 105.0, 91.0, 91.0, 105.0, 98.0, 120.0, 107.0, 108.0, 91.0, 91.0, 91.0, 181.0, 262.0, 156.0, 232.0, 144.0, 135.0, 151.0, 140.0, 97.0, 135.0, 120.0, 119.0]}],\n",
              "                        {\"hovermode\": \"x\", \"template\": {\"data\": {\"bar\": [{\"error_x\": {\"color\": \"#2a3f5f\"}, \"error_y\": {\"color\": \"#2a3f5f\"}, \"marker\": {\"line\": {\"color\": \"#E5ECF6\", \"width\": 0.5}}, \"type\": \"bar\"}], \"barpolar\": [{\"marker\": {\"line\": {\"color\": \"#E5ECF6\", \"width\": 0.5}}, \"type\": \"barpolar\"}], \"carpet\": [{\"aaxis\": {\"endlinecolor\": \"#2a3f5f\", \"gridcolor\": \"white\", \"linecolor\": \"white\", \"minorgridcolor\": \"white\", \"startlinecolor\": \"#2a3f5f\"}, \"baxis\": {\"endlinecolor\": \"#2a3f5f\", \"gridcolor\": \"white\", \"linecolor\": \"white\", \"minorgridcolor\": \"white\", \"startlinecolor\": \"#2a3f5f\"}, \"type\": \"carpet\"}], \"choropleth\": [{\"colorbar\": {\"outlinewidth\": 0, \"ticks\": \"\"}, \"type\": \"choropleth\"}], \"contour\": [{\"colorbar\": {\"outlinewidth\": 0, \"ticks\": \"\"}, \"colorscale\": [[0.0, \"#0d0887\"], [0.1111111111111111, \"#46039f\"], [0.2222222222222222, \"#7201a8\"], [0.3333333333333333, \"#9c179e\"], [0.4444444444444444, \"#bd3786\"], [0.5555555555555556, \"#d8576b\"], [0.6666666666666666, \"#ed7953\"], [0.7777777777777778, \"#fb9f3a\"], [0.8888888888888888, \"#fdca26\"], [1.0, \"#f0f921\"]], \"type\": \"contour\"}], \"contourcarpet\": [{\"colorbar\": {\"outlinewidth\": 0, \"ticks\": \"\"}, \"type\": \"contourcarpet\"}], \"heatmap\": [{\"colorbar\": {\"outlinewidth\": 0, \"ticks\": \"\"}, \"colorscale\": [[0.0, \"#0d0887\"], [0.1111111111111111, \"#46039f\"], [0.2222222222222222, \"#7201a8\"], [0.3333333333333333, \"#9c179e\"], [0.4444444444444444, \"#bd3786\"], [0.5555555555555556, \"#d8576b\"], [0.6666666666666666, \"#ed7953\"], [0.7777777777777778, \"#fb9f3a\"], [0.8888888888888888, \"#fdca26\"], [1.0, \"#f0f921\"]], \"type\": \"heatmap\"}], \"heatmapgl\": [{\"colorbar\": {\"outlinewidth\": 0, \"ticks\": \"\"}, \"colorscale\": [[0.0, \"#0d0887\"], [0.1111111111111111, \"#46039f\"], [0.2222222222222222, \"#7201a8\"], [0.3333333333333333, \"#9c179e\"], [0.4444444444444444, \"#bd3786\"], [0.5555555555555556, \"#d8576b\"], [0.6666666666666666, \"#ed7953\"], [0.7777777777777778, \"#fb9f3a\"], [0.8888888888888888, \"#fdca26\"], [1.0, \"#f0f921\"]], \"type\": \"heatmapgl\"}], \"histogram\": [{\"marker\": {\"colorbar\": {\"outlinewidth\": 0, \"ticks\": \"\"}}, \"type\": \"histogram\"}], \"histogram2d\": [{\"colorbar\": {\"outlinewidth\": 0, \"ticks\": \"\"}, \"colorscale\": [[0.0, \"#0d0887\"], [0.1111111111111111, \"#46039f\"], [0.2222222222222222, \"#7201a8\"], [0.3333333333333333, \"#9c179e\"], [0.4444444444444444, \"#bd3786\"], [0.5555555555555556, \"#d8576b\"], [0.6666666666666666, \"#ed7953\"], [0.7777777777777778, \"#fb9f3a\"], [0.8888888888888888, \"#fdca26\"], [1.0, \"#f0f921\"]], \"type\": \"histogram2d\"}], \"histogram2dcontour\": [{\"colorbar\": {\"outlinewidth\": 0, \"ticks\": \"\"}, \"colorscale\": [[0.0, \"#0d0887\"], [0.1111111111111111, \"#46039f\"], [0.2222222222222222, \"#7201a8\"], [0.3333333333333333, \"#9c179e\"], [0.4444444444444444, \"#bd3786\"], [0.5555555555555556, \"#d8576b\"], [0.6666666666666666, \"#ed7953\"], [0.7777777777777778, \"#fb9f3a\"], [0.8888888888888888, \"#fdca26\"], [1.0, \"#f0f921\"]], \"type\": \"histogram2dcontour\"}], \"mesh3d\": [{\"colorbar\": {\"outlinewidth\": 0, \"ticks\": \"\"}, \"type\": \"mesh3d\"}], \"parcoords\": [{\"line\": {\"colorbar\": {\"outlinewidth\": 0, \"ticks\": \"\"}}, \"type\": \"parcoords\"}], \"scatter\": [{\"marker\": {\"colorbar\": {\"outlinewidth\": 0, \"ticks\": \"\"}}, \"type\": \"scatter\"}], \"scatter3d\": [{\"line\": {\"colorbar\": {\"outlinewidth\": 0, \"ticks\": \"\"}}, \"marker\": {\"colorbar\": {\"outlinewidth\": 0, \"ticks\": \"\"}}, \"type\": \"scatter3d\"}], \"scattercarpet\": [{\"marker\": {\"colorbar\": {\"outlinewidth\": 0, \"ticks\": \"\"}}, \"type\": \"scattercarpet\"}], \"scattergeo\": [{\"marker\": {\"colorbar\": {\"outlinewidth\": 0, \"ticks\": \"\"}}, \"type\": \"scattergeo\"}], \"scattergl\": [{\"marker\": {\"colorbar\": {\"outlinewidth\": 0, \"ticks\": \"\"}}, \"type\": \"scattergl\"}], \"scattermapbox\": [{\"marker\": {\"colorbar\": {\"outlinewidth\": 0, \"ticks\": \"\"}}, \"type\": \"scattermapbox\"}], \"scatterpolar\": [{\"marker\": {\"colorbar\": {\"outlinewidth\": 0, \"ticks\": \"\"}}, \"type\": \"scatterpolar\"}], \"scatterpolargl\": [{\"marker\": {\"colorbar\": {\"outlinewidth\": 0, \"ticks\": \"\"}}, \"type\": \"scatterpolargl\"}], \"scatterternary\": [{\"marker\": {\"colorbar\": {\"outlinewidth\": 0, \"ticks\": \"\"}}, \"type\": \"scatterternary\"}], \"surface\": [{\"colorbar\": {\"outlinewidth\": 0, \"ticks\": \"\"}, \"colorscale\": [[0.0, \"#0d0887\"], [0.1111111111111111, \"#46039f\"], [0.2222222222222222, \"#7201a8\"], [0.3333333333333333, \"#9c179e\"], [0.4444444444444444, \"#bd3786\"], [0.5555555555555556, \"#d8576b\"], [0.6666666666666666, \"#ed7953\"], [0.7777777777777778, \"#fb9f3a\"], [0.8888888888888888, \"#fdca26\"], [1.0, \"#f0f921\"]], \"type\": \"surface\"}], \"table\": [{\"cells\": {\"fill\": {\"color\": \"#EBF0F8\"}, \"line\": {\"color\": \"white\"}}, \"header\": {\"fill\": {\"color\": \"#C8D4E3\"}, \"line\": {\"color\": \"white\"}}, \"type\": \"table\"}]}, \"layout\": {\"annotationdefaults\": {\"arrowcolor\": \"#2a3f5f\", \"arrowhead\": 0, \"arrowwidth\": 1}, \"colorscale\": {\"diverging\": [[0, \"#8e0152\"], [0.1, \"#c51b7d\"], [0.2, \"#de77ae\"], [0.3, \"#f1b6da\"], [0.4, \"#fde0ef\"], [0.5, \"#f7f7f7\"], [0.6, \"#e6f5d0\"], [0.7, \"#b8e186\"], [0.8, \"#7fbc41\"], [0.9, \"#4d9221\"], [1, \"#276419\"]], \"sequential\": [[0.0, \"#0d0887\"], [0.1111111111111111, \"#46039f\"], [0.2222222222222222, \"#7201a8\"], [0.3333333333333333, \"#9c179e\"], [0.4444444444444444, \"#bd3786\"], [0.5555555555555556, \"#d8576b\"], [0.6666666666666666, \"#ed7953\"], [0.7777777777777778, \"#fb9f3a\"], [0.8888888888888888, \"#fdca26\"], [1.0, \"#f0f921\"]], \"sequentialminus\": [[0.0, \"#0d0887\"], [0.1111111111111111, \"#46039f\"], [0.2222222222222222, \"#7201a8\"], [0.3333333333333333, \"#9c179e\"], [0.4444444444444444, \"#bd3786\"], [0.5555555555555556, \"#d8576b\"], [0.6666666666666666, \"#ed7953\"], [0.7777777777777778, \"#fb9f3a\"], [0.8888888888888888, \"#fdca26\"], [1.0, \"#f0f921\"]]}, \"colorway\": [\"#636efa\", \"#EF553B\", \"#00cc96\", \"#ab63fa\", \"#FFA15A\", \"#19d3f3\", \"#FF6692\", \"#B6E880\", \"#FF97FF\", \"#FECB52\"], \"font\": {\"color\": \"#2a3f5f\"}, \"geo\": {\"bgcolor\": \"white\", \"lakecolor\": \"white\", \"landcolor\": \"#E5ECF6\", \"showlakes\": true, \"showland\": true, \"subunitcolor\": \"white\"}, \"hoverlabel\": {\"align\": \"left\"}, \"hovermode\": \"closest\", \"mapbox\": {\"style\": \"light\"}, \"paper_bgcolor\": \"white\", \"plot_bgcolor\": \"#E5ECF6\", \"polar\": {\"angularaxis\": {\"gridcolor\": \"white\", \"linecolor\": \"white\", \"ticks\": \"\"}, \"bgcolor\": \"#E5ECF6\", \"radialaxis\": {\"gridcolor\": \"white\", \"linecolor\": \"white\", \"ticks\": \"\"}}, \"scene\": {\"xaxis\": {\"backgroundcolor\": \"#E5ECF6\", \"gridcolor\": \"white\", \"gridwidth\": 2, \"linecolor\": \"white\", \"showbackground\": true, \"ticks\": \"\", \"zerolinecolor\": \"white\"}, \"yaxis\": {\"backgroundcolor\": \"#E5ECF6\", \"gridcolor\": \"white\", \"gridwidth\": 2, \"linecolor\": \"white\", \"showbackground\": true, \"ticks\": \"\", \"zerolinecolor\": \"white\"}, \"zaxis\": {\"backgroundcolor\": \"#E5ECF6\", \"gridcolor\": \"white\", \"gridwidth\": 2, \"linecolor\": \"white\", \"showbackground\": true, \"ticks\": \"\", \"zerolinecolor\": \"white\"}}, \"shapedefaults\": {\"line\": {\"color\": \"#2a3f5f\"}}, \"ternary\": {\"aaxis\": {\"gridcolor\": \"white\", \"linecolor\": \"white\", \"ticks\": \"\"}, \"baxis\": {\"gridcolor\": \"white\", \"linecolor\": \"white\", \"ticks\": \"\"}, \"bgcolor\": \"#E5ECF6\", \"caxis\": {\"gridcolor\": \"white\", \"linecolor\": \"white\", \"ticks\": \"\"}}, \"title\": {\"x\": 0.05}, \"xaxis\": {\"automargin\": true, \"gridcolor\": \"white\", \"linecolor\": \"white\", \"ticks\": \"\", \"zerolinecolor\": \"white\", \"zerolinewidth\": 2}, \"yaxis\": {\"automargin\": true, \"gridcolor\": \"white\", \"linecolor\": \"white\", \"ticks\": \"\", \"zerolinecolor\": \"white\", \"zerolinewidth\": 2}}}, \"title\": {\"text\": \"Bubble Chart\"}},\n",
              "                        {\"responsive\": true}\n",
              "                    ).then(function(){\n",
              "                            \n",
              "var gd = document.getElementById('cd9ecd03-d381-4f88-9b11-a52386a05fe5');\n",
              "var x = new MutationObserver(function (mutations, observer) {{\n",
              "        var display = window.getComputedStyle(gd).display;\n",
              "        if (!display || display === 'none') {{\n",
              "            console.log([gd, 'removed!']);\n",
              "            Plotly.purge(gd);\n",
              "            observer.disconnect();\n",
              "        }}\n",
              "}});\n",
              "\n",
              "// Listen for the removal of the full notebook cells\n",
              "var notebookContainer = gd.closest('#notebook-container');\n",
              "if (notebookContainer) {{\n",
              "    x.observe(notebookContainer, {childList: true});\n",
              "}}\n",
              "\n",
              "// Listen for the clearing of the current output cell\n",
              "var outputEl = gd.closest('.output');\n",
              "if (outputEl) {{\n",
              "    x.observe(outputEl, {childList: true});\n",
              "}}\n",
              "\n",
              "                        })\n",
              "                };\n",
              "                \n",
              "            </script>\n",
              "        </div>\n",
              "</body>\n",
              "</html>"
            ]
          },
          "metadata": {
            "tags": []
          }
        }
      ]
    },
    {
      "cell_type": "code",
      "metadata": {
        "id": "LCbXN3smiWmR",
        "colab_type": "code",
        "colab": {
          "base_uri": "https://localhost:8080/",
          "height": 542
        },
        "outputId": "bd74b570-3ccd-47fe-e97e-e55182595dff"
      },
      "source": [
        "data = [go.Scatter(x=df[\"acceleration\"], \n",
        "                   y=df[\"mpg\"], \n",
        "                   text=df['name'], \n",
        "                   mode=\"markers\", \n",
        "                   marker=dict(size=df[\"weight\"]/200, color=df[\"cylinders\"],showscale=True))]\n",
        "\n",
        "layout = go.Layout(title=\"Bubble Chart\",hovermode=\"closest\",xaxis=dict(title=\"accelaration\"),yaxis=dict(title=\"mpg\"))\n",
        "figure = go.Figure(data=data, layout=layout)\n",
        "pyo.iplot(figure)   "
      ],
      "execution_count": 19,
      "outputs": [
        {
          "output_type": "display_data",
          "data": {
            "text/html": [
              "<html>\n",
              "<head><meta charset=\"utf-8\" /></head>\n",
              "<body>\n",
              "    <div>\n",
              "            <script src=\"https://cdnjs.cloudflare.com/ajax/libs/mathjax/2.7.5/MathJax.js?config=TeX-AMS-MML_SVG\"></script><script type=\"text/javascript\">if (window.MathJax) {MathJax.Hub.Config({SVG: {font: \"STIX-Web\"}});}</script>\n",
              "                <script type=\"text/javascript\">window.PlotlyConfig = {MathJaxConfig: 'local'};</script>\n",
              "        <script src=\"https://cdn.plot.ly/plotly-latest.min.js\"></script>    \n",
              "            <div id=\"526debc4-0581-4a26-b267-852b7738464d\" class=\"plotly-graph-div\" style=\"height:525px; width:100%;\"></div>\n",
              "            <script type=\"text/javascript\">\n",
              "                \n",
              "                    window.PLOTLYENV=window.PLOTLYENV || {};\n",
              "                    \n",
              "                if (document.getElementById(\"526debc4-0581-4a26-b267-852b7738464d\")) {\n",
              "                    Plotly.newPlot(\n",
              "                        '526debc4-0581-4a26-b267-852b7738464d',\n",
              "                        [{\"marker\": {\"color\": [8, 8, 8, 8, 8, 8, 8, 8, 8, 8, 8, 8, 8, 8, 4, 6, 6, 6, 4, 4, 4, 4, 4, 4, 6, 8, 8, 8, 8, 4, 4, 4, 4, 6, 6, 6, 6, 6, 8, 8, 8, 8, 8, 8, 8, 6, 4, 6, 6, 4, 4, 4, 4, 4, 4, 4, 4, 4, 4, 4, 4, 4, 8, 8, 8, 8, 8, 8, 8, 8, 8, 3, 8, 8, 8, 8, 4, 4, 4, 4, 4, 4, 4, 4, 4, 8, 8, 8, 8, 8, 8, 8, 8, 8, 8, 8, 8, 6, 6, 6, 6, 6, 4, 8, 8, 8, 8, 6, 4, 4, 4, 3, 4, 6, 4, 8, 8, 4, 4, 4, 4, 8, 4, 6, 8, 6, 6, 6, 6, 4, 4, 4, 4, 6, 6, 6, 8, 8, 8, 8, 8, 4, 4, 4, 4, 4, 4, 4, 4, 4, 4, 4, 6, 6, 6, 6, 8, 8, 8, 8, 6, 6, 6, 6, 6, 8, 8, 4, 4, 6, 4, 4, 4, 4, 6, 4, 6, 4, 4, 4, 4, 4, 4, 4, 4, 4, 4, 8, 8, 8, 8, 6, 6, 6, 6, 4, 4, 4, 4, 6, 6, 6, 6, 4, 4, 4, 4, 4, 8, 4, 6, 6, 8, 8, 8, 8, 4, 4, 4, 4, 4, 8, 8, 8, 8, 6, 6, 6, 6, 8, 8, 8, 8, 4, 4, 4, 4, 4, 4, 4, 4, 6, 4, 3, 4, 4, 4, 4, 4, 8, 8, 8, 6, 6, 6, 4, 6, 6, 6, 6, 6, 6, 8, 6, 8, 8, 4, 4, 4, 4, 4, 4, 4, 4, 5, 6, 4, 6, 4, 4, 6, 6, 4, 6, 6, 8, 8, 8, 8, 8, 8, 8, 8, 4, 4, 4, 4, 5, 8, 4, 8, 4, 4, 4, 4, 4, 6, 6, 4, 4, 4, 4, 4, 4, 4, 4, 6, 4, 4, 4, 4, 4, 4, 4, 4, 4, 4, 5, 4, 4, 4, 4, 4, 6, 3, 4, 4, 4, 4, 4, 4, 6, 4, 4, 4, 4, 4, 4, 4, 4, 4, 4, 4, 4, 4, 4, 4, 4, 4, 4, 6, 6, 6, 6, 8, 6, 6, 4, 4, 4, 4, 4, 4, 4, 4, 4, 4, 4, 4, 4, 4, 4, 4, 4, 4, 4, 6, 6, 4, 6, 4, 4, 4, 4, 4, 4, 4, 4], \"showscale\": true, \"size\": [17.52, 18.465, 17.18, 17.165, 17.245, 21.705, 21.77, 21.56, 22.125, 19.25, 17.815, 18.045, 18.805, 15.43, 11.86, 14.165, 13.87, 12.935, 10.65, 9.175, 13.36, 12.15, 11.875, 11.17, 13.24, 23.075, 21.88, 21.91, 23.66, 10.65, 11.32, 11.14, 10.23, 13.17, 17.195, 16.645, 16.51, 16.44, 21.045, 22.32, 20.77, 20.48, 24.775, 23.73, 25.7, 14.81, 12.04, 16.41, 15.695, 11.1, 10.615, 10.37, 10.325, 8.865, 8.065, 9.17, 9.775, 11.39, 10.63, 11.27, 12.04, 11.13, 21.37, 21.925, 20.675, 20.645, 18.36, 23.165, 22.51, 22.28, 22.11, 11.65, 19.46, 20.49, 21.47, 20.385, 14.665, 12.555, 14.895, 10.945, 11.975, 11.44, 12.53, 10.82, 10.5, 20.5, 18.36, 19.94, 20.21, 18.885, 24.76, 22.32, 21.815, 21.185, 23.675, 24.755, 19.105, 15.605, 16.39, 14.725, 15.105, 14.52, 9.75, 24.985, 24.53, 23.27, 22.495, 13.945, 11.395, 12.005, 11.895, 10.62, 11.55, 12.36, 11.325, 20.41, 21.39, 9.335, 10.79, 12.91, 14.34, 16.995, 13.3, 14.035, 18.32, 15.51, 14.375, 14.505, 16.68, 9.75, 12.255, 9.18, 12.71, 18.905, 18.16, 18.065, 20.705, 23.495, 22.285, 23.19, 21.285, 11.095, 9.815, 11.5, 8.245, 10.015, 10.625, 10.54, 11.23, 12.445, 11.955, 10.0, 16.32, 17.295, 17.16, 15.79, 23.34, 22.2, 22.49, 23.285, 19.535, 19.485, 18.65, 18.925, 15.195, 16.105, 15.845, 10.855, 13.195, 14.57, 12.96, 13.51, 11.115, 12.725, 14.92, 9.685, 16.055, 13.47, 14.785, 14.725, 13.355, 8.975, 12.32, 11.1, 12.86, 11.275, 11.01, 21.075, 20.95, 19.81, 21.075, 16.165, 16.765, 15.06, 15.425, 10.175, 10.82, 9.685, 8.975, 18.255, 17.87, 18.225, 15.965, 9.125, 9.95, 10.775, 12.825, 15.75, 19.7, 16.35, 14.65, 19.1, 21.9, 20.275, 19.35, 18.775, 10.225, 10.775, 9.125, 11.5, 9.725, 19.4, 20.3, 20.7, 21.475, 17.6, 17.125, 18.15, 17.625, 21.1, 20.825, 21.625, 21.675, 9.7, 13.7, 11.325, 13.775, 10.255, 10.375, 9.925, 10.95, 14.075, 13.0, 13.6, 9.925, 9.0, 9.925, 10.35, 9.0, 16.825, 18.675, 17.85, 17.675, 15.775, 14.825, 13.6, 17.15, 16.05, 16.9, 15.35, 18.1, 17.05, 17.125, 17.225, 16.025, 20.4, 10.775, 12.8, 11.5, 11.15, 12.575, 13.725, 14.275, 12.025, 14.15, 15.7, 13.975, 17.05, 9.95, 10.675, 16.225, 14.95, 14.45, 16.325, 16.8, 19.2, 18.625, 19.775, 19.15, 21.8, 20.27, 18.025, 19.7, 9.625, 9.875, 9.575, 13.35, 17.65, 19.5, 15.95, 17.1, 11.0, 10.75, 10.1, 10.65, 13.35, 12.975, 13.5, 12.78, 10.72, 9.84, 10.6, 10.095, 13.39, 14.35, 15.015, 16.905, 10.94, 13.555, 12.71, 12.17, 11.325, 10.55, 14.0, 10.55, 10.425, 11.675, 14.75, 16.25, 9.25, 9.175, 10.725, 9.225, 14.55, 12.1, 12.5, 14.525, 11.45, 12.45, 13.175, 13.1, 13.625, 11.925, 8.775, 9.375, 8.8, 10.325, 9.875, 10.25, 9.925, 11.075, 10.225, 11.9, 10.95, 11.6, 11.05, 11.75, 13.075, 13.175, 16.15, 15.8, 14.5, 14.65, 17.075, 18.625, 15.3, 17.325, 13.025, 13.2, 11.975, 12.875, 12.625, 13.675, 14.325, 15.175, 9.9, 10.125, 9.85, 10.625, 10.625, 10.8, 11.025, 11.225, 9.825, 9.825, 9.975, 14.725, 15.075, 12.925, 14.175, 13.325, 11.85, 14.75, 13.95, 10.65, 11.475, 13.125, 13.6]}, \"mode\": \"markers\", \"text\": [\"chevrolet chevelle malibu\", \"buick skylark 320\", \"plymouth satellite\", \"amc rebel sst\", \"ford torino\", \"ford galaxie 500\", \"chevrolet impala\", \"plymouth fury iii\", \"pontiac catalina\", \"amc ambassador dpl\", \"dodge challenger se\", \"plymouth 'cuda 340\", \"chevrolet monte carlo\", \"buick estate wagon (sw)\", \"toyota corona mark ii\", \"plymouth duster\", \"amc hornet\", \"ford maverick\", \"datsun pl510\", \"volkswagen 1131 deluxe sedan\", \"peugeot 504\", \"audi 100 ls\", \"saab 99e\", \"bmw 2002\", \"amc gremlin\", \"ford f250\", \"chevy c20\", \"dodge d200\", \"hi 1200d\", \"datsun pl510\", \"chevrolet vega 2300\", \"toyota corona\", \"ford pinto\", \"amc gremlin\", \"plymouth satellite custom\", \"chevrolet chevelle malibu\", \"ford torino 500\", \"amc matador\", \"chevrolet impala\", \"pontiac catalina brougham\", \"ford galaxie 500\", \"plymouth fury iii\", \"dodge monaco (sw)\", \"ford country squire (sw)\", \"pontiac safari (sw)\", \"amc hornet sportabout (sw)\", \"chevrolet vega (sw)\", \"pontiac firebird\", \"ford mustang\", \"mercury capri 2000\", \"opel 1900\", \"peugeot 304\", \"fiat 124b\", \"toyota corolla 1200\", \"datsun 1200\", \"volkswagen model 111\", \"plymouth cricket\", \"toyota corona hardtop\", \"dodge colt hardtop\", \"volkswagen type 3\", \"chevrolet vega\", \"ford pinto runabout\", \"chevrolet impala\", \"pontiac catalina\", \"plymouth fury iii\", \"ford galaxie 500\", \"amc ambassador sst\", \"mercury marquis\", \"buick lesabre custom\", \"oldsmobile delta 88 royale\", \"chrysler newport royal\", \"mazda rx2 coupe\", \"amc matador (sw)\", \"chevrolet chevelle concours (sw)\", \"ford gran torino (sw)\", \"plymouth satellite custom (sw)\", \"volvo 145e (sw)\", \"volkswagen 411 (sw)\", \"peugeot 504 (sw)\", \"renault 12 (sw)\", \"ford pinto (sw)\", \"datsun 510 (sw)\", \"toyouta corona mark ii (sw)\", \"dodge colt (sw)\", \"toyota corolla 1600 (sw)\", \"buick century 350\", \"amc matador\", \"chevrolet malibu\", \"ford gran torino\", \"dodge coronet custom\", \"mercury marquis brougham\", \"chevrolet caprice classic\", \"ford ltd\", \"plymouth fury gran sedan\", \"chrysler new yorker brougham\", \"buick electra 225 custom\", \"amc ambassador brougham\", \"plymouth valiant\", \"chevrolet nova custom\", \"amc hornet\", \"ford maverick\", \"plymouth duster\", \"volkswagen super beetle\", \"chevrolet impala\", \"ford country\", \"plymouth custom suburb\", \"oldsmobile vista cruiser\", \"amc gremlin\", \"toyota carina\", \"chevrolet vega\", \"datsun 610\", \"maxda rx3\", \"ford pinto\", \"mercury capri v6\", \"fiat 124 sport coupe\", \"chevrolet monte carlo s\", \"pontiac grand prix\", \"fiat 128\", \"opel manta\", \"audi 100ls\", \"volvo 144ea\", \"dodge dart custom\", \"saab 99le\", \"toyota mark ii\", \"oldsmobile omega\", \"plymouth duster\", \"ford maverick\", \"amc hornet\", \"chevrolet nova\", \"datsun b210\", \"ford pinto\", \"toyota corolla 1200\", \"chevrolet vega\", \"chevrolet chevelle malibu classic\", \"amc matador\", \"plymouth satellite sebring\", \"ford gran torino\", \"buick century luxus (sw)\", \"dodge coronet custom (sw)\", \"ford gran torino (sw)\", \"amc matador (sw)\", \"audi fox\", \"volkswagen dasher\", \"opel manta\", \"toyota corona\", \"datsun 710\", \"dodge colt\", \"fiat 128\", \"fiat 124 tc\", \"honda civic\", \"subaru\", \"fiat x1.9\", \"plymouth valiant custom\", \"chevrolet nova\", \"mercury monarch\", \"ford maverick\", \"pontiac catalina\", \"chevrolet bel air\", \"plymouth grand fury\", \"ford ltd\", \"buick century\", \"chevroelt chevelle malibu\", \"amc matador\", \"plymouth fury\", \"buick skyhawk\", \"chevrolet monza 2+2\", \"ford mustang ii\", \"toyota corolla\", \"ford pinto\", \"amc gremlin\", \"pontiac astro\", \"toyota corona\", \"volkswagen dasher\", \"datsun 710\", \"ford pinto\", \"volkswagen rabbit\", \"amc pacer\", \"audi 100ls\", \"peugeot 504\", \"volvo 244dl\", \"saab 99le\", \"honda civic cvcc\", \"fiat 131\", \"opel 1900\", \"capri ii\", \"dodge colt\", \"renault 12tl\", \"chevrolet chevelle malibu classic\", \"dodge coronet brougham\", \"amc matador\", \"ford gran torino\", \"plymouth valiant\", \"chevrolet nova\", \"ford maverick\", \"amc hornet\", \"chevrolet chevette\", \"chevrolet woody\", \"vw rabbit\", \"honda civic\", \"dodge aspen se\", \"ford granada ghia\", \"pontiac ventura sj\", \"amc pacer d/l\", \"volkswagen rabbit\", \"datsun b-210\", \"toyota corolla\", \"ford pinto\", \"volvo 245\", \"plymouth volare premier v8\", \"peugeot 504\", \"toyota mark ii\", \"mercedes-benz 280s\", \"cadillac seville\", \"chevy c10\", \"ford f108\", \"dodge d100\", \"honda accord cvcc\", \"buick opel isuzu deluxe\", \"renault 5 gtl\", \"plymouth arrow gs\", \"datsun f-10 hatchback\", \"chevrolet caprice classic\", \"oldsmobile cutlass supreme\", \"dodge monaco brougham\", \"mercury cougar brougham\", \"chevrolet concours\", \"buick skylark\", \"plymouth volare custom\", \"ford granada\", \"pontiac grand prix lj\", \"chevrolet monte carlo landau\", \"chrysler cordoba\", \"ford thunderbird\", \"volkswagen rabbit custom\", \"pontiac sunbird coupe\", \"toyota corolla liftback\", \"ford mustang ii 2+2\", \"chevrolet chevette\", \"dodge colt m/m\", \"subaru dl\", \"volkswagen dasher\", \"datsun 810\", \"bmw 320i\", \"mazda rx-4\", \"volkswagen rabbit custom diesel\", \"ford fiesta\", \"mazda glc deluxe\", \"datsun b210 gx\", \"honda civic cvcc\", \"oldsmobile cutlass salon brougham\", \"dodge diplomat\", \"mercury monarch ghia\", \"pontiac phoenix lj\", \"chevrolet malibu\", \"ford fairmont (auto)\", \"ford fairmont (man)\", \"plymouth volare\", \"amc concord\", \"buick century special\", \"mercury zephyr\", \"dodge aspen\", \"amc concord d/l\", \"chevrolet monte carlo landau\", \"buick regal sport coupe (turbo)\", \"ford futura\", \"dodge magnum xe\", \"chevrolet chevette\", \"toyota corona\", \"datsun 510\", \"dodge omni\", \"toyota celica gt liftback\", \"plymouth sapporo\", \"oldsmobile starfire sx\", \"datsun 200-sx\", \"audi 5000\", \"volvo 264gl\", \"saab 99gle\", \"peugeot 604sl\", \"volkswagen scirocco\", \"honda accord lx\", \"pontiac lemans v6\", \"mercury zephyr 6\", \"ford fairmont 4\", \"amc concord dl 6\", \"dodge aspen 6\", \"chevrolet caprice classic\", \"ford ltd landau\", \"mercury grand marquis\", \"dodge st. regis\", \"buick estate wagon (sw)\", \"ford country squire (sw)\", \"chevrolet malibu classic (sw)\", \"chrysler lebaron town @ country (sw)\", \"vw rabbit custom\", \"maxda glc deluxe\", \"dodge colt hatchback custom\", \"amc spirit dl\", \"mercedes benz 300d\", \"cadillac eldorado\", \"peugeot 504\", \"oldsmobile cutlass salon brougham\", \"plymouth horizon\", \"plymouth horizon tc3\", \"datsun 210\", \"fiat strada custom\", \"buick skylark limited\", \"chevrolet citation\", \"oldsmobile omega brougham\", \"pontiac phoenix\", \"vw rabbit\", \"toyota corolla tercel\", \"chevrolet chevette\", \"datsun 310\", \"chevrolet citation\", \"ford fairmont\", \"amc concord\", \"dodge aspen\", \"audi 4000\", \"toyota corona liftback\", \"mazda 626\", \"datsun 510 hatchback\", \"toyota corolla\", \"mazda glc\", \"dodge colt\", \"datsun 210\", \"vw rabbit c (diesel)\", \"vw dasher (diesel)\", \"audi 5000s (diesel)\", \"mercedes-benz 240d\", \"honda civic 1500 gl\", \"renault lecar deluxe\", \"subaru dl\", \"vokswagen rabbit\", \"datsun 280-zx\", \"mazda rx-7 gs\", \"triumph tr7 coupe\", \"ford mustang cobra\", \"honda accord\", \"plymouth reliant\", \"buick skylark\", \"dodge aries wagon (sw)\", \"chevrolet citation\", \"plymouth reliant\", \"toyota starlet\", \"plymouth champ\", \"honda civic 1300\", \"subaru\", \"datsun 210 mpg\", \"toyota tercel\", \"mazda glc 4\", \"plymouth horizon 4\", \"ford escort 4w\", \"ford escort 2h\", \"volkswagen jetta\", \"renault 18i\", \"honda prelude\", \"toyota corolla\", \"datsun 200sx\", \"mazda 626\", \"peugeot 505s turbo diesel\", \"volvo diesel\", \"toyota cressida\", \"datsun 810 maxima\", \"buick century\", \"oldsmobile cutlass ls\", \"ford granada gl\", \"chrysler lebaron salon\", \"chevrolet cavalier\", \"chevrolet cavalier wagon\", \"chevrolet cavalier 2-door\", \"pontiac j2000 se hatchback\", \"dodge aries se\", \"pontiac phoenix\", \"ford fairmont futura\", \"amc concord dl\", \"volkswagen rabbit l\", \"mazda glc custom l\", \"mazda glc custom\", \"plymouth horizon miser\", \"mercury lynx l\", \"nissan stanza xe\", \"honda accord\", \"toyota corolla\", \"honda civic\", \"honda civic (auto)\", \"datsun 310 gx\", \"buick century limited\", \"oldsmobile cutlass ciera (diesel)\", \"chrysler lebaron medallion\", \"ford granada l\", \"toyota celica gt\", \"dodge charger 2.2\", \"chevrolet camaro\", \"ford mustang gl\", \"vw pickup\", \"dodge rampage\", \"ford ranger\", \"chevy s-10\"], \"type\": \"scatter\", \"x\": [12.0, 11.5, 11.0, 12.0, 10.5, 10.0, 9.0, 8.5, 10.0, 8.5, 10.0, 8.0, 9.5, 10.0, 15.0, 15.5, 15.5, 16.0, 14.5, 20.5, 17.5, 14.5, 17.5, 12.5, 15.0, 14.0, 15.0, 13.5, 18.5, 14.5, 15.5, 14.0, 19.0, 13.0, 15.5, 15.5, 15.5, 15.5, 12.0, 11.5, 13.5, 13.0, 11.5, 12.0, 12.0, 13.5, 19.0, 15.0, 14.5, 14.0, 14.0, 19.5, 14.5, 19.0, 18.0, 19.0, 20.5, 15.5, 17.0, 23.5, 19.5, 16.5, 12.0, 12.0, 13.5, 13.0, 11.5, 11.0, 13.5, 13.5, 12.5, 13.5, 12.5, 14.0, 16.0, 14.0, 14.5, 18.0, 19.5, 18.0, 16.0, 17.0, 14.5, 15.0, 16.5, 13.0, 11.5, 13.0, 14.5, 12.5, 11.5, 12.0, 13.0, 14.5, 11.0, 11.0, 11.0, 16.5, 18.0, 16.0, 16.5, 16.0, 21.0, 14.0, 12.5, 13.0, 12.5, 15.0, 19.0, 19.5, 16.5, 13.5, 18.5, 14.0, 15.5, 13.0, 9.5, 19.5, 15.5, 14.0, 15.5, 11.0, 14.0, 13.5, 11.0, 16.5, 17.0, 16.0, 17.0, 19.0, 16.5, 21.0, 17.0, 17.0, 18.0, 16.5, 14.0, 14.5, 13.5, 16.0, 15.5, 16.5, 15.5, 14.5, 16.5, 19.0, 14.5, 15.5, 14.0, 15.0, 15.5, 16.0, 16.0, 16.0, 21.0, 19.5, 11.5, 14.0, 14.5, 13.5, 21.0, 18.5, 19.0, 19.0, 15.0, 13.5, 12.0, 16.0, 17.0, 16.0, 18.5, 13.5, 16.5, 17.0, 14.5, 14.0, 17.0, 15.0, 17.0, 14.5, 13.5, 17.5, 15.5, 16.9, 14.9, 17.7, 15.3, 13.0, 13.0, 13.9, 12.8, 15.4, 14.5, 17.6, 17.6, 22.2, 22.1, 14.2, 17.4, 17.7, 21.0, 16.2, 17.8, 12.2, 17.0, 16.4, 13.6, 15.7, 13.2, 21.9, 15.5, 16.7, 12.1, 12.0, 15.0, 14.0, 18.5, 14.8, 18.6, 15.5, 16.8, 12.5, 19.0, 13.7, 14.9, 16.4, 16.9, 17.7, 19.0, 11.1, 11.4, 12.2, 14.5, 14.5, 16.0, 18.2, 15.8, 17.0, 15.9, 16.4, 14.1, 14.5, 12.8, 13.5, 21.5, 14.4, 19.4, 18.6, 16.4, 15.5, 13.2, 12.8, 19.2, 18.2, 15.8, 15.4, 17.2, 17.2, 15.8, 16.7, 18.7, 15.1, 13.2, 13.4, 11.2, 13.7, 16.5, 14.2, 14.7, 14.5, 14.8, 16.7, 17.6, 14.9, 15.9, 13.6, 15.7, 15.8, 14.9, 16.6, 15.4, 18.2, 17.3, 18.2, 16.6, 15.4, 13.4, 13.2, 15.2, 14.9, 14.3, 15.0, 13.0, 14.0, 15.2, 14.4, 15.0, 20.1, 17.4, 24.8, 22.2, 13.2, 14.9, 19.2, 14.7, 16.0, 11.3, 12.9, 13.2, 14.7, 18.8, 15.5, 16.4, 16.5, 18.1, 20.1, 18.7, 15.8, 15.5, 17.5, 15.0, 15.2, 17.9, 14.4, 19.2, 21.7, 23.7, 19.9, 21.8, 13.8, 17.3, 18.0, 15.3, 11.4, 12.5, 15.1, 14.3, 17.0, 15.7, 16.4, 14.4, 12.6, 12.9, 16.9, 16.4, 16.1, 17.8, 19.4, 17.3, 16.0, 14.9, 16.2, 20.7, 14.2, 15.8, 14.4, 16.8, 14.8, 18.3, 20.4, 19.6, 12.6, 13.8, 15.8, 19.0, 17.1, 16.6, 19.6, 18.6, 18.0, 16.2, 16.0, 18.0, 16.4, 20.5, 15.3, 18.2, 17.6, 14.7, 17.3, 14.5, 14.5, 16.9, 15.0, 15.7, 16.2, 16.4, 17.0, 14.5, 14.7, 13.9, 13.0, 17.3, 15.6, 24.6, 11.6, 18.6, 19.4], \"y\": [18.0, 15.0, 18.0, 16.0, 17.0, 15.0, 14.0, 14.0, 14.0, 15.0, 15.0, 14.0, 15.0, 14.0, 24.0, 22.0, 18.0, 21.0, 27.0, 26.0, 25.0, 24.0, 25.0, 26.0, 21.0, 10.0, 10.0, 11.0, 9.0, 27.0, 28.0, 25.0, 25.0, 19.0, 16.0, 17.0, 19.0, 18.0, 14.0, 14.0, 14.0, 14.0, 12.0, 13.0, 13.0, 18.0, 22.0, 19.0, 18.0, 23.0, 28.0, 30.0, 30.0, 31.0, 35.0, 27.0, 26.0, 24.0, 25.0, 23.0, 20.0, 21.0, 13.0, 14.0, 15.0, 14.0, 17.0, 11.0, 13.0, 12.0, 13.0, 19.0, 15.0, 13.0, 13.0, 14.0, 18.0, 22.0, 21.0, 26.0, 22.0, 28.0, 23.0, 28.0, 27.0, 13.0, 14.0, 13.0, 14.0, 15.0, 12.0, 13.0, 13.0, 14.0, 13.0, 12.0, 13.0, 18.0, 16.0, 18.0, 18.0, 23.0, 26.0, 11.0, 12.0, 13.0, 12.0, 18.0, 20.0, 21.0, 22.0, 18.0, 19.0, 21.0, 26.0, 15.0, 16.0, 29.0, 24.0, 20.0, 19.0, 15.0, 24.0, 20.0, 11.0, 20.0, 21.0, 19.0, 15.0, 31.0, 26.0, 32.0, 25.0, 16.0, 16.0, 18.0, 16.0, 13.0, 14.0, 14.0, 14.0, 29.0, 26.0, 26.0, 31.0, 32.0, 28.0, 24.0, 26.0, 24.0, 26.0, 31.0, 19.0, 18.0, 15.0, 15.0, 16.0, 15.0, 16.0, 14.0, 17.0, 16.0, 15.0, 18.0, 21.0, 20.0, 13.0, 29.0, 23.0, 20.0, 23.0, 24.0, 25.0, 24.0, 18.0, 29.0, 19.0, 23.0, 23.0, 22.0, 25.0, 33.0, 28.0, 25.0, 25.0, 26.0, 27.0, 17.5, 16.0, 15.5, 14.5, 22.0, 22.0, 24.0, 22.5, 29.0, 24.5, 29.0, 33.0, 20.0, 18.0, 18.5, 17.5, 29.5, 32.0, 28.0, 26.5, 20.0, 13.0, 19.0, 19.0, 16.5, 16.5, 13.0, 13.0, 13.0, 31.5, 30.0, 36.0, 25.5, 33.5, 17.5, 17.0, 15.5, 15.0, 17.5, 20.5, 19.0, 18.5, 16.0, 15.5, 15.5, 16.0, 29.0, 24.5, 26.0, 25.5, 30.5, 33.5, 30.0, 30.5, 22.0, 21.5, 21.5, 43.1, 36.1, 32.8, 39.4, 36.1, 19.9, 19.4, 20.2, 19.2, 20.5, 20.2, 25.1, 20.5, 19.4, 20.6, 20.8, 18.6, 18.1, 19.2, 17.7, 18.1, 17.5, 30.0, 27.5, 27.2, 30.9, 21.1, 23.2, 23.8, 23.9, 20.3, 17.0, 21.6, 16.2, 31.5, 29.5, 21.5, 19.8, 22.3, 20.2, 20.6, 17.0, 17.6, 16.5, 18.2, 16.9, 15.5, 19.2, 18.5, 31.9, 34.1, 35.7, 27.4, 25.4, 23.0, 27.2, 23.9, 34.2, 34.5, 31.8, 37.3, 28.4, 28.8, 26.8, 33.5, 41.5, 38.1, 32.1, 37.2, 28.0, 26.4, 24.3, 19.1, 34.3, 29.8, 31.3, 37.0, 32.2, 46.6, 27.9, 40.8, 44.3, 43.4, 36.4, 30.0, 44.6, 40.9, 33.8, 29.8, 32.7, 23.7, 35.0, 23.6, 32.4, 27.2, 26.6, 25.8, 23.5, 30.0, 39.1, 39.0, 35.1, 32.3, 37.0, 37.7, 34.1, 34.7, 34.4, 29.9, 33.0, 34.5, 33.7, 32.4, 32.9, 31.6, 28.1, 30.7, 25.4, 24.2, 22.4, 26.6, 20.2, 17.6, 28.0, 27.0, 34.0, 31.0, 29.0, 27.0, 24.0, 23.0, 36.0, 37.0, 31.0, 38.0, 36.0, 36.0, 36.0, 34.0, 38.0, 32.0, 38.0, 25.0, 38.0, 26.0, 22.0, 32.0, 36.0, 27.0, 27.0, 44.0, 32.0, 28.0, 31.0]}],\n",
              "                        {\"hovermode\": \"closest\", \"template\": {\"data\": {\"bar\": [{\"error_x\": {\"color\": \"#2a3f5f\"}, \"error_y\": {\"color\": \"#2a3f5f\"}, \"marker\": {\"line\": {\"color\": \"#E5ECF6\", \"width\": 0.5}}, \"type\": \"bar\"}], \"barpolar\": [{\"marker\": {\"line\": {\"color\": \"#E5ECF6\", \"width\": 0.5}}, \"type\": \"barpolar\"}], \"carpet\": [{\"aaxis\": {\"endlinecolor\": \"#2a3f5f\", \"gridcolor\": \"white\", \"linecolor\": \"white\", \"minorgridcolor\": \"white\", \"startlinecolor\": \"#2a3f5f\"}, \"baxis\": {\"endlinecolor\": \"#2a3f5f\", \"gridcolor\": \"white\", \"linecolor\": \"white\", \"minorgridcolor\": \"white\", \"startlinecolor\": \"#2a3f5f\"}, \"type\": \"carpet\"}], \"choropleth\": [{\"colorbar\": {\"outlinewidth\": 0, \"ticks\": \"\"}, \"type\": \"choropleth\"}], \"contour\": [{\"colorbar\": {\"outlinewidth\": 0, \"ticks\": \"\"}, \"colorscale\": [[0.0, \"#0d0887\"], [0.1111111111111111, \"#46039f\"], [0.2222222222222222, \"#7201a8\"], [0.3333333333333333, \"#9c179e\"], [0.4444444444444444, \"#bd3786\"], [0.5555555555555556, \"#d8576b\"], [0.6666666666666666, \"#ed7953\"], [0.7777777777777778, \"#fb9f3a\"], [0.8888888888888888, \"#fdca26\"], [1.0, \"#f0f921\"]], \"type\": \"contour\"}], \"contourcarpet\": [{\"colorbar\": {\"outlinewidth\": 0, \"ticks\": \"\"}, \"type\": \"contourcarpet\"}], \"heatmap\": [{\"colorbar\": {\"outlinewidth\": 0, \"ticks\": \"\"}, \"colorscale\": [[0.0, \"#0d0887\"], [0.1111111111111111, \"#46039f\"], [0.2222222222222222, \"#7201a8\"], [0.3333333333333333, \"#9c179e\"], [0.4444444444444444, \"#bd3786\"], [0.5555555555555556, \"#d8576b\"], [0.6666666666666666, \"#ed7953\"], [0.7777777777777778, \"#fb9f3a\"], [0.8888888888888888, \"#fdca26\"], [1.0, \"#f0f921\"]], \"type\": \"heatmap\"}], \"heatmapgl\": [{\"colorbar\": {\"outlinewidth\": 0, \"ticks\": \"\"}, \"colorscale\": [[0.0, \"#0d0887\"], [0.1111111111111111, \"#46039f\"], [0.2222222222222222, \"#7201a8\"], [0.3333333333333333, \"#9c179e\"], [0.4444444444444444, \"#bd3786\"], [0.5555555555555556, \"#d8576b\"], [0.6666666666666666, \"#ed7953\"], [0.7777777777777778, \"#fb9f3a\"], [0.8888888888888888, \"#fdca26\"], [1.0, \"#f0f921\"]], \"type\": \"heatmapgl\"}], \"histogram\": [{\"marker\": {\"colorbar\": {\"outlinewidth\": 0, \"ticks\": \"\"}}, \"type\": \"histogram\"}], \"histogram2d\": [{\"colorbar\": {\"outlinewidth\": 0, \"ticks\": \"\"}, \"colorscale\": [[0.0, \"#0d0887\"], [0.1111111111111111, \"#46039f\"], [0.2222222222222222, \"#7201a8\"], [0.3333333333333333, \"#9c179e\"], [0.4444444444444444, \"#bd3786\"], [0.5555555555555556, \"#d8576b\"], [0.6666666666666666, \"#ed7953\"], [0.7777777777777778, \"#fb9f3a\"], [0.8888888888888888, \"#fdca26\"], [1.0, \"#f0f921\"]], \"type\": \"histogram2d\"}], \"histogram2dcontour\": [{\"colorbar\": {\"outlinewidth\": 0, \"ticks\": \"\"}, \"colorscale\": [[0.0, \"#0d0887\"], [0.1111111111111111, \"#46039f\"], [0.2222222222222222, \"#7201a8\"], [0.3333333333333333, \"#9c179e\"], [0.4444444444444444, \"#bd3786\"], [0.5555555555555556, \"#d8576b\"], [0.6666666666666666, \"#ed7953\"], [0.7777777777777778, \"#fb9f3a\"], [0.8888888888888888, \"#fdca26\"], [1.0, \"#f0f921\"]], \"type\": \"histogram2dcontour\"}], \"mesh3d\": [{\"colorbar\": {\"outlinewidth\": 0, \"ticks\": \"\"}, \"type\": \"mesh3d\"}], \"parcoords\": [{\"line\": {\"colorbar\": {\"outlinewidth\": 0, \"ticks\": \"\"}}, \"type\": \"parcoords\"}], \"scatter\": [{\"marker\": {\"colorbar\": {\"outlinewidth\": 0, \"ticks\": \"\"}}, \"type\": \"scatter\"}], \"scatter3d\": [{\"line\": {\"colorbar\": {\"outlinewidth\": 0, \"ticks\": \"\"}}, \"marker\": {\"colorbar\": {\"outlinewidth\": 0, \"ticks\": \"\"}}, \"type\": \"scatter3d\"}], \"scattercarpet\": [{\"marker\": {\"colorbar\": {\"outlinewidth\": 0, \"ticks\": \"\"}}, \"type\": \"scattercarpet\"}], \"scattergeo\": [{\"marker\": {\"colorbar\": {\"outlinewidth\": 0, \"ticks\": \"\"}}, \"type\": \"scattergeo\"}], \"scattergl\": [{\"marker\": {\"colorbar\": {\"outlinewidth\": 0, \"ticks\": \"\"}}, \"type\": \"scattergl\"}], \"scattermapbox\": [{\"marker\": {\"colorbar\": {\"outlinewidth\": 0, \"ticks\": \"\"}}, \"type\": \"scattermapbox\"}], \"scatterpolar\": [{\"marker\": {\"colorbar\": {\"outlinewidth\": 0, \"ticks\": \"\"}}, \"type\": \"scatterpolar\"}], \"scatterpolargl\": [{\"marker\": {\"colorbar\": {\"outlinewidth\": 0, \"ticks\": \"\"}}, \"type\": \"scatterpolargl\"}], \"scatterternary\": [{\"marker\": {\"colorbar\": {\"outlinewidth\": 0, \"ticks\": \"\"}}, \"type\": \"scatterternary\"}], \"surface\": [{\"colorbar\": {\"outlinewidth\": 0, \"ticks\": \"\"}, \"colorscale\": [[0.0, \"#0d0887\"], [0.1111111111111111, \"#46039f\"], [0.2222222222222222, \"#7201a8\"], [0.3333333333333333, \"#9c179e\"], [0.4444444444444444, \"#bd3786\"], [0.5555555555555556, \"#d8576b\"], [0.6666666666666666, \"#ed7953\"], [0.7777777777777778, \"#fb9f3a\"], [0.8888888888888888, \"#fdca26\"], [1.0, \"#f0f921\"]], \"type\": \"surface\"}], \"table\": [{\"cells\": {\"fill\": {\"color\": \"#EBF0F8\"}, \"line\": {\"color\": \"white\"}}, \"header\": {\"fill\": {\"color\": \"#C8D4E3\"}, \"line\": {\"color\": \"white\"}}, \"type\": \"table\"}]}, \"layout\": {\"annotationdefaults\": {\"arrowcolor\": \"#2a3f5f\", \"arrowhead\": 0, \"arrowwidth\": 1}, \"colorscale\": {\"diverging\": [[0, \"#8e0152\"], [0.1, \"#c51b7d\"], [0.2, \"#de77ae\"], [0.3, \"#f1b6da\"], [0.4, \"#fde0ef\"], [0.5, \"#f7f7f7\"], [0.6, \"#e6f5d0\"], [0.7, \"#b8e186\"], [0.8, \"#7fbc41\"], [0.9, \"#4d9221\"], [1, \"#276419\"]], \"sequential\": [[0.0, \"#0d0887\"], [0.1111111111111111, \"#46039f\"], [0.2222222222222222, \"#7201a8\"], [0.3333333333333333, \"#9c179e\"], [0.4444444444444444, \"#bd3786\"], [0.5555555555555556, \"#d8576b\"], [0.6666666666666666, \"#ed7953\"], [0.7777777777777778, \"#fb9f3a\"], [0.8888888888888888, \"#fdca26\"], [1.0, \"#f0f921\"]], \"sequentialminus\": [[0.0, \"#0d0887\"], [0.1111111111111111, \"#46039f\"], [0.2222222222222222, \"#7201a8\"], [0.3333333333333333, \"#9c179e\"], [0.4444444444444444, \"#bd3786\"], [0.5555555555555556, \"#d8576b\"], [0.6666666666666666, \"#ed7953\"], [0.7777777777777778, \"#fb9f3a\"], [0.8888888888888888, \"#fdca26\"], [1.0, \"#f0f921\"]]}, \"colorway\": [\"#636efa\", \"#EF553B\", \"#00cc96\", \"#ab63fa\", \"#FFA15A\", \"#19d3f3\", \"#FF6692\", \"#B6E880\", \"#FF97FF\", \"#FECB52\"], \"font\": {\"color\": \"#2a3f5f\"}, \"geo\": {\"bgcolor\": \"white\", \"lakecolor\": \"white\", \"landcolor\": \"#E5ECF6\", \"showlakes\": true, \"showland\": true, \"subunitcolor\": \"white\"}, \"hoverlabel\": {\"align\": \"left\"}, \"hovermode\": \"closest\", \"mapbox\": {\"style\": \"light\"}, \"paper_bgcolor\": \"white\", \"plot_bgcolor\": \"#E5ECF6\", \"polar\": {\"angularaxis\": {\"gridcolor\": \"white\", \"linecolor\": \"white\", \"ticks\": \"\"}, \"bgcolor\": \"#E5ECF6\", \"radialaxis\": {\"gridcolor\": \"white\", \"linecolor\": \"white\", \"ticks\": \"\"}}, \"scene\": {\"xaxis\": {\"backgroundcolor\": \"#E5ECF6\", \"gridcolor\": \"white\", \"gridwidth\": 2, \"linecolor\": \"white\", \"showbackground\": true, \"ticks\": \"\", \"zerolinecolor\": \"white\"}, \"yaxis\": {\"backgroundcolor\": \"#E5ECF6\", \"gridcolor\": \"white\", \"gridwidth\": 2, \"linecolor\": \"white\", \"showbackground\": true, \"ticks\": \"\", \"zerolinecolor\": \"white\"}, \"zaxis\": {\"backgroundcolor\": \"#E5ECF6\", \"gridcolor\": \"white\", \"gridwidth\": 2, \"linecolor\": \"white\", \"showbackground\": true, \"ticks\": \"\", \"zerolinecolor\": \"white\"}}, \"shapedefaults\": {\"line\": {\"color\": \"#2a3f5f\"}}, \"ternary\": {\"aaxis\": {\"gridcolor\": \"white\", \"linecolor\": \"white\", \"ticks\": \"\"}, \"baxis\": {\"gridcolor\": \"white\", \"linecolor\": \"white\", \"ticks\": \"\"}, \"bgcolor\": \"#E5ECF6\", \"caxis\": {\"gridcolor\": \"white\", \"linecolor\": \"white\", \"ticks\": \"\"}}, \"title\": {\"x\": 0.05}, \"xaxis\": {\"automargin\": true, \"gridcolor\": \"white\", \"linecolor\": \"white\", \"ticks\": \"\", \"zerolinecolor\": \"white\", \"zerolinewidth\": 2}, \"yaxis\": {\"automargin\": true, \"gridcolor\": \"white\", \"linecolor\": \"white\", \"ticks\": \"\", \"zerolinecolor\": \"white\", \"zerolinewidth\": 2}}}, \"title\": {\"text\": \"Bubble Chart\"}, \"xaxis\": {\"title\": {\"text\": \"accelaration\"}}, \"yaxis\": {\"title\": {\"text\": \"mpg\"}}},\n",
              "                        {\"responsive\": true}\n",
              "                    ).then(function(){\n",
              "                            \n",
              "var gd = document.getElementById('526debc4-0581-4a26-b267-852b7738464d');\n",
              "var x = new MutationObserver(function (mutations, observer) {{\n",
              "        var display = window.getComputedStyle(gd).display;\n",
              "        if (!display || display === 'none') {{\n",
              "            console.log([gd, 'removed!']);\n",
              "            Plotly.purge(gd);\n",
              "            observer.disconnect();\n",
              "        }}\n",
              "}});\n",
              "\n",
              "// Listen for the removal of the full notebook cells\n",
              "var notebookContainer = gd.closest('#notebook-container');\n",
              "if (notebookContainer) {{\n",
              "    x.observe(notebookContainer, {childList: true});\n",
              "}}\n",
              "\n",
              "// Listen for the clearing of the current output cell\n",
              "var outputEl = gd.closest('.output');\n",
              "if (outputEl) {{\n",
              "    x.observe(outputEl, {childList: true});\n",
              "}}\n",
              "\n",
              "                        })\n",
              "                };\n",
              "                \n",
              "            </script>\n",
              "        </div>\n",
              "</body>\n",
              "</html>"
            ]
          },
          "metadata": {
            "tags": []
          }
        }
      ]
    },
    {
      "cell_type": "code",
      "metadata": {
        "id": "3S8xzYVnidYM",
        "colab_type": "code",
        "colab": {}
      },
      "source": [
        ""
      ],
      "execution_count": 0,
      "outputs": []
    }
  ]
}