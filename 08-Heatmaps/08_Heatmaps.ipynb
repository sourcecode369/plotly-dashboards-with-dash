{
  "nbformat": 4,
  "nbformat_minor": 0,
  "metadata": {
    "colab": {
      "name": "08-Heatmaps.ipynb",
      "provenance": [],
      "include_colab_link": true
    },
    "kernelspec": {
      "name": "python3",
      "display_name": "Python 3"
    },
    "accelerator": "GPU"
  },
  "cells": [
    {
      "cell_type": "markdown",
      "metadata": {
        "id": "view-in-github",
        "colab_type": "text"
      },
      "source": [
        "<a href=\"https://colab.research.google.com/github/sourcecode369/plotly-dashboards-with-dash/blob/master/08-Heatmaps/08_Heatmaps.ipynb\" target=\"_parent\"><img src=\"https://colab.research.google.com/assets/colab-badge.svg\" alt=\"Open In Colab\"/></a>"
      ]
    },
    {
      "cell_type": "code",
      "metadata": {
        "id": "_2JNCIez_vxr",
        "colab_type": "code",
        "colab": {
          "base_uri": "https://localhost:8080/",
          "height": 51
        },
        "outputId": "11c34d63-689d-4d77-e85a-4e3792ab79a5"
      },
      "source": [
        "%%time\n",
        "import numpy as np \n",
        "import pandas as pd\n",
        "import plotly.offline as pyo\n",
        "import plotly.graph_objs as go\n",
        "import plotly.figure_factory as ff"
      ],
      "execution_count": 5,
      "outputs": [
        {
          "output_type": "stream",
          "text": [
            "CPU times: user 28 µs, sys: 6 µs, total: 34 µs\n",
            "Wall time: 40.5 µs\n"
          ],
          "name": "stdout"
        }
      ]
    },
    {
      "cell_type": "code",
      "metadata": {
        "id": "jhA-pYOuAxBu",
        "colab_type": "code",
        "colab": {
          "base_uri": "https://localhost:8080/",
          "height": 136
        },
        "outputId": "d0cdf92e-d362-4f2d-e3a9-74c79ce3b39e"
      },
      "source": [
        "!git clone https://github.com/Pierian-Data/Plotly-Dashboards-with-Dash.git"
      ],
      "execution_count": 6,
      "outputs": [
        {
          "output_type": "stream",
          "text": [
            "Cloning into 'Plotly-Dashboards-with-Dash'...\n",
            "remote: Enumerating objects: 3, done.\u001b[K\n",
            "remote: Counting objects: 100% (3/3), done.\u001b[K\n",
            "remote: Compressing objects: 100% (3/3), done.\u001b[K\n",
            "remote: Total 815 (delta 0), reused 0 (delta 0), pack-reused 812\u001b[K\n",
            "Receiving objects: 100% (815/815), 19.92 MiB | 18.56 MiB/s, done.\n",
            "Resolving deltas: 100% (476/476), done.\n"
          ],
          "name": "stdout"
        }
      ]
    },
    {
      "cell_type": "code",
      "metadata": {
        "id": "EKOJkQrwADNH",
        "colab_type": "code",
        "colab": {}
      },
      "source": [
        "df = pd.read_csv('Plotly-Dashboards-with-Dash/Data/2010SantaBarbaraCA.csv')"
      ],
      "execution_count": 0,
      "outputs": []
    },
    {
      "cell_type": "code",
      "metadata": {
        "id": "typi9c_JA4pJ",
        "colab_type": "code",
        "colab": {
          "base_uri": "https://localhost:8080/",
          "height": 204
        },
        "outputId": "895f2b84-bcc6-493d-e833-35fd59aeaacb"
      },
      "source": [
        "df.head()"
      ],
      "execution_count": 8,
      "outputs": [
        {
          "output_type": "execute_result",
          "data": {
            "text/html": [
              "<div>\n",
              "<style scoped>\n",
              "    .dataframe tbody tr th:only-of-type {\n",
              "        vertical-align: middle;\n",
              "    }\n",
              "\n",
              "    .dataframe tbody tr th {\n",
              "        vertical-align: top;\n",
              "    }\n",
              "\n",
              "    .dataframe thead th {\n",
              "        text-align: right;\n",
              "    }\n",
              "</style>\n",
              "<table border=\"1\" class=\"dataframe\">\n",
              "  <thead>\n",
              "    <tr style=\"text-align: right;\">\n",
              "      <th></th>\n",
              "      <th>LST_DATE</th>\n",
              "      <th>DAY</th>\n",
              "      <th>LST_TIME</th>\n",
              "      <th>T_HR_AVG</th>\n",
              "    </tr>\n",
              "  </thead>\n",
              "  <tbody>\n",
              "    <tr>\n",
              "      <th>0</th>\n",
              "      <td>20100601</td>\n",
              "      <td>TUESDAY</td>\n",
              "      <td>0:00</td>\n",
              "      <td>12.7</td>\n",
              "    </tr>\n",
              "    <tr>\n",
              "      <th>1</th>\n",
              "      <td>20100601</td>\n",
              "      <td>TUESDAY</td>\n",
              "      <td>1:00</td>\n",
              "      <td>12.7</td>\n",
              "    </tr>\n",
              "    <tr>\n",
              "      <th>2</th>\n",
              "      <td>20100601</td>\n",
              "      <td>TUESDAY</td>\n",
              "      <td>2:00</td>\n",
              "      <td>12.3</td>\n",
              "    </tr>\n",
              "    <tr>\n",
              "      <th>3</th>\n",
              "      <td>20100601</td>\n",
              "      <td>TUESDAY</td>\n",
              "      <td>3:00</td>\n",
              "      <td>12.5</td>\n",
              "    </tr>\n",
              "    <tr>\n",
              "      <th>4</th>\n",
              "      <td>20100601</td>\n",
              "      <td>TUESDAY</td>\n",
              "      <td>4:00</td>\n",
              "      <td>12.7</td>\n",
              "    </tr>\n",
              "  </tbody>\n",
              "</table>\n",
              "</div>"
            ],
            "text/plain": [
              "   LST_DATE      DAY LST_TIME  T_HR_AVG\n",
              "0  20100601  TUESDAY     0:00      12.7\n",
              "1  20100601  TUESDAY     1:00      12.7\n",
              "2  20100601  TUESDAY     2:00      12.3\n",
              "3  20100601  TUESDAY     3:00      12.5\n",
              "4  20100601  TUESDAY     4:00      12.7"
            ]
          },
          "metadata": {
            "tags": []
          },
          "execution_count": 8
        }
      ]
    },
    {
      "cell_type": "code",
      "metadata": {
        "id": "9deR1Qq9A5ny",
        "colab_type": "code",
        "colab": {}
      },
      "source": [
        "data = [go.Heatmap(x=df['DAY'],y=df[\"LST_TIME\"],z=df[\"T_HR_AVG\"].values.tolist(), colorscale='Jet')]"
      ],
      "execution_count": 0,
      "outputs": []
    },
    {
      "cell_type": "code",
      "metadata": {
        "id": "yqZ7Xw4cBPsy",
        "colab_type": "code",
        "colab": {}
      },
      "source": [
        "layout = go.Layout(title=\"Temperature Histogram\")"
      ],
      "execution_count": 0,
      "outputs": []
    },
    {
      "cell_type": "code",
      "metadata": {
        "id": "36aHi4HrBdgJ",
        "colab_type": "code",
        "colab": {}
      },
      "source": [
        "figure = go.Figure(data=data, layout=layout)"
      ],
      "execution_count": 0,
      "outputs": []
    },
    {
      "cell_type": "code",
      "metadata": {
        "id": "y4B-FsaFBgMJ",
        "colab_type": "code",
        "colab": {
          "base_uri": "https://localhost:8080/",
          "height": 542
        },
        "outputId": "23cbdb48-3f5c-4339-ba9a-cfc1c1c0ce9a"
      },
      "source": [
        "pyo.iplot(figure)"
      ],
      "execution_count": 22,
      "outputs": [
        {
          "output_type": "display_data",
          "data": {
            "text/html": [
              "<html>\n",
              "<head><meta charset=\"utf-8\" /></head>\n",
              "<body>\n",
              "    <div>\n",
              "            <script src=\"https://cdnjs.cloudflare.com/ajax/libs/mathjax/2.7.5/MathJax.js?config=TeX-AMS-MML_SVG\"></script><script type=\"text/javascript\">if (window.MathJax) {MathJax.Hub.Config({SVG: {font: \"STIX-Web\"}});}</script>\n",
              "                <script type=\"text/javascript\">window.PlotlyConfig = {MathJaxConfig: 'local'};</script>\n",
              "        <script src=\"https://cdn.plot.ly/plotly-latest.min.js\"></script>    \n",
              "            <div id=\"21ab08fc-f169-4064-a763-87dfd965181a\" class=\"plotly-graph-div\" style=\"height:525px; width:100%;\"></div>\n",
              "            <script type=\"text/javascript\">\n",
              "                \n",
              "                    window.PLOTLYENV=window.PLOTLYENV || {};\n",
              "                    \n",
              "                if (document.getElementById(\"21ab08fc-f169-4064-a763-87dfd965181a\")) {\n",
              "                    Plotly.newPlot(\n",
              "                        '21ab08fc-f169-4064-a763-87dfd965181a',\n",
              "                        [{\"colorscale\": [[0.0, \"rgb(0,0,131)\"], [0.2, \"rgb(0,60,170)\"], [0.4, \"rgb(5,255,255)\"], [0.6, \"rgb(255,255,0)\"], [0.8, \"rgb(250,0,0)\"], [1.0, \"rgb(128,0,0)\"]], \"type\": \"heatmap\", \"x\": [\"TUESDAY\", \"TUESDAY\", \"TUESDAY\", \"TUESDAY\", \"TUESDAY\", \"TUESDAY\", \"TUESDAY\", \"TUESDAY\", \"TUESDAY\", \"TUESDAY\", \"TUESDAY\", \"TUESDAY\", \"TUESDAY\", \"TUESDAY\", \"TUESDAY\", \"TUESDAY\", \"TUESDAY\", \"TUESDAY\", \"TUESDAY\", \"TUESDAY\", \"TUESDAY\", \"TUESDAY\", \"TUESDAY\", \"TUESDAY\", \"WEDNESDAY\", \"WEDNESDAY\", \"WEDNESDAY\", \"WEDNESDAY\", \"WEDNESDAY\", \"WEDNESDAY\", \"WEDNESDAY\", \"WEDNESDAY\", \"WEDNESDAY\", \"WEDNESDAY\", \"WEDNESDAY\", \"WEDNESDAY\", \"WEDNESDAY\", \"WEDNESDAY\", \"WEDNESDAY\", \"WEDNESDAY\", \"WEDNESDAY\", \"WEDNESDAY\", \"WEDNESDAY\", \"WEDNESDAY\", \"WEDNESDAY\", \"WEDNESDAY\", \"WEDNESDAY\", \"WEDNESDAY\", \"THURSDAY\", \"THURSDAY\", \"THURSDAY\", \"THURSDAY\", \"THURSDAY\", \"THURSDAY\", \"THURSDAY\", \"THURSDAY\", \"THURSDAY\", \"THURSDAY\", \"THURSDAY\", \"THURSDAY\", \"THURSDAY\", \"THURSDAY\", \"THURSDAY\", \"THURSDAY\", \"THURSDAY\", \"THURSDAY\", \"THURSDAY\", \"THURSDAY\", \"THURSDAY\", \"THURSDAY\", \"THURSDAY\", \"THURSDAY\", \"FRIDAY\", \"FRIDAY\", \"FRIDAY\", \"FRIDAY\", \"FRIDAY\", \"FRIDAY\", \"FRIDAY\", \"FRIDAY\", \"FRIDAY\", \"FRIDAY\", \"FRIDAY\", \"FRIDAY\", \"FRIDAY\", \"FRIDAY\", \"FRIDAY\", \"FRIDAY\", \"FRIDAY\", \"FRIDAY\", \"FRIDAY\", \"FRIDAY\", \"FRIDAY\", \"FRIDAY\", \"FRIDAY\", \"FRIDAY\", \"SATURDAY\", \"SATURDAY\", \"SATURDAY\", \"SATURDAY\", \"SATURDAY\", \"SATURDAY\", \"SATURDAY\", \"SATURDAY\", \"SATURDAY\", \"SATURDAY\", \"SATURDAY\", \"SATURDAY\", \"SATURDAY\", \"SATURDAY\", \"SATURDAY\", \"SATURDAY\", \"SATURDAY\", \"SATURDAY\", \"SATURDAY\", \"SATURDAY\", \"SATURDAY\", \"SATURDAY\", \"SATURDAY\", \"SATURDAY\", \"SUNDAY\", \"SUNDAY\", \"SUNDAY\", \"SUNDAY\", \"SUNDAY\", \"SUNDAY\", \"SUNDAY\", \"SUNDAY\", \"SUNDAY\", \"SUNDAY\", \"SUNDAY\", \"SUNDAY\", \"SUNDAY\", \"SUNDAY\", \"SUNDAY\", \"SUNDAY\", \"SUNDAY\", \"SUNDAY\", \"SUNDAY\", \"SUNDAY\", \"SUNDAY\", \"SUNDAY\", \"SUNDAY\", \"SUNDAY\", \"MONDAY\", \"MONDAY\", \"MONDAY\", \"MONDAY\", \"MONDAY\", \"MONDAY\", \"MONDAY\", \"MONDAY\", \"MONDAY\", \"MONDAY\", \"MONDAY\", \"MONDAY\", \"MONDAY\", \"MONDAY\", \"MONDAY\", \"MONDAY\", \"MONDAY\", \"MONDAY\", \"MONDAY\", \"MONDAY\", \"MONDAY\", \"MONDAY\", \"MONDAY\", \"MONDAY\"], \"y\": [\"0:00\", \"1:00\", \"2:00\", \"3:00\", \"4:00\", \"5:00\", \"6:00\", \"7:00\", \"8:00\", \"9:00\", \"10:00\", \"11:00\", \"12:00\", \"13:00\", \"14:00\", \"15:00\", \"16:00\", \"17:00\", \"18:00\", \"19:00\", \"20:00\", \"21:00\", \"22:00\", \"23:00\", \"0:00\", \"1:00\", \"2:00\", \"3:00\", \"4:00\", \"5:00\", \"6:00\", \"7:00\", \"8:00\", \"9:00\", \"10:00\", \"11:00\", \"12:00\", \"13:00\", \"14:00\", \"15:00\", \"16:00\", \"17:00\", \"18:00\", \"19:00\", \"20:00\", \"21:00\", \"22:00\", \"23:00\", \"0:00\", \"1:00\", \"2:00\", \"3:00\", \"4:00\", \"5:00\", \"6:00\", \"7:00\", \"8:00\", \"9:00\", \"10:00\", \"11:00\", \"12:00\", \"13:00\", \"14:00\", \"15:00\", \"16:00\", \"17:00\", \"18:00\", \"19:00\", \"20:00\", \"21:00\", \"22:00\", \"23:00\", \"0:00\", \"1:00\", \"2:00\", \"3:00\", \"4:00\", \"5:00\", \"6:00\", \"7:00\", \"8:00\", \"9:00\", \"10:00\", \"11:00\", \"12:00\", \"13:00\", \"14:00\", \"15:00\", \"16:00\", \"17:00\", \"18:00\", \"19:00\", \"20:00\", \"21:00\", \"22:00\", \"23:00\", \"0:00\", \"1:00\", \"2:00\", \"3:00\", \"4:00\", \"5:00\", \"6:00\", \"7:00\", \"8:00\", \"9:00\", \"10:00\", \"11:00\", \"12:00\", \"13:00\", \"14:00\", \"15:00\", \"16:00\", \"17:00\", \"18:00\", \"19:00\", \"20:00\", \"21:00\", \"22:00\", \"23:00\", \"0:00\", \"1:00\", \"2:00\", \"3:00\", \"4:00\", \"5:00\", \"6:00\", \"7:00\", \"8:00\", \"9:00\", \"10:00\", \"11:00\", \"12:00\", \"13:00\", \"14:00\", \"15:00\", \"16:00\", \"17:00\", \"18:00\", \"19:00\", \"20:00\", \"21:00\", \"22:00\", \"23:00\", \"0:00\", \"1:00\", \"2:00\", \"3:00\", \"4:00\", \"5:00\", \"6:00\", \"7:00\", \"8:00\", \"9:00\", \"10:00\", \"11:00\", \"12:00\", \"13:00\", \"14:00\", \"15:00\", \"16:00\", \"17:00\", \"18:00\", \"19:00\", \"20:00\", \"21:00\", \"22:00\", \"23:00\"], \"z\": [12.7, 12.7, 12.3, 12.5, 12.7, 12.7, 13.0, 12.7, 12.8, 12.7, 13.2, 14.1, 14.8, 15.3, 15.6, 15.8, 16.0, 15.5, 14.9, 14.4, 13.6, 13.1, 12.3, 11.9, 11.3, 11.1, 10.8, 10.5, 10.4, 10.3, 11.8, 13.7, 14.5, 14.3, 14.9, 16.0, 16.5, 17.0, 17.1, 16.9, 16.4, 15.9, 15.4, 14.4, 13.6, 13.7, 12.8, 12.8, 12.1, 11.9, 11.6, 11.5, 11.2, 12.4, 12.9, 13.7, 14.0, 14.1, 14.5, 14.9, 15.7, 15.6, 15.5, 15.8, 15.6, 14.9, 14.9, 14.5, 13.8, 13.7, 13.6, 13.7, 13.8, 13.0, 12.7, 13.3, 13.6, 13.6, 13.7, 14.1, 14.7, 14.8, 15.9, 16.3, 16.5, 16.8, 17.3, 17.0, 16.3, 15.6, 15.3, 15.0, 14.4, 14.3, 14.2, 14.1, 14.2, 14.0, 13.7, 13.7, 13.7, 13.7, 13.8, 14.2, 14.6, 15.1, 16.2, 17.2, 17.3, 17.2, 17.0, 16.9, 16.2, 15.5, 15.3, 14.6, 15.0, 15.2, 15.0, 15.1, 15.0, 15.0, 15.0, 15.1, 15.2, 15.2, 15.2, 15.3, 15.3, 15.3, 15.8, 16.3, 17.4, 17.6, 17.7, 17.4, 16.4, 16.2, 16.0, 15.0, 13.9, 13.7, 14.6, 15.0, 15.1, 14.9, 14.8, 14.8, 14.9, 14.9, 14.8, 14.9, 15.1, 15.3, 15.6, 15.8, 16.5, 16.5, 16.8, 17.5, 17.7, 17.6, 16.5, 15.6, 14.8, 14.3, 14.4, 14.6]}],\n",
              "                        {\"template\": {\"data\": {\"bar\": [{\"error_x\": {\"color\": \"#2a3f5f\"}, \"error_y\": {\"color\": \"#2a3f5f\"}, \"marker\": {\"line\": {\"color\": \"#E5ECF6\", \"width\": 0.5}}, \"type\": \"bar\"}], \"barpolar\": [{\"marker\": {\"line\": {\"color\": \"#E5ECF6\", \"width\": 0.5}}, \"type\": \"barpolar\"}], \"carpet\": [{\"aaxis\": {\"endlinecolor\": \"#2a3f5f\", \"gridcolor\": \"white\", \"linecolor\": \"white\", \"minorgridcolor\": \"white\", \"startlinecolor\": \"#2a3f5f\"}, \"baxis\": {\"endlinecolor\": \"#2a3f5f\", \"gridcolor\": \"white\", \"linecolor\": \"white\", \"minorgridcolor\": \"white\", \"startlinecolor\": \"#2a3f5f\"}, \"type\": \"carpet\"}], \"choropleth\": [{\"colorbar\": {\"outlinewidth\": 0, \"ticks\": \"\"}, \"type\": \"choropleth\"}], \"contour\": [{\"colorbar\": {\"outlinewidth\": 0, \"ticks\": \"\"}, \"colorscale\": [[0.0, \"#0d0887\"], [0.1111111111111111, \"#46039f\"], [0.2222222222222222, \"#7201a8\"], [0.3333333333333333, \"#9c179e\"], [0.4444444444444444, \"#bd3786\"], [0.5555555555555556, \"#d8576b\"], [0.6666666666666666, \"#ed7953\"], [0.7777777777777778, \"#fb9f3a\"], [0.8888888888888888, \"#fdca26\"], [1.0, \"#f0f921\"]], \"type\": \"contour\"}], \"contourcarpet\": [{\"colorbar\": {\"outlinewidth\": 0, \"ticks\": \"\"}, \"type\": \"contourcarpet\"}], \"heatmap\": [{\"colorbar\": {\"outlinewidth\": 0, \"ticks\": \"\"}, \"colorscale\": [[0.0, \"#0d0887\"], [0.1111111111111111, \"#46039f\"], [0.2222222222222222, \"#7201a8\"], [0.3333333333333333, \"#9c179e\"], [0.4444444444444444, \"#bd3786\"], [0.5555555555555556, \"#d8576b\"], [0.6666666666666666, \"#ed7953\"], [0.7777777777777778, \"#fb9f3a\"], [0.8888888888888888, \"#fdca26\"], [1.0, \"#f0f921\"]], \"type\": \"heatmap\"}], \"heatmapgl\": [{\"colorbar\": {\"outlinewidth\": 0, \"ticks\": \"\"}, \"colorscale\": [[0.0, \"#0d0887\"], [0.1111111111111111, \"#46039f\"], [0.2222222222222222, \"#7201a8\"], [0.3333333333333333, \"#9c179e\"], [0.4444444444444444, \"#bd3786\"], [0.5555555555555556, \"#d8576b\"], [0.6666666666666666, \"#ed7953\"], [0.7777777777777778, \"#fb9f3a\"], [0.8888888888888888, \"#fdca26\"], [1.0, \"#f0f921\"]], \"type\": \"heatmapgl\"}], \"histogram\": [{\"marker\": {\"colorbar\": {\"outlinewidth\": 0, \"ticks\": \"\"}}, \"type\": \"histogram\"}], \"histogram2d\": [{\"colorbar\": {\"outlinewidth\": 0, \"ticks\": \"\"}, \"colorscale\": [[0.0, \"#0d0887\"], [0.1111111111111111, \"#46039f\"], [0.2222222222222222, \"#7201a8\"], [0.3333333333333333, \"#9c179e\"], [0.4444444444444444, \"#bd3786\"], [0.5555555555555556, \"#d8576b\"], [0.6666666666666666, \"#ed7953\"], [0.7777777777777778, \"#fb9f3a\"], [0.8888888888888888, \"#fdca26\"], [1.0, \"#f0f921\"]], \"type\": \"histogram2d\"}], \"histogram2dcontour\": [{\"colorbar\": {\"outlinewidth\": 0, \"ticks\": \"\"}, \"colorscale\": [[0.0, \"#0d0887\"], [0.1111111111111111, \"#46039f\"], [0.2222222222222222, \"#7201a8\"], [0.3333333333333333, \"#9c179e\"], [0.4444444444444444, \"#bd3786\"], [0.5555555555555556, \"#d8576b\"], [0.6666666666666666, \"#ed7953\"], [0.7777777777777778, \"#fb9f3a\"], [0.8888888888888888, \"#fdca26\"], [1.0, \"#f0f921\"]], \"type\": \"histogram2dcontour\"}], \"mesh3d\": [{\"colorbar\": {\"outlinewidth\": 0, \"ticks\": \"\"}, \"type\": \"mesh3d\"}], \"parcoords\": [{\"line\": {\"colorbar\": {\"outlinewidth\": 0, \"ticks\": \"\"}}, \"type\": \"parcoords\"}], \"scatter\": [{\"marker\": {\"colorbar\": {\"outlinewidth\": 0, \"ticks\": \"\"}}, \"type\": \"scatter\"}], \"scatter3d\": [{\"line\": {\"colorbar\": {\"outlinewidth\": 0, \"ticks\": \"\"}}, \"marker\": {\"colorbar\": {\"outlinewidth\": 0, \"ticks\": \"\"}}, \"type\": \"scatter3d\"}], \"scattercarpet\": [{\"marker\": {\"colorbar\": {\"outlinewidth\": 0, \"ticks\": \"\"}}, \"type\": \"scattercarpet\"}], \"scattergeo\": [{\"marker\": {\"colorbar\": {\"outlinewidth\": 0, \"ticks\": \"\"}}, \"type\": \"scattergeo\"}], \"scattergl\": [{\"marker\": {\"colorbar\": {\"outlinewidth\": 0, \"ticks\": \"\"}}, \"type\": \"scattergl\"}], \"scattermapbox\": [{\"marker\": {\"colorbar\": {\"outlinewidth\": 0, \"ticks\": \"\"}}, \"type\": \"scattermapbox\"}], \"scatterpolar\": [{\"marker\": {\"colorbar\": {\"outlinewidth\": 0, \"ticks\": \"\"}}, \"type\": \"scatterpolar\"}], \"scatterpolargl\": [{\"marker\": {\"colorbar\": {\"outlinewidth\": 0, \"ticks\": \"\"}}, \"type\": \"scatterpolargl\"}], \"scatterternary\": [{\"marker\": {\"colorbar\": {\"outlinewidth\": 0, \"ticks\": \"\"}}, \"type\": \"scatterternary\"}], \"surface\": [{\"colorbar\": {\"outlinewidth\": 0, \"ticks\": \"\"}, \"colorscale\": [[0.0, \"#0d0887\"], [0.1111111111111111, \"#46039f\"], [0.2222222222222222, \"#7201a8\"], [0.3333333333333333, \"#9c179e\"], [0.4444444444444444, \"#bd3786\"], [0.5555555555555556, \"#d8576b\"], [0.6666666666666666, \"#ed7953\"], [0.7777777777777778, \"#fb9f3a\"], [0.8888888888888888, \"#fdca26\"], [1.0, \"#f0f921\"]], \"type\": \"surface\"}], \"table\": [{\"cells\": {\"fill\": {\"color\": \"#EBF0F8\"}, \"line\": {\"color\": \"white\"}}, \"header\": {\"fill\": {\"color\": \"#C8D4E3\"}, \"line\": {\"color\": \"white\"}}, \"type\": \"table\"}]}, \"layout\": {\"annotationdefaults\": {\"arrowcolor\": \"#2a3f5f\", \"arrowhead\": 0, \"arrowwidth\": 1}, \"colorscale\": {\"diverging\": [[0, \"#8e0152\"], [0.1, \"#c51b7d\"], [0.2, \"#de77ae\"], [0.3, \"#f1b6da\"], [0.4, \"#fde0ef\"], [0.5, \"#f7f7f7\"], [0.6, \"#e6f5d0\"], [0.7, \"#b8e186\"], [0.8, \"#7fbc41\"], [0.9, \"#4d9221\"], [1, \"#276419\"]], \"sequential\": [[0.0, \"#0d0887\"], [0.1111111111111111, \"#46039f\"], [0.2222222222222222, \"#7201a8\"], [0.3333333333333333, \"#9c179e\"], [0.4444444444444444, \"#bd3786\"], [0.5555555555555556, \"#d8576b\"], [0.6666666666666666, \"#ed7953\"], [0.7777777777777778, \"#fb9f3a\"], [0.8888888888888888, \"#fdca26\"], [1.0, \"#f0f921\"]], \"sequentialminus\": [[0.0, \"#0d0887\"], [0.1111111111111111, \"#46039f\"], [0.2222222222222222, \"#7201a8\"], [0.3333333333333333, \"#9c179e\"], [0.4444444444444444, \"#bd3786\"], [0.5555555555555556, \"#d8576b\"], [0.6666666666666666, \"#ed7953\"], [0.7777777777777778, \"#fb9f3a\"], [0.8888888888888888, \"#fdca26\"], [1.0, \"#f0f921\"]]}, \"colorway\": [\"#636efa\", \"#EF553B\", \"#00cc96\", \"#ab63fa\", \"#FFA15A\", \"#19d3f3\", \"#FF6692\", \"#B6E880\", \"#FF97FF\", \"#FECB52\"], \"font\": {\"color\": \"#2a3f5f\"}, \"geo\": {\"bgcolor\": \"white\", \"lakecolor\": \"white\", \"landcolor\": \"#E5ECF6\", \"showlakes\": true, \"showland\": true, \"subunitcolor\": \"white\"}, \"hoverlabel\": {\"align\": \"left\"}, \"hovermode\": \"closest\", \"mapbox\": {\"style\": \"light\"}, \"paper_bgcolor\": \"white\", \"plot_bgcolor\": \"#E5ECF6\", \"polar\": {\"angularaxis\": {\"gridcolor\": \"white\", \"linecolor\": \"white\", \"ticks\": \"\"}, \"bgcolor\": \"#E5ECF6\", \"radialaxis\": {\"gridcolor\": \"white\", \"linecolor\": \"white\", \"ticks\": \"\"}}, \"scene\": {\"xaxis\": {\"backgroundcolor\": \"#E5ECF6\", \"gridcolor\": \"white\", \"gridwidth\": 2, \"linecolor\": \"white\", \"showbackground\": true, \"ticks\": \"\", \"zerolinecolor\": \"white\"}, \"yaxis\": {\"backgroundcolor\": \"#E5ECF6\", \"gridcolor\": \"white\", \"gridwidth\": 2, \"linecolor\": \"white\", \"showbackground\": true, \"ticks\": \"\", \"zerolinecolor\": \"white\"}, \"zaxis\": {\"backgroundcolor\": \"#E5ECF6\", \"gridcolor\": \"white\", \"gridwidth\": 2, \"linecolor\": \"white\", \"showbackground\": true, \"ticks\": \"\", \"zerolinecolor\": \"white\"}}, \"shapedefaults\": {\"line\": {\"color\": \"#2a3f5f\"}}, \"ternary\": {\"aaxis\": {\"gridcolor\": \"white\", \"linecolor\": \"white\", \"ticks\": \"\"}, \"baxis\": {\"gridcolor\": \"white\", \"linecolor\": \"white\", \"ticks\": \"\"}, \"bgcolor\": \"#E5ECF6\", \"caxis\": {\"gridcolor\": \"white\", \"linecolor\": \"white\", \"ticks\": \"\"}}, \"title\": {\"x\": 0.05}, \"xaxis\": {\"automargin\": true, \"gridcolor\": \"white\", \"linecolor\": \"white\", \"ticks\": \"\", \"zerolinecolor\": \"white\", \"zerolinewidth\": 2}, \"yaxis\": {\"automargin\": true, \"gridcolor\": \"white\", \"linecolor\": \"white\", \"ticks\": \"\", \"zerolinecolor\": \"white\", \"zerolinewidth\": 2}}}, \"title\": {\"text\": \"Temperature Histogram\"}},\n",
              "                        {\"responsive\": true}\n",
              "                    ).then(function(){\n",
              "                            \n",
              "var gd = document.getElementById('21ab08fc-f169-4064-a763-87dfd965181a');\n",
              "var x = new MutationObserver(function (mutations, observer) {{\n",
              "        var display = window.getComputedStyle(gd).display;\n",
              "        if (!display || display === 'none') {{\n",
              "            console.log([gd, 'removed!']);\n",
              "            Plotly.purge(gd);\n",
              "            observer.disconnect();\n",
              "        }}\n",
              "}});\n",
              "\n",
              "// Listen for the removal of the full notebook cells\n",
              "var notebookContainer = gd.closest('#notebook-container');\n",
              "if (notebookContainer) {{\n",
              "    x.observe(notebookContainer, {childList: true});\n",
              "}}\n",
              "\n",
              "// Listen for the clearing of the current output cell\n",
              "var outputEl = gd.closest('.output');\n",
              "if (outputEl) {{\n",
              "    x.observe(outputEl, {childList: true});\n",
              "}}\n",
              "\n",
              "                        })\n",
              "                };\n",
              "                \n",
              "            </script>\n",
              "        </div>\n",
              "</body>\n",
              "</html>"
            ]
          },
          "metadata": {
            "tags": []
          }
        }
      ]
    },
    {
      "cell_type": "code",
      "metadata": {
        "id": "uGByBRXpDS7r",
        "colab_type": "code",
        "colab": {}
      },
      "source": [
        "from plotly import tools"
      ],
      "execution_count": 0,
      "outputs": []
    },
    {
      "cell_type": "code",
      "metadata": {
        "id": "yY7EibQgBhv3",
        "colab_type": "code",
        "colab": {}
      },
      "source": [
        "df1 = pd.read_csv('Plotly-Dashboards-with-Dash/Data/2010SitkaAK.csv')\n",
        "df2 = pd.read_csv('Plotly-Dashboards-with-Dash/Data/2010SantaBarbaraCA.csv')\n",
        "df3 = pd.read_csv('Plotly-Dashboards-with-Dash/Data/2010YumaAZ.csv')"
      ],
      "execution_count": 0,
      "outputs": []
    },
    {
      "cell_type": "code",
      "metadata": {
        "id": "IK2ZiKVSC2gC",
        "colab_type": "code",
        "colab": {
          "base_uri": "https://localhost:8080/",
          "height": 85
        },
        "outputId": "7becd7ba-5ef0-4ce9-cc9e-f9a64ba373ad"
      },
      "source": [
        "trace1 = go.Heatmap(x=df1[\"DAY\"],y=df1[\"LST_TIME\"],\n",
        "                    z=df1[\"T_HR_AVG\"],colorscale=\"Jet\",zmin=5, zmax=40)\n",
        "\n",
        "trace2 = go.Heatmap(x=df2[\"DAY\"],y=df2[\"LST_TIME\"],\n",
        "                    z=df2[\"T_HR_AVG\"],colorscale=\"Jet\",zmin=5, zmax=40)\n",
        "\n",
        "trace3 = go.Heatmap(x=df3[\"DAY\"],y=df3[\"LST_TIME\"],\n",
        "                    z=df3[\"T_HR_AVG\"],colorscale=\"Jet\",zmin=5, zmax=40)\n",
        "\n",
        "fig = tools.make_subplots(rows=1, cols=3,subplot_titles=['Sitka AK','SB CA','Yuma AZ'], \n",
        "                          shared_yaxes=False)"
      ],
      "execution_count": 29,
      "outputs": [
        {
          "output_type": "stream",
          "text": [
            "/usr/local/lib/python3.6/dist-packages/plotly/tools.py:465: DeprecationWarning:\n",
            "\n",
            "plotly.tools.make_subplots is deprecated, please use plotly.subplots.make_subplots instead\n",
            "\n"
          ],
          "name": "stderr"
        }
      ]
    },
    {
      "cell_type": "code",
      "metadata": {
        "id": "Y9qgVFMRDWEC",
        "colab_type": "code",
        "colab": {
          "base_uri": "https://localhost:8080/",
          "height": 646
        },
        "outputId": "d060a916-ccd2-4d12-d026-7d5ec9620cf3"
      },
      "source": [
        "fig.append_trace(trace1,1,1)\n",
        "fig.append_trace(trace2,1,2)\n",
        "fig.append_trace(trace3,1,3)\n",
        "fig[\"layout\"].update(title=\"Temps for 3 cities.\")"
      ],
      "execution_count": 32,
      "outputs": [
        {
          "output_type": "execute_result",
          "data": {
            "text/plain": [
              "Layout({\n",
              "    'annotations': [{'font': {'size': 16},\n",
              "                     'showarrow': False,\n",
              "                     'text': 'Sitka AK',\n",
              "                     'x': 0.14444444444444446,\n",
              "                     'xanchor': 'center',\n",
              "                     'xref': 'paper',\n",
              "                     'y': 1.0,\n",
              "                     'yanchor': 'bottom',\n",
              "                     'yref': 'paper'},\n",
              "                    {'font': {'size': 16},\n",
              "                     'showarrow': False,\n",
              "                     'text': 'SB CA',\n",
              "                     'x': 0.5,\n",
              "                     'xanchor': 'center',\n",
              "                     'xref': 'paper',\n",
              "                     'y': 1.0,\n",
              "                     'yanchor': 'bottom',\n",
              "                     'yref': 'paper'},\n",
              "                    {'font': {'size': 16},\n",
              "                     'showarrow': False,\n",
              "                     'text': 'Yuma AZ',\n",
              "                     'x': 0.8555555555555556,\n",
              "                     'xanchor': 'center',\n",
              "                     'xref': 'paper',\n",
              "                     'y': 1.0,\n",
              "                     'yanchor': 'bottom',\n",
              "                     'yref': 'paper'}],\n",
              "    'template': '...',\n",
              "    'title': {'text': 'Temps for 3 cities.'},\n",
              "    'xaxis': {'anchor': 'y', 'domain': [0.0, 0.2888888888888889]},\n",
              "    'xaxis2': {'anchor': 'y2', 'domain': [0.35555555555555557, 0.6444444444444445]},\n",
              "    'xaxis3': {'anchor': 'y3', 'domain': [0.7111111111111111, 1.0]},\n",
              "    'yaxis': {'anchor': 'x', 'domain': [0.0, 1.0]},\n",
              "    'yaxis2': {'anchor': 'x2', 'domain': [0.0, 1.0]},\n",
              "    'yaxis3': {'anchor': 'x3', 'domain': [0.0, 1.0]}\n",
              "})"
            ]
          },
          "metadata": {
            "tags": []
          },
          "execution_count": 32
        }
      ]
    },
    {
      "cell_type": "code",
      "metadata": {
        "id": "lWnqNhi3D1lm",
        "colab_type": "code",
        "colab": {
          "base_uri": "https://localhost:8080/",
          "height": 542
        },
        "outputId": "1d080fd2-d1f3-425f-80f2-070183f868d3"
      },
      "source": [
        "pyo.iplot(fig)"
      ],
      "execution_count": 33,
      "outputs": [
        {
          "output_type": "display_data",
          "data": {
            "text/html": [
              "<html>\n",
              "<head><meta charset=\"utf-8\" /></head>\n",
              "<body>\n",
              "    <div>\n",
              "            <script src=\"https://cdnjs.cloudflare.com/ajax/libs/mathjax/2.7.5/MathJax.js?config=TeX-AMS-MML_SVG\"></script><script type=\"text/javascript\">if (window.MathJax) {MathJax.Hub.Config({SVG: {font: \"STIX-Web\"}});}</script>\n",
              "                <script type=\"text/javascript\">window.PlotlyConfig = {MathJaxConfig: 'local'};</script>\n",
              "        <script src=\"https://cdn.plot.ly/plotly-latest.min.js\"></script>    \n",
              "            <div id=\"fc985b4c-9508-47b1-9941-9c5af493ba29\" class=\"plotly-graph-div\" style=\"height:525px; width:100%;\"></div>\n",
              "            <script type=\"text/javascript\">\n",
              "                \n",
              "                    window.PLOTLYENV=window.PLOTLYENV || {};\n",
              "                    \n",
              "                if (document.getElementById(\"fc985b4c-9508-47b1-9941-9c5af493ba29\")) {\n",
              "                    Plotly.newPlot(\n",
              "                        'fc985b4c-9508-47b1-9941-9c5af493ba29',\n",
              "                        [{\"colorscale\": [[0.0, \"rgb(0,0,131)\"], [0.2, \"rgb(0,60,170)\"], [0.4, \"rgb(5,255,255)\"], [0.6, \"rgb(255,255,0)\"], [0.8, \"rgb(250,0,0)\"], [1.0, \"rgb(128,0,0)\"]], \"type\": \"heatmap\", \"x\": [\"TUESDAY\", \"TUESDAY\", \"TUESDAY\", \"TUESDAY\", \"TUESDAY\", \"TUESDAY\", \"TUESDAY\", \"TUESDAY\", \"TUESDAY\", \"TUESDAY\", \"TUESDAY\", \"TUESDAY\", \"TUESDAY\", \"TUESDAY\", \"TUESDAY\", \"TUESDAY\", \"TUESDAY\", \"TUESDAY\", \"TUESDAY\", \"TUESDAY\", \"TUESDAY\", \"TUESDAY\", \"TUESDAY\", \"TUESDAY\", \"WEDNESDAY\", \"WEDNESDAY\", \"WEDNESDAY\", \"WEDNESDAY\", \"WEDNESDAY\", \"WEDNESDAY\", \"WEDNESDAY\", \"WEDNESDAY\", \"WEDNESDAY\", \"WEDNESDAY\", \"WEDNESDAY\", \"WEDNESDAY\", \"WEDNESDAY\", \"WEDNESDAY\", \"WEDNESDAY\", \"WEDNESDAY\", \"WEDNESDAY\", \"WEDNESDAY\", \"WEDNESDAY\", \"WEDNESDAY\", \"WEDNESDAY\", \"WEDNESDAY\", \"WEDNESDAY\", \"WEDNESDAY\", \"THURSDAY\", \"THURSDAY\", \"THURSDAY\", \"THURSDAY\", \"THURSDAY\", \"THURSDAY\", \"THURSDAY\", \"THURSDAY\", \"THURSDAY\", \"THURSDAY\", \"THURSDAY\", \"THURSDAY\", \"THURSDAY\", \"THURSDAY\", \"THURSDAY\", \"THURSDAY\", \"THURSDAY\", \"THURSDAY\", \"THURSDAY\", \"THURSDAY\", \"THURSDAY\", \"THURSDAY\", \"THURSDAY\", \"THURSDAY\", \"FRIDAY\", \"FRIDAY\", \"FRIDAY\", \"FRIDAY\", \"FRIDAY\", \"FRIDAY\", \"FRIDAY\", \"FRIDAY\", \"FRIDAY\", \"FRIDAY\", \"FRIDAY\", \"FRIDAY\", \"FRIDAY\", \"FRIDAY\", \"FRIDAY\", \"FRIDAY\", \"FRIDAY\", \"FRIDAY\", \"FRIDAY\", \"FRIDAY\", \"FRIDAY\", \"FRIDAY\", \"FRIDAY\", \"FRIDAY\", \"SATURDAY\", \"SATURDAY\", \"SATURDAY\", \"SATURDAY\", \"SATURDAY\", \"SATURDAY\", \"SATURDAY\", \"SATURDAY\", \"SATURDAY\", \"SATURDAY\", \"SATURDAY\", \"SATURDAY\", \"SATURDAY\", \"SATURDAY\", \"SATURDAY\", \"SATURDAY\", \"SATURDAY\", \"SATURDAY\", \"SATURDAY\", \"SATURDAY\", \"SATURDAY\", \"SATURDAY\", \"SATURDAY\", \"SATURDAY\", \"SUNDAY\", \"SUNDAY\", \"SUNDAY\", \"SUNDAY\", \"SUNDAY\", \"SUNDAY\", \"SUNDAY\", \"SUNDAY\", \"SUNDAY\", \"SUNDAY\", \"SUNDAY\", \"SUNDAY\", \"SUNDAY\", \"SUNDAY\", \"SUNDAY\", \"SUNDAY\", \"SUNDAY\", \"SUNDAY\", \"SUNDAY\", \"SUNDAY\", \"SUNDAY\", \"SUNDAY\", \"SUNDAY\", \"SUNDAY\", \"MONDAY\", \"MONDAY\", \"MONDAY\", \"MONDAY\", \"MONDAY\", \"MONDAY\", \"MONDAY\", \"MONDAY\", \"MONDAY\", \"MONDAY\", \"MONDAY\", \"MONDAY\", \"MONDAY\", \"MONDAY\", \"MONDAY\", \"MONDAY\", \"MONDAY\", \"MONDAY\", \"MONDAY\", \"MONDAY\", \"MONDAY\", \"MONDAY\", \"MONDAY\", \"MONDAY\"], \"xaxis\": \"x\", \"y\": [\"0:00\", \"1:00\", \"2:00\", \"3:00\", \"4:00\", \"5:00\", \"6:00\", \"7:00\", \"8:00\", \"9:00\", \"10:00\", \"11:00\", \"12:00\", \"13:00\", \"14:00\", \"15:00\", \"16:00\", \"17:00\", \"18:00\", \"19:00\", \"20:00\", \"21:00\", \"22:00\", \"23:00\", \"0:00\", \"1:00\", \"2:00\", \"3:00\", \"4:00\", \"5:00\", \"6:00\", \"7:00\", \"8:00\", \"9:00\", \"10:00\", \"11:00\", \"12:00\", \"13:00\", \"14:00\", \"15:00\", \"16:00\", \"17:00\", \"18:00\", \"19:00\", \"20:00\", \"21:00\", \"22:00\", \"23:00\", \"0:00\", \"1:00\", \"2:00\", \"3:00\", \"4:00\", \"5:00\", \"6:00\", \"7:00\", \"8:00\", \"9:00\", \"10:00\", \"11:00\", \"12:00\", \"13:00\", \"14:00\", \"15:00\", \"16:00\", \"17:00\", \"18:00\", \"19:00\", \"20:00\", \"21:00\", \"22:00\", \"23:00\", \"0:00\", \"1:00\", \"2:00\", \"3:00\", \"4:00\", \"5:00\", \"6:00\", \"7:00\", \"8:00\", \"9:00\", \"10:00\", \"11:00\", \"12:00\", \"13:00\", \"14:00\", \"15:00\", \"16:00\", \"17:00\", \"18:00\", \"19:00\", \"20:00\", \"21:00\", \"22:00\", \"23:00\", \"0:00\", \"1:00\", \"2:00\", \"3:00\", \"4:00\", \"5:00\", \"6:00\", \"7:00\", \"8:00\", \"9:00\", \"10:00\", \"11:00\", \"12:00\", \"13:00\", \"14:00\", \"15:00\", \"16:00\", \"17:00\", \"18:00\", \"19:00\", \"20:00\", \"21:00\", \"22:00\", \"23:00\", \"0:00\", \"1:00\", \"2:00\", \"3:00\", \"4:00\", \"5:00\", \"6:00\", \"7:00\", \"8:00\", \"9:00\", \"10:00\", \"11:00\", \"12:00\", \"13:00\", \"14:00\", \"15:00\", \"16:00\", \"17:00\", \"18:00\", \"19:00\", \"20:00\", \"21:00\", \"22:00\", \"23:00\", \"0:00\", \"1:00\", \"2:00\", \"3:00\", \"4:00\", \"5:00\", \"6:00\", \"7:00\", \"8:00\", \"9:00\", \"10:00\", \"11:00\", \"12:00\", \"13:00\", \"14:00\", \"15:00\", \"16:00\", \"17:00\", \"18:00\", \"19:00\", \"20:00\", \"21:00\", \"22:00\", \"23:00\"], \"yaxis\": \"y\", \"z\": [10.5, 10.5, 10.0, 9.7, 9.4, 9.4, 9.7, 10.3, 10.9, 10.8, 10.6, 11.9, 12.3, 14.9, 16.0, 14.1, 14.8, 16.6, 16.2, 14.7, 13.9, 13.6, 13.5, 12.7, 12.6, 12.1, 12.4, 12.7, 12.0, 11.5, 12.1, 14.2, 15.3, 16.0, 17.2, 16.7, 15.7, 15.4, 15.9, 12.1, 9.9, 9.7, 10.8, 10.2, 9.1, 7.1, 6.0, 5.4, 5.7, 6.0, 6.4, 6.4, 6.6, 6.9, 7.9, 9.5, 11.9, 13.1, 13.8, 14.0, 14.9, 15.1, 13.7, 14.4, 13.2, 10.9, 9.6, 9.7, 9.6, 8.9, 7.7, 7.8, 7.6, 7.3, 6.1, 5.5, 5.2, 6.9, 8.8, 9.7, 11.9, 12.5, 13.8, 14.1, 14.3, 15.7, 16.5, 15.0, 13.4, 13.1, 12.6, 12.1, 10.3, 9.5, 9.1, 8.7, 9.3, 9.6, 9.0, 8.6, 8.4, 8.6, 9.0, 9.5, 10.2, 10.9, 12.0, 11.4, 11.4, 11.3, 12.0, 13.0, 12.3, 11.1, 10.7, 10.5, 10.0, 9.6, 8.1, 7.0, 5.9, 5.3, 4.9, 4.3, 3.9, 4.1, 5.7, 8.3, 11.3, 13.4, 14.3, 14.8, 14.4, 14.7, 14.8, 14.6, 15.1, 15.3, 14.9, 13.9, 12.1, 9.9, 8.1, 6.9, 5.9, 5.2, 4.6, 4.0, 3.7, 4.3, 6.0, 8.8, 10.7, 11.9, 13.1, 14.0, 14.2, 13.6, 13.7, 13.5, 12.8, 12.6, 12.0, 11.9, 10.8, 9.2, 7.8, 6.7], \"zmax\": 40, \"zmin\": 5}, {\"colorscale\": [[0.0, \"rgb(0,0,131)\"], [0.2, \"rgb(0,60,170)\"], [0.4, \"rgb(5,255,255)\"], [0.6, \"rgb(255,255,0)\"], [0.8, \"rgb(250,0,0)\"], [1.0, \"rgb(128,0,0)\"]], \"type\": \"heatmap\", \"x\": [\"TUESDAY\", \"TUESDAY\", \"TUESDAY\", \"TUESDAY\", \"TUESDAY\", \"TUESDAY\", \"TUESDAY\", \"TUESDAY\", \"TUESDAY\", \"TUESDAY\", \"TUESDAY\", \"TUESDAY\", \"TUESDAY\", \"TUESDAY\", \"TUESDAY\", \"TUESDAY\", \"TUESDAY\", \"TUESDAY\", \"TUESDAY\", \"TUESDAY\", \"TUESDAY\", \"TUESDAY\", \"TUESDAY\", \"TUESDAY\", \"WEDNESDAY\", \"WEDNESDAY\", \"WEDNESDAY\", \"WEDNESDAY\", \"WEDNESDAY\", \"WEDNESDAY\", \"WEDNESDAY\", \"WEDNESDAY\", \"WEDNESDAY\", \"WEDNESDAY\", \"WEDNESDAY\", \"WEDNESDAY\", \"WEDNESDAY\", \"WEDNESDAY\", \"WEDNESDAY\", \"WEDNESDAY\", \"WEDNESDAY\", \"WEDNESDAY\", \"WEDNESDAY\", \"WEDNESDAY\", \"WEDNESDAY\", \"WEDNESDAY\", \"WEDNESDAY\", \"WEDNESDAY\", \"THURSDAY\", \"THURSDAY\", \"THURSDAY\", \"THURSDAY\", \"THURSDAY\", \"THURSDAY\", \"THURSDAY\", \"THURSDAY\", \"THURSDAY\", \"THURSDAY\", \"THURSDAY\", \"THURSDAY\", \"THURSDAY\", \"THURSDAY\", \"THURSDAY\", \"THURSDAY\", \"THURSDAY\", \"THURSDAY\", \"THURSDAY\", \"THURSDAY\", \"THURSDAY\", \"THURSDAY\", \"THURSDAY\", \"THURSDAY\", \"FRIDAY\", \"FRIDAY\", \"FRIDAY\", \"FRIDAY\", \"FRIDAY\", \"FRIDAY\", \"FRIDAY\", \"FRIDAY\", \"FRIDAY\", \"FRIDAY\", \"FRIDAY\", \"FRIDAY\", \"FRIDAY\", \"FRIDAY\", \"FRIDAY\", \"FRIDAY\", \"FRIDAY\", \"FRIDAY\", \"FRIDAY\", \"FRIDAY\", \"FRIDAY\", \"FRIDAY\", \"FRIDAY\", \"FRIDAY\", \"SATURDAY\", \"SATURDAY\", \"SATURDAY\", \"SATURDAY\", \"SATURDAY\", \"SATURDAY\", \"SATURDAY\", \"SATURDAY\", \"SATURDAY\", \"SATURDAY\", \"SATURDAY\", \"SATURDAY\", \"SATURDAY\", \"SATURDAY\", \"SATURDAY\", \"SATURDAY\", \"SATURDAY\", \"SATURDAY\", \"SATURDAY\", \"SATURDAY\", \"SATURDAY\", \"SATURDAY\", \"SATURDAY\", \"SATURDAY\", \"SUNDAY\", \"SUNDAY\", \"SUNDAY\", \"SUNDAY\", \"SUNDAY\", \"SUNDAY\", \"SUNDAY\", \"SUNDAY\", \"SUNDAY\", \"SUNDAY\", \"SUNDAY\", \"SUNDAY\", \"SUNDAY\", \"SUNDAY\", \"SUNDAY\", \"SUNDAY\", \"SUNDAY\", \"SUNDAY\", \"SUNDAY\", \"SUNDAY\", \"SUNDAY\", \"SUNDAY\", \"SUNDAY\", \"SUNDAY\", \"MONDAY\", \"MONDAY\", \"MONDAY\", \"MONDAY\", \"MONDAY\", \"MONDAY\", \"MONDAY\", \"MONDAY\", \"MONDAY\", \"MONDAY\", \"MONDAY\", \"MONDAY\", \"MONDAY\", \"MONDAY\", \"MONDAY\", \"MONDAY\", \"MONDAY\", \"MONDAY\", \"MONDAY\", \"MONDAY\", \"MONDAY\", \"MONDAY\", \"MONDAY\", \"MONDAY\"], \"xaxis\": \"x2\", \"y\": [\"0:00\", \"1:00\", \"2:00\", \"3:00\", \"4:00\", \"5:00\", \"6:00\", \"7:00\", \"8:00\", \"9:00\", \"10:00\", \"11:00\", \"12:00\", \"13:00\", \"14:00\", \"15:00\", \"16:00\", \"17:00\", \"18:00\", \"19:00\", \"20:00\", \"21:00\", \"22:00\", \"23:00\", \"0:00\", \"1:00\", \"2:00\", \"3:00\", \"4:00\", \"5:00\", \"6:00\", \"7:00\", \"8:00\", \"9:00\", \"10:00\", \"11:00\", \"12:00\", \"13:00\", \"14:00\", \"15:00\", \"16:00\", \"17:00\", \"18:00\", \"19:00\", \"20:00\", \"21:00\", \"22:00\", \"23:00\", \"0:00\", \"1:00\", \"2:00\", \"3:00\", \"4:00\", \"5:00\", \"6:00\", \"7:00\", \"8:00\", \"9:00\", \"10:00\", \"11:00\", \"12:00\", \"13:00\", \"14:00\", \"15:00\", \"16:00\", \"17:00\", \"18:00\", \"19:00\", \"20:00\", \"21:00\", \"22:00\", \"23:00\", \"0:00\", \"1:00\", \"2:00\", \"3:00\", \"4:00\", \"5:00\", \"6:00\", \"7:00\", \"8:00\", \"9:00\", \"10:00\", \"11:00\", \"12:00\", \"13:00\", \"14:00\", \"15:00\", \"16:00\", \"17:00\", \"18:00\", \"19:00\", \"20:00\", \"21:00\", \"22:00\", \"23:00\", \"0:00\", \"1:00\", \"2:00\", \"3:00\", \"4:00\", \"5:00\", \"6:00\", \"7:00\", \"8:00\", \"9:00\", \"10:00\", \"11:00\", \"12:00\", \"13:00\", \"14:00\", \"15:00\", \"16:00\", \"17:00\", \"18:00\", \"19:00\", \"20:00\", \"21:00\", \"22:00\", \"23:00\", \"0:00\", \"1:00\", \"2:00\", \"3:00\", \"4:00\", \"5:00\", \"6:00\", \"7:00\", \"8:00\", \"9:00\", \"10:00\", \"11:00\", \"12:00\", \"13:00\", \"14:00\", \"15:00\", \"16:00\", \"17:00\", \"18:00\", \"19:00\", \"20:00\", \"21:00\", \"22:00\", \"23:00\", \"0:00\", \"1:00\", \"2:00\", \"3:00\", \"4:00\", \"5:00\", \"6:00\", \"7:00\", \"8:00\", \"9:00\", \"10:00\", \"11:00\", \"12:00\", \"13:00\", \"14:00\", \"15:00\", \"16:00\", \"17:00\", \"18:00\", \"19:00\", \"20:00\", \"21:00\", \"22:00\", \"23:00\"], \"yaxis\": \"y2\", \"z\": [12.7, 12.7, 12.3, 12.5, 12.7, 12.7, 13.0, 12.7, 12.8, 12.7, 13.2, 14.1, 14.8, 15.3, 15.6, 15.8, 16.0, 15.5, 14.9, 14.4, 13.6, 13.1, 12.3, 11.9, 11.3, 11.1, 10.8, 10.5, 10.4, 10.3, 11.8, 13.7, 14.5, 14.3, 14.9, 16.0, 16.5, 17.0, 17.1, 16.9, 16.4, 15.9, 15.4, 14.4, 13.6, 13.7, 12.8, 12.8, 12.1, 11.9, 11.6, 11.5, 11.2, 12.4, 12.9, 13.7, 14.0, 14.1, 14.5, 14.9, 15.7, 15.6, 15.5, 15.8, 15.6, 14.9, 14.9, 14.5, 13.8, 13.7, 13.6, 13.7, 13.8, 13.0, 12.7, 13.3, 13.6, 13.6, 13.7, 14.1, 14.7, 14.8, 15.9, 16.3, 16.5, 16.8, 17.3, 17.0, 16.3, 15.6, 15.3, 15.0, 14.4, 14.3, 14.2, 14.1, 14.2, 14.0, 13.7, 13.7, 13.7, 13.7, 13.8, 14.2, 14.6, 15.1, 16.2, 17.2, 17.3, 17.2, 17.0, 16.9, 16.2, 15.5, 15.3, 14.6, 15.0, 15.2, 15.0, 15.1, 15.0, 15.0, 15.0, 15.1, 15.2, 15.2, 15.2, 15.3, 15.3, 15.3, 15.8, 16.3, 17.4, 17.6, 17.7, 17.4, 16.4, 16.2, 16.0, 15.0, 13.9, 13.7, 14.6, 15.0, 15.1, 14.9, 14.8, 14.8, 14.9, 14.9, 14.8, 14.9, 15.1, 15.3, 15.6, 15.8, 16.5, 16.5, 16.8, 17.5, 17.7, 17.6, 16.5, 15.6, 14.8, 14.3, 14.4, 14.6], \"zmax\": 40, \"zmin\": 5}, {\"colorscale\": [[0.0, \"rgb(0,0,131)\"], [0.2, \"rgb(0,60,170)\"], [0.4, \"rgb(5,255,255)\"], [0.6, \"rgb(255,255,0)\"], [0.8, \"rgb(250,0,0)\"], [1.0, \"rgb(128,0,0)\"]], \"type\": \"heatmap\", \"x\": [\"TUESDAY\", \"TUESDAY\", \"TUESDAY\", \"TUESDAY\", \"TUESDAY\", \"TUESDAY\", \"TUESDAY\", \"TUESDAY\", \"TUESDAY\", \"TUESDAY\", \"TUESDAY\", \"TUESDAY\", \"TUESDAY\", \"TUESDAY\", \"TUESDAY\", \"TUESDAY\", \"TUESDAY\", \"TUESDAY\", \"TUESDAY\", \"TUESDAY\", \"TUESDAY\", \"TUESDAY\", \"TUESDAY\", \"TUESDAY\", \"WEDNESDAY\", \"WEDNESDAY\", \"WEDNESDAY\", \"WEDNESDAY\", \"WEDNESDAY\", \"WEDNESDAY\", \"WEDNESDAY\", \"WEDNESDAY\", \"WEDNESDAY\", \"WEDNESDAY\", \"WEDNESDAY\", \"WEDNESDAY\", \"WEDNESDAY\", \"WEDNESDAY\", \"WEDNESDAY\", \"WEDNESDAY\", \"WEDNESDAY\", \"WEDNESDAY\", \"WEDNESDAY\", \"WEDNESDAY\", \"WEDNESDAY\", \"WEDNESDAY\", \"WEDNESDAY\", \"WEDNESDAY\", \"THURSDAY\", \"THURSDAY\", \"THURSDAY\", \"THURSDAY\", \"THURSDAY\", \"THURSDAY\", \"THURSDAY\", \"THURSDAY\", \"THURSDAY\", \"THURSDAY\", \"THURSDAY\", \"THURSDAY\", \"THURSDAY\", \"THURSDAY\", \"THURSDAY\", \"THURSDAY\", \"THURSDAY\", \"THURSDAY\", \"THURSDAY\", \"THURSDAY\", \"THURSDAY\", \"THURSDAY\", \"THURSDAY\", \"THURSDAY\", \"FRIDAY\", \"FRIDAY\", \"FRIDAY\", \"FRIDAY\", \"FRIDAY\", \"FRIDAY\", \"FRIDAY\", \"FRIDAY\", \"FRIDAY\", \"FRIDAY\", \"FRIDAY\", \"FRIDAY\", \"FRIDAY\", \"FRIDAY\", \"FRIDAY\", \"FRIDAY\", \"FRIDAY\", \"FRIDAY\", \"FRIDAY\", \"FRIDAY\", \"FRIDAY\", \"FRIDAY\", \"FRIDAY\", \"FRIDAY\", \"SATURDAY\", \"SATURDAY\", \"SATURDAY\", \"SATURDAY\", \"SATURDAY\", \"SATURDAY\", \"SATURDAY\", \"SATURDAY\", \"SATURDAY\", \"SATURDAY\", \"SATURDAY\", \"SATURDAY\", \"SATURDAY\", \"SATURDAY\", \"SATURDAY\", \"SATURDAY\", \"SATURDAY\", \"SATURDAY\", \"SATURDAY\", \"SATURDAY\", \"SATURDAY\", \"SATURDAY\", \"SATURDAY\", \"SATURDAY\", \"SUNDAY\", \"SUNDAY\", \"SUNDAY\", \"SUNDAY\", \"SUNDAY\", \"SUNDAY\", \"SUNDAY\", \"SUNDAY\", \"SUNDAY\", \"SUNDAY\", \"SUNDAY\", \"SUNDAY\", \"SUNDAY\", \"SUNDAY\", \"SUNDAY\", \"SUNDAY\", \"SUNDAY\", \"SUNDAY\", \"SUNDAY\", \"SUNDAY\", \"SUNDAY\", \"SUNDAY\", \"SUNDAY\", \"SUNDAY\", \"MONDAY\", \"MONDAY\", \"MONDAY\", \"MONDAY\", \"MONDAY\", \"MONDAY\", \"MONDAY\", \"MONDAY\", \"MONDAY\", \"MONDAY\", \"MONDAY\", \"MONDAY\", \"MONDAY\", \"MONDAY\", \"MONDAY\", \"MONDAY\", \"MONDAY\", \"MONDAY\", \"MONDAY\", \"MONDAY\", \"MONDAY\", \"MONDAY\", \"MONDAY\", \"MONDAY\"], \"xaxis\": \"x3\", \"y\": [\"0:00\", \"1:00\", \"2:00\", \"3:00\", \"4:00\", \"5:00\", \"6:00\", \"7:00\", \"8:00\", \"9:00\", \"10:00\", \"11:00\", \"12:00\", \"13:00\", \"14:00\", \"15:00\", \"16:00\", \"17:00\", \"18:00\", \"19:00\", \"20:00\", \"21:00\", \"22:00\", \"23:00\", \"0:00\", \"1:00\", \"2:00\", \"3:00\", \"4:00\", \"5:00\", \"6:00\", \"7:00\", \"8:00\", \"9:00\", \"10:00\", \"11:00\", \"12:00\", \"13:00\", \"14:00\", \"15:00\", \"16:00\", \"17:00\", \"18:00\", \"19:00\", \"20:00\", \"21:00\", \"22:00\", \"23:00\", \"0:00\", \"1:00\", \"2:00\", \"3:00\", \"4:00\", \"5:00\", \"6:00\", \"7:00\", \"8:00\", \"9:00\", \"10:00\", \"11:00\", \"12:00\", \"13:00\", \"14:00\", \"15:00\", \"16:00\", \"17:00\", \"18:00\", \"19:00\", \"20:00\", \"21:00\", \"22:00\", \"23:00\", \"0:00\", \"1:00\", \"2:00\", \"3:00\", \"4:00\", \"5:00\", \"6:00\", \"7:00\", \"8:00\", \"9:00\", \"10:00\", \"11:00\", \"12:00\", \"13:00\", \"14:00\", \"15:00\", \"16:00\", \"17:00\", \"18:00\", \"19:00\", \"20:00\", \"21:00\", \"22:00\", \"23:00\", \"0:00\", \"1:00\", \"2:00\", \"3:00\", \"4:00\", \"5:00\", \"6:00\", \"7:00\", \"8:00\", \"9:00\", \"10:00\", \"11:00\", \"12:00\", \"13:00\", \"14:00\", \"15:00\", \"16:00\", \"17:00\", \"18:00\", \"19:00\", \"20:00\", \"21:00\", \"22:00\", \"23:00\", \"0:00\", \"1:00\", \"2:00\", \"3:00\", \"4:00\", \"5:00\", \"6:00\", \"7:00\", \"8:00\", \"9:00\", \"10:00\", \"11:00\", \"12:00\", \"13:00\", \"14:00\", \"15:00\", \"16:00\", \"17:00\", \"18:00\", \"19:00\", \"20:00\", \"21:00\", \"22:00\", \"23:00\", \"0:00\", \"1:00\", \"2:00\", \"3:00\", \"4:00\", \"5:00\", \"6:00\", \"7:00\", \"8:00\", \"9:00\", \"10:00\", \"11:00\", \"12:00\", \"13:00\", \"14:00\", \"15:00\", \"16:00\", \"17:00\", \"18:00\", \"19:00\", \"20:00\", \"21:00\", \"22:00\", \"23:00\"], \"yaxis\": \"y3\", \"z\": [25.2, 24.1, 24.4, 24.9, 22.8, 19.8, 18.8, 21.2, 24.2, 27.1, 29.3, 30.6, 32.6, 34.0, 34.0, 34.9, 34.6, 33.8, 33.5, 32.8, 31.0, 29.0, 27.6, 26.3, 23.8, 20.6, 19.1, 18.4, 18.9, 18.2, 17.9, 20.2, 23.8, 26.1, 27.9, 29.3, 30.9, 32.2, 33.1, 33.7, 34.5, 34.7, 34.8, 34.2, 32.8, 31.0, 28.7, 25.5, 24.3, 23.1, 21.8, 19.8, 18.5, 19.2, 19.7, 20.7, 23.2, 26.1, 28.6, 30.8, 32.3, 33.8, 34.9, 35.8, 35.9, 36.3, 35.8, 35.4, 34.2, 32.7, 31.1, 28.6, 26.4, 25.4, 24.2, 23.6, 22.5, 21.0, 21.3, 22.5, 24.7, 28.1, 30.6, 32.5, 33.9, 35.5, 36.6, 37.2, 37.8, 38.1, 38.2, 37.4, 36.0, 34.4, 32.6, 30.1, 28.3, 27.3, 26.3, 25.3, 24.7, 24.7, 23.9, 24.7, 27.7, 30.4, 32.6, 34.8, 36.4, 37.2, 38.4, 39.7, 40.0, 40.4, 40.1, 39.0, 37.3, 35.7, 33.9, 31.4, 29.7, 28.6, 26.9, 25.9, 25.2, 24.8, 23.9, 26.1, 27.9, 30.5, 33.7, 35.6, 36.9, 38.4, 39.2, 40.2, 40.6, 40.6, 40.3, 39.5, 37.9, 36.5, 35.0, 32.9, 30.9, 28.7, 26.9, 25.2, 24.1, 24.3, 23.4, 25.7, 28.5, 30.7, 32.5, 34.1, 36.1, 37.6, 39.0, 40.2, 40.3, 40.2, 40.1, 39.4, 38.5, 37.0, 34.7, 32.6], \"zmax\": 40, \"zmin\": 5}, {\"colorscale\": [[0.0, \"rgb(0,0,131)\"], [0.2, \"rgb(0,60,170)\"], [0.4, \"rgb(5,255,255)\"], [0.6, \"rgb(255,255,0)\"], [0.8, \"rgb(250,0,0)\"], [1.0, \"rgb(128,0,0)\"]], \"type\": \"heatmap\", \"x\": [\"TUESDAY\", \"TUESDAY\", \"TUESDAY\", \"TUESDAY\", \"TUESDAY\", \"TUESDAY\", \"TUESDAY\", \"TUESDAY\", \"TUESDAY\", \"TUESDAY\", \"TUESDAY\", \"TUESDAY\", \"TUESDAY\", \"TUESDAY\", \"TUESDAY\", \"TUESDAY\", \"TUESDAY\", \"TUESDAY\", \"TUESDAY\", \"TUESDAY\", \"TUESDAY\", \"TUESDAY\", \"TUESDAY\", \"TUESDAY\", \"WEDNESDAY\", \"WEDNESDAY\", \"WEDNESDAY\", \"WEDNESDAY\", \"WEDNESDAY\", \"WEDNESDAY\", \"WEDNESDAY\", \"WEDNESDAY\", \"WEDNESDAY\", \"WEDNESDAY\", \"WEDNESDAY\", \"WEDNESDAY\", \"WEDNESDAY\", \"WEDNESDAY\", \"WEDNESDAY\", \"WEDNESDAY\", \"WEDNESDAY\", \"WEDNESDAY\", \"WEDNESDAY\", \"WEDNESDAY\", \"WEDNESDAY\", \"WEDNESDAY\", \"WEDNESDAY\", \"WEDNESDAY\", \"THURSDAY\", \"THURSDAY\", \"THURSDAY\", \"THURSDAY\", \"THURSDAY\", \"THURSDAY\", \"THURSDAY\", \"THURSDAY\", \"THURSDAY\", \"THURSDAY\", \"THURSDAY\", \"THURSDAY\", \"THURSDAY\", \"THURSDAY\", \"THURSDAY\", \"THURSDAY\", \"THURSDAY\", \"THURSDAY\", \"THURSDAY\", \"THURSDAY\", \"THURSDAY\", \"THURSDAY\", \"THURSDAY\", \"THURSDAY\", \"FRIDAY\", \"FRIDAY\", \"FRIDAY\", \"FRIDAY\", \"FRIDAY\", \"FRIDAY\", \"FRIDAY\", \"FRIDAY\", \"FRIDAY\", \"FRIDAY\", \"FRIDAY\", \"FRIDAY\", \"FRIDAY\", \"FRIDAY\", \"FRIDAY\", \"FRIDAY\", \"FRIDAY\", \"FRIDAY\", \"FRIDAY\", \"FRIDAY\", \"FRIDAY\", \"FRIDAY\", \"FRIDAY\", \"FRIDAY\", \"SATURDAY\", \"SATURDAY\", \"SATURDAY\", \"SATURDAY\", \"SATURDAY\", \"SATURDAY\", \"SATURDAY\", \"SATURDAY\", \"SATURDAY\", \"SATURDAY\", \"SATURDAY\", \"SATURDAY\", \"SATURDAY\", \"SATURDAY\", \"SATURDAY\", \"SATURDAY\", \"SATURDAY\", \"SATURDAY\", \"SATURDAY\", \"SATURDAY\", \"SATURDAY\", \"SATURDAY\", \"SATURDAY\", \"SATURDAY\", \"SUNDAY\", \"SUNDAY\", \"SUNDAY\", \"SUNDAY\", \"SUNDAY\", \"SUNDAY\", \"SUNDAY\", \"SUNDAY\", \"SUNDAY\", \"SUNDAY\", \"SUNDAY\", \"SUNDAY\", \"SUNDAY\", \"SUNDAY\", \"SUNDAY\", \"SUNDAY\", \"SUNDAY\", \"SUNDAY\", \"SUNDAY\", \"SUNDAY\", \"SUNDAY\", \"SUNDAY\", \"SUNDAY\", \"SUNDAY\", \"MONDAY\", \"MONDAY\", \"MONDAY\", \"MONDAY\", \"MONDAY\", \"MONDAY\", \"MONDAY\", \"MONDAY\", \"MONDAY\", \"MONDAY\", \"MONDAY\", \"MONDAY\", \"MONDAY\", \"MONDAY\", \"MONDAY\", \"MONDAY\", \"MONDAY\", \"MONDAY\", \"MONDAY\", \"MONDAY\", \"MONDAY\", \"MONDAY\", \"MONDAY\", \"MONDAY\"], \"xaxis\": \"x\", \"y\": [\"0:00\", \"1:00\", \"2:00\", \"3:00\", \"4:00\", \"5:00\", \"6:00\", \"7:00\", \"8:00\", \"9:00\", \"10:00\", \"11:00\", \"12:00\", \"13:00\", \"14:00\", \"15:00\", \"16:00\", \"17:00\", \"18:00\", \"19:00\", \"20:00\", \"21:00\", \"22:00\", \"23:00\", \"0:00\", \"1:00\", \"2:00\", \"3:00\", \"4:00\", \"5:00\", \"6:00\", \"7:00\", \"8:00\", \"9:00\", \"10:00\", \"11:00\", \"12:00\", \"13:00\", \"14:00\", \"15:00\", \"16:00\", \"17:00\", \"18:00\", \"19:00\", \"20:00\", \"21:00\", \"22:00\", \"23:00\", \"0:00\", \"1:00\", \"2:00\", \"3:00\", \"4:00\", \"5:00\", \"6:00\", \"7:00\", \"8:00\", \"9:00\", \"10:00\", \"11:00\", \"12:00\", \"13:00\", \"14:00\", \"15:00\", \"16:00\", \"17:00\", \"18:00\", \"19:00\", \"20:00\", \"21:00\", \"22:00\", \"23:00\", \"0:00\", \"1:00\", \"2:00\", \"3:00\", \"4:00\", \"5:00\", \"6:00\", \"7:00\", \"8:00\", \"9:00\", \"10:00\", \"11:00\", \"12:00\", \"13:00\", \"14:00\", \"15:00\", \"16:00\", \"17:00\", \"18:00\", \"19:00\", \"20:00\", \"21:00\", \"22:00\", \"23:00\", \"0:00\", \"1:00\", \"2:00\", \"3:00\", \"4:00\", \"5:00\", \"6:00\", \"7:00\", \"8:00\", \"9:00\", \"10:00\", \"11:00\", \"12:00\", \"13:00\", \"14:00\", \"15:00\", \"16:00\", \"17:00\", \"18:00\", \"19:00\", \"20:00\", \"21:00\", \"22:00\", \"23:00\", \"0:00\", \"1:00\", \"2:00\", \"3:00\", \"4:00\", \"5:00\", \"6:00\", \"7:00\", \"8:00\", \"9:00\", \"10:00\", \"11:00\", \"12:00\", \"13:00\", \"14:00\", \"15:00\", \"16:00\", \"17:00\", \"18:00\", \"19:00\", \"20:00\", \"21:00\", \"22:00\", \"23:00\", \"0:00\", \"1:00\", \"2:00\", \"3:00\", \"4:00\", \"5:00\", \"6:00\", \"7:00\", \"8:00\", \"9:00\", \"10:00\", \"11:00\", \"12:00\", \"13:00\", \"14:00\", \"15:00\", \"16:00\", \"17:00\", \"18:00\", \"19:00\", \"20:00\", \"21:00\", \"22:00\", \"23:00\"], \"yaxis\": \"y\", \"z\": [10.5, 10.5, 10.0, 9.7, 9.4, 9.4, 9.7, 10.3, 10.9, 10.8, 10.6, 11.9, 12.3, 14.9, 16.0, 14.1, 14.8, 16.6, 16.2, 14.7, 13.9, 13.6, 13.5, 12.7, 12.6, 12.1, 12.4, 12.7, 12.0, 11.5, 12.1, 14.2, 15.3, 16.0, 17.2, 16.7, 15.7, 15.4, 15.9, 12.1, 9.9, 9.7, 10.8, 10.2, 9.1, 7.1, 6.0, 5.4, 5.7, 6.0, 6.4, 6.4, 6.6, 6.9, 7.9, 9.5, 11.9, 13.1, 13.8, 14.0, 14.9, 15.1, 13.7, 14.4, 13.2, 10.9, 9.6, 9.7, 9.6, 8.9, 7.7, 7.8, 7.6, 7.3, 6.1, 5.5, 5.2, 6.9, 8.8, 9.7, 11.9, 12.5, 13.8, 14.1, 14.3, 15.7, 16.5, 15.0, 13.4, 13.1, 12.6, 12.1, 10.3, 9.5, 9.1, 8.7, 9.3, 9.6, 9.0, 8.6, 8.4, 8.6, 9.0, 9.5, 10.2, 10.9, 12.0, 11.4, 11.4, 11.3, 12.0, 13.0, 12.3, 11.1, 10.7, 10.5, 10.0, 9.6, 8.1, 7.0, 5.9, 5.3, 4.9, 4.3, 3.9, 4.1, 5.7, 8.3, 11.3, 13.4, 14.3, 14.8, 14.4, 14.7, 14.8, 14.6, 15.1, 15.3, 14.9, 13.9, 12.1, 9.9, 8.1, 6.9, 5.9, 5.2, 4.6, 4.0, 3.7, 4.3, 6.0, 8.8, 10.7, 11.9, 13.1, 14.0, 14.2, 13.6, 13.7, 13.5, 12.8, 12.6, 12.0, 11.9, 10.8, 9.2, 7.8, 6.7], \"zmax\": 40, \"zmin\": 5}, {\"colorscale\": [[0.0, \"rgb(0,0,131)\"], [0.2, \"rgb(0,60,170)\"], [0.4, \"rgb(5,255,255)\"], [0.6, \"rgb(255,255,0)\"], [0.8, \"rgb(250,0,0)\"], [1.0, \"rgb(128,0,0)\"]], \"type\": \"heatmap\", \"x\": [\"TUESDAY\", \"TUESDAY\", \"TUESDAY\", \"TUESDAY\", \"TUESDAY\", \"TUESDAY\", \"TUESDAY\", \"TUESDAY\", \"TUESDAY\", \"TUESDAY\", \"TUESDAY\", \"TUESDAY\", \"TUESDAY\", \"TUESDAY\", \"TUESDAY\", \"TUESDAY\", \"TUESDAY\", \"TUESDAY\", \"TUESDAY\", \"TUESDAY\", \"TUESDAY\", \"TUESDAY\", \"TUESDAY\", \"TUESDAY\", \"WEDNESDAY\", \"WEDNESDAY\", \"WEDNESDAY\", \"WEDNESDAY\", \"WEDNESDAY\", \"WEDNESDAY\", \"WEDNESDAY\", \"WEDNESDAY\", \"WEDNESDAY\", \"WEDNESDAY\", \"WEDNESDAY\", \"WEDNESDAY\", \"WEDNESDAY\", \"WEDNESDAY\", \"WEDNESDAY\", \"WEDNESDAY\", \"WEDNESDAY\", \"WEDNESDAY\", \"WEDNESDAY\", \"WEDNESDAY\", \"WEDNESDAY\", \"WEDNESDAY\", \"WEDNESDAY\", \"WEDNESDAY\", \"THURSDAY\", \"THURSDAY\", \"THURSDAY\", \"THURSDAY\", \"THURSDAY\", \"THURSDAY\", \"THURSDAY\", \"THURSDAY\", \"THURSDAY\", \"THURSDAY\", \"THURSDAY\", \"THURSDAY\", \"THURSDAY\", \"THURSDAY\", \"THURSDAY\", \"THURSDAY\", \"THURSDAY\", \"THURSDAY\", \"THURSDAY\", \"THURSDAY\", \"THURSDAY\", \"THURSDAY\", \"THURSDAY\", \"THURSDAY\", \"FRIDAY\", \"FRIDAY\", \"FRIDAY\", \"FRIDAY\", \"FRIDAY\", \"FRIDAY\", \"FRIDAY\", \"FRIDAY\", \"FRIDAY\", \"FRIDAY\", \"FRIDAY\", \"FRIDAY\", \"FRIDAY\", \"FRIDAY\", \"FRIDAY\", \"FRIDAY\", \"FRIDAY\", \"FRIDAY\", \"FRIDAY\", \"FRIDAY\", \"FRIDAY\", \"FRIDAY\", \"FRIDAY\", \"FRIDAY\", \"SATURDAY\", \"SATURDAY\", \"SATURDAY\", \"SATURDAY\", \"SATURDAY\", \"SATURDAY\", \"SATURDAY\", \"SATURDAY\", \"SATURDAY\", \"SATURDAY\", \"SATURDAY\", \"SATURDAY\", \"SATURDAY\", \"SATURDAY\", \"SATURDAY\", \"SATURDAY\", \"SATURDAY\", \"SATURDAY\", \"SATURDAY\", \"SATURDAY\", \"SATURDAY\", \"SATURDAY\", \"SATURDAY\", \"SATURDAY\", \"SUNDAY\", \"SUNDAY\", \"SUNDAY\", \"SUNDAY\", \"SUNDAY\", \"SUNDAY\", \"SUNDAY\", \"SUNDAY\", \"SUNDAY\", \"SUNDAY\", \"SUNDAY\", \"SUNDAY\", \"SUNDAY\", \"SUNDAY\", \"SUNDAY\", \"SUNDAY\", \"SUNDAY\", \"SUNDAY\", \"SUNDAY\", \"SUNDAY\", \"SUNDAY\", \"SUNDAY\", \"SUNDAY\", \"SUNDAY\", \"MONDAY\", \"MONDAY\", \"MONDAY\", \"MONDAY\", \"MONDAY\", \"MONDAY\", \"MONDAY\", \"MONDAY\", \"MONDAY\", \"MONDAY\", \"MONDAY\", \"MONDAY\", \"MONDAY\", \"MONDAY\", \"MONDAY\", \"MONDAY\", \"MONDAY\", \"MONDAY\", \"MONDAY\", \"MONDAY\", \"MONDAY\", \"MONDAY\", \"MONDAY\", \"MONDAY\"], \"xaxis\": \"x2\", \"y\": [\"0:00\", \"1:00\", \"2:00\", \"3:00\", \"4:00\", \"5:00\", \"6:00\", \"7:00\", \"8:00\", \"9:00\", \"10:00\", \"11:00\", \"12:00\", \"13:00\", \"14:00\", \"15:00\", \"16:00\", \"17:00\", \"18:00\", \"19:00\", \"20:00\", \"21:00\", \"22:00\", \"23:00\", \"0:00\", \"1:00\", \"2:00\", \"3:00\", \"4:00\", \"5:00\", \"6:00\", \"7:00\", \"8:00\", \"9:00\", \"10:00\", \"11:00\", \"12:00\", \"13:00\", \"14:00\", \"15:00\", \"16:00\", \"17:00\", \"18:00\", \"19:00\", \"20:00\", \"21:00\", \"22:00\", \"23:00\", \"0:00\", \"1:00\", \"2:00\", \"3:00\", \"4:00\", \"5:00\", \"6:00\", \"7:00\", \"8:00\", \"9:00\", \"10:00\", \"11:00\", \"12:00\", \"13:00\", \"14:00\", \"15:00\", \"16:00\", \"17:00\", \"18:00\", \"19:00\", \"20:00\", \"21:00\", \"22:00\", \"23:00\", \"0:00\", \"1:00\", \"2:00\", \"3:00\", \"4:00\", \"5:00\", \"6:00\", \"7:00\", \"8:00\", \"9:00\", \"10:00\", \"11:00\", \"12:00\", \"13:00\", \"14:00\", \"15:00\", \"16:00\", \"17:00\", \"18:00\", \"19:00\", \"20:00\", \"21:00\", \"22:00\", \"23:00\", \"0:00\", \"1:00\", \"2:00\", \"3:00\", \"4:00\", \"5:00\", \"6:00\", \"7:00\", \"8:00\", \"9:00\", \"10:00\", \"11:00\", \"12:00\", \"13:00\", \"14:00\", \"15:00\", \"16:00\", \"17:00\", \"18:00\", \"19:00\", \"20:00\", \"21:00\", \"22:00\", \"23:00\", \"0:00\", \"1:00\", \"2:00\", \"3:00\", \"4:00\", \"5:00\", \"6:00\", \"7:00\", \"8:00\", \"9:00\", \"10:00\", \"11:00\", \"12:00\", \"13:00\", \"14:00\", \"15:00\", \"16:00\", \"17:00\", \"18:00\", \"19:00\", \"20:00\", \"21:00\", \"22:00\", \"23:00\", \"0:00\", \"1:00\", \"2:00\", \"3:00\", \"4:00\", \"5:00\", \"6:00\", \"7:00\", \"8:00\", \"9:00\", \"10:00\", \"11:00\", \"12:00\", \"13:00\", \"14:00\", \"15:00\", \"16:00\", \"17:00\", \"18:00\", \"19:00\", \"20:00\", \"21:00\", \"22:00\", \"23:00\"], \"yaxis\": \"y2\", \"z\": [12.7, 12.7, 12.3, 12.5, 12.7, 12.7, 13.0, 12.7, 12.8, 12.7, 13.2, 14.1, 14.8, 15.3, 15.6, 15.8, 16.0, 15.5, 14.9, 14.4, 13.6, 13.1, 12.3, 11.9, 11.3, 11.1, 10.8, 10.5, 10.4, 10.3, 11.8, 13.7, 14.5, 14.3, 14.9, 16.0, 16.5, 17.0, 17.1, 16.9, 16.4, 15.9, 15.4, 14.4, 13.6, 13.7, 12.8, 12.8, 12.1, 11.9, 11.6, 11.5, 11.2, 12.4, 12.9, 13.7, 14.0, 14.1, 14.5, 14.9, 15.7, 15.6, 15.5, 15.8, 15.6, 14.9, 14.9, 14.5, 13.8, 13.7, 13.6, 13.7, 13.8, 13.0, 12.7, 13.3, 13.6, 13.6, 13.7, 14.1, 14.7, 14.8, 15.9, 16.3, 16.5, 16.8, 17.3, 17.0, 16.3, 15.6, 15.3, 15.0, 14.4, 14.3, 14.2, 14.1, 14.2, 14.0, 13.7, 13.7, 13.7, 13.7, 13.8, 14.2, 14.6, 15.1, 16.2, 17.2, 17.3, 17.2, 17.0, 16.9, 16.2, 15.5, 15.3, 14.6, 15.0, 15.2, 15.0, 15.1, 15.0, 15.0, 15.0, 15.1, 15.2, 15.2, 15.2, 15.3, 15.3, 15.3, 15.8, 16.3, 17.4, 17.6, 17.7, 17.4, 16.4, 16.2, 16.0, 15.0, 13.9, 13.7, 14.6, 15.0, 15.1, 14.9, 14.8, 14.8, 14.9, 14.9, 14.8, 14.9, 15.1, 15.3, 15.6, 15.8, 16.5, 16.5, 16.8, 17.5, 17.7, 17.6, 16.5, 15.6, 14.8, 14.3, 14.4, 14.6], \"zmax\": 40, \"zmin\": 5}, {\"colorscale\": [[0.0, \"rgb(0,0,131)\"], [0.2, \"rgb(0,60,170)\"], [0.4, \"rgb(5,255,255)\"], [0.6, \"rgb(255,255,0)\"], [0.8, \"rgb(250,0,0)\"], [1.0, \"rgb(128,0,0)\"]], \"type\": \"heatmap\", \"x\": [\"TUESDAY\", \"TUESDAY\", \"TUESDAY\", \"TUESDAY\", \"TUESDAY\", \"TUESDAY\", \"TUESDAY\", \"TUESDAY\", \"TUESDAY\", \"TUESDAY\", \"TUESDAY\", \"TUESDAY\", \"TUESDAY\", \"TUESDAY\", \"TUESDAY\", \"TUESDAY\", \"TUESDAY\", \"TUESDAY\", \"TUESDAY\", \"TUESDAY\", \"TUESDAY\", \"TUESDAY\", \"TUESDAY\", \"TUESDAY\", \"WEDNESDAY\", \"WEDNESDAY\", \"WEDNESDAY\", \"WEDNESDAY\", \"WEDNESDAY\", \"WEDNESDAY\", \"WEDNESDAY\", \"WEDNESDAY\", \"WEDNESDAY\", \"WEDNESDAY\", \"WEDNESDAY\", \"WEDNESDAY\", \"WEDNESDAY\", \"WEDNESDAY\", \"WEDNESDAY\", \"WEDNESDAY\", \"WEDNESDAY\", \"WEDNESDAY\", \"WEDNESDAY\", \"WEDNESDAY\", \"WEDNESDAY\", \"WEDNESDAY\", \"WEDNESDAY\", \"WEDNESDAY\", \"THURSDAY\", \"THURSDAY\", \"THURSDAY\", \"THURSDAY\", \"THURSDAY\", \"THURSDAY\", \"THURSDAY\", \"THURSDAY\", \"THURSDAY\", \"THURSDAY\", \"THURSDAY\", \"THURSDAY\", \"THURSDAY\", \"THURSDAY\", \"THURSDAY\", \"THURSDAY\", \"THURSDAY\", \"THURSDAY\", \"THURSDAY\", \"THURSDAY\", \"THURSDAY\", \"THURSDAY\", \"THURSDAY\", \"THURSDAY\", \"FRIDAY\", \"FRIDAY\", \"FRIDAY\", \"FRIDAY\", \"FRIDAY\", \"FRIDAY\", \"FRIDAY\", \"FRIDAY\", \"FRIDAY\", \"FRIDAY\", \"FRIDAY\", \"FRIDAY\", \"FRIDAY\", \"FRIDAY\", \"FRIDAY\", \"FRIDAY\", \"FRIDAY\", \"FRIDAY\", \"FRIDAY\", \"FRIDAY\", \"FRIDAY\", \"FRIDAY\", \"FRIDAY\", \"FRIDAY\", \"SATURDAY\", \"SATURDAY\", \"SATURDAY\", \"SATURDAY\", \"SATURDAY\", \"SATURDAY\", \"SATURDAY\", \"SATURDAY\", \"SATURDAY\", \"SATURDAY\", \"SATURDAY\", \"SATURDAY\", \"SATURDAY\", \"SATURDAY\", \"SATURDAY\", \"SATURDAY\", \"SATURDAY\", \"SATURDAY\", \"SATURDAY\", \"SATURDAY\", \"SATURDAY\", \"SATURDAY\", \"SATURDAY\", \"SATURDAY\", \"SUNDAY\", \"SUNDAY\", \"SUNDAY\", \"SUNDAY\", \"SUNDAY\", \"SUNDAY\", \"SUNDAY\", \"SUNDAY\", \"SUNDAY\", \"SUNDAY\", \"SUNDAY\", \"SUNDAY\", \"SUNDAY\", \"SUNDAY\", \"SUNDAY\", \"SUNDAY\", \"SUNDAY\", \"SUNDAY\", \"SUNDAY\", \"SUNDAY\", \"SUNDAY\", \"SUNDAY\", \"SUNDAY\", \"SUNDAY\", \"MONDAY\", \"MONDAY\", \"MONDAY\", \"MONDAY\", \"MONDAY\", \"MONDAY\", \"MONDAY\", \"MONDAY\", \"MONDAY\", \"MONDAY\", \"MONDAY\", \"MONDAY\", \"MONDAY\", \"MONDAY\", \"MONDAY\", \"MONDAY\", \"MONDAY\", \"MONDAY\", \"MONDAY\", \"MONDAY\", \"MONDAY\", \"MONDAY\", \"MONDAY\", \"MONDAY\"], \"xaxis\": \"x3\", \"y\": [\"0:00\", \"1:00\", \"2:00\", \"3:00\", \"4:00\", \"5:00\", \"6:00\", \"7:00\", \"8:00\", \"9:00\", \"10:00\", \"11:00\", \"12:00\", \"13:00\", \"14:00\", \"15:00\", \"16:00\", \"17:00\", \"18:00\", \"19:00\", \"20:00\", \"21:00\", \"22:00\", \"23:00\", \"0:00\", \"1:00\", \"2:00\", \"3:00\", \"4:00\", \"5:00\", \"6:00\", \"7:00\", \"8:00\", \"9:00\", \"10:00\", \"11:00\", \"12:00\", \"13:00\", \"14:00\", \"15:00\", \"16:00\", \"17:00\", \"18:00\", \"19:00\", \"20:00\", \"21:00\", \"22:00\", \"23:00\", \"0:00\", \"1:00\", \"2:00\", \"3:00\", \"4:00\", \"5:00\", \"6:00\", \"7:00\", \"8:00\", \"9:00\", \"10:00\", \"11:00\", \"12:00\", \"13:00\", \"14:00\", \"15:00\", \"16:00\", \"17:00\", \"18:00\", \"19:00\", \"20:00\", \"21:00\", \"22:00\", \"23:00\", \"0:00\", \"1:00\", \"2:00\", \"3:00\", \"4:00\", \"5:00\", \"6:00\", \"7:00\", \"8:00\", \"9:00\", \"10:00\", \"11:00\", \"12:00\", \"13:00\", \"14:00\", \"15:00\", \"16:00\", \"17:00\", \"18:00\", \"19:00\", \"20:00\", \"21:00\", \"22:00\", \"23:00\", \"0:00\", \"1:00\", \"2:00\", \"3:00\", \"4:00\", \"5:00\", \"6:00\", \"7:00\", \"8:00\", \"9:00\", \"10:00\", \"11:00\", \"12:00\", \"13:00\", \"14:00\", \"15:00\", \"16:00\", \"17:00\", \"18:00\", \"19:00\", \"20:00\", \"21:00\", \"22:00\", \"23:00\", \"0:00\", \"1:00\", \"2:00\", \"3:00\", \"4:00\", \"5:00\", \"6:00\", \"7:00\", \"8:00\", \"9:00\", \"10:00\", \"11:00\", \"12:00\", \"13:00\", \"14:00\", \"15:00\", \"16:00\", \"17:00\", \"18:00\", \"19:00\", \"20:00\", \"21:00\", \"22:00\", \"23:00\", \"0:00\", \"1:00\", \"2:00\", \"3:00\", \"4:00\", \"5:00\", \"6:00\", \"7:00\", \"8:00\", \"9:00\", \"10:00\", \"11:00\", \"12:00\", \"13:00\", \"14:00\", \"15:00\", \"16:00\", \"17:00\", \"18:00\", \"19:00\", \"20:00\", \"21:00\", \"22:00\", \"23:00\"], \"yaxis\": \"y3\", \"z\": [25.2, 24.1, 24.4, 24.9, 22.8, 19.8, 18.8, 21.2, 24.2, 27.1, 29.3, 30.6, 32.6, 34.0, 34.0, 34.9, 34.6, 33.8, 33.5, 32.8, 31.0, 29.0, 27.6, 26.3, 23.8, 20.6, 19.1, 18.4, 18.9, 18.2, 17.9, 20.2, 23.8, 26.1, 27.9, 29.3, 30.9, 32.2, 33.1, 33.7, 34.5, 34.7, 34.8, 34.2, 32.8, 31.0, 28.7, 25.5, 24.3, 23.1, 21.8, 19.8, 18.5, 19.2, 19.7, 20.7, 23.2, 26.1, 28.6, 30.8, 32.3, 33.8, 34.9, 35.8, 35.9, 36.3, 35.8, 35.4, 34.2, 32.7, 31.1, 28.6, 26.4, 25.4, 24.2, 23.6, 22.5, 21.0, 21.3, 22.5, 24.7, 28.1, 30.6, 32.5, 33.9, 35.5, 36.6, 37.2, 37.8, 38.1, 38.2, 37.4, 36.0, 34.4, 32.6, 30.1, 28.3, 27.3, 26.3, 25.3, 24.7, 24.7, 23.9, 24.7, 27.7, 30.4, 32.6, 34.8, 36.4, 37.2, 38.4, 39.7, 40.0, 40.4, 40.1, 39.0, 37.3, 35.7, 33.9, 31.4, 29.7, 28.6, 26.9, 25.9, 25.2, 24.8, 23.9, 26.1, 27.9, 30.5, 33.7, 35.6, 36.9, 38.4, 39.2, 40.2, 40.6, 40.6, 40.3, 39.5, 37.9, 36.5, 35.0, 32.9, 30.9, 28.7, 26.9, 25.2, 24.1, 24.3, 23.4, 25.7, 28.5, 30.7, 32.5, 34.1, 36.1, 37.6, 39.0, 40.2, 40.3, 40.2, 40.1, 39.4, 38.5, 37.0, 34.7, 32.6], \"zmax\": 40, \"zmin\": 5}],\n",
              "                        {\"annotations\": [{\"font\": {\"size\": 16}, \"showarrow\": false, \"text\": \"Sitka AK\", \"x\": 0.14444444444444446, \"xanchor\": \"center\", \"xref\": \"paper\", \"y\": 1.0, \"yanchor\": \"bottom\", \"yref\": \"paper\"}, {\"font\": {\"size\": 16}, \"showarrow\": false, \"text\": \"SB CA\", \"x\": 0.5, \"xanchor\": \"center\", \"xref\": \"paper\", \"y\": 1.0, \"yanchor\": \"bottom\", \"yref\": \"paper\"}, {\"font\": {\"size\": 16}, \"showarrow\": false, \"text\": \"Yuma AZ\", \"x\": 0.8555555555555556, \"xanchor\": \"center\", \"xref\": \"paper\", \"y\": 1.0, \"yanchor\": \"bottom\", \"yref\": \"paper\"}], \"template\": {\"data\": {\"bar\": [{\"error_x\": {\"color\": \"#2a3f5f\"}, \"error_y\": {\"color\": \"#2a3f5f\"}, \"marker\": {\"line\": {\"color\": \"#E5ECF6\", \"width\": 0.5}}, \"type\": \"bar\"}], \"barpolar\": [{\"marker\": {\"line\": {\"color\": \"#E5ECF6\", \"width\": 0.5}}, \"type\": \"barpolar\"}], \"carpet\": [{\"aaxis\": {\"endlinecolor\": \"#2a3f5f\", \"gridcolor\": \"white\", \"linecolor\": \"white\", \"minorgridcolor\": \"white\", \"startlinecolor\": \"#2a3f5f\"}, \"baxis\": {\"endlinecolor\": \"#2a3f5f\", \"gridcolor\": \"white\", \"linecolor\": \"white\", \"minorgridcolor\": \"white\", \"startlinecolor\": \"#2a3f5f\"}, \"type\": \"carpet\"}], \"choropleth\": [{\"colorbar\": {\"outlinewidth\": 0, \"ticks\": \"\"}, \"type\": \"choropleth\"}], \"contour\": [{\"colorbar\": {\"outlinewidth\": 0, \"ticks\": \"\"}, \"colorscale\": [[0.0, \"#0d0887\"], [0.1111111111111111, \"#46039f\"], [0.2222222222222222, \"#7201a8\"], [0.3333333333333333, \"#9c179e\"], [0.4444444444444444, \"#bd3786\"], [0.5555555555555556, \"#d8576b\"], [0.6666666666666666, \"#ed7953\"], [0.7777777777777778, \"#fb9f3a\"], [0.8888888888888888, \"#fdca26\"], [1.0, \"#f0f921\"]], \"type\": \"contour\"}], \"contourcarpet\": [{\"colorbar\": {\"outlinewidth\": 0, \"ticks\": \"\"}, \"type\": \"contourcarpet\"}], \"heatmap\": [{\"colorbar\": {\"outlinewidth\": 0, \"ticks\": \"\"}, \"colorscale\": [[0.0, \"#0d0887\"], [0.1111111111111111, \"#46039f\"], [0.2222222222222222, \"#7201a8\"], [0.3333333333333333, \"#9c179e\"], [0.4444444444444444, \"#bd3786\"], [0.5555555555555556, \"#d8576b\"], [0.6666666666666666, \"#ed7953\"], [0.7777777777777778, \"#fb9f3a\"], [0.8888888888888888, \"#fdca26\"], [1.0, \"#f0f921\"]], \"type\": \"heatmap\"}], \"heatmapgl\": [{\"colorbar\": {\"outlinewidth\": 0, \"ticks\": \"\"}, \"colorscale\": [[0.0, \"#0d0887\"], [0.1111111111111111, \"#46039f\"], [0.2222222222222222, \"#7201a8\"], [0.3333333333333333, \"#9c179e\"], [0.4444444444444444, \"#bd3786\"], [0.5555555555555556, \"#d8576b\"], [0.6666666666666666, \"#ed7953\"], [0.7777777777777778, \"#fb9f3a\"], [0.8888888888888888, \"#fdca26\"], [1.0, \"#f0f921\"]], \"type\": \"heatmapgl\"}], \"histogram\": [{\"marker\": {\"colorbar\": {\"outlinewidth\": 0, \"ticks\": \"\"}}, \"type\": \"histogram\"}], \"histogram2d\": [{\"colorbar\": {\"outlinewidth\": 0, \"ticks\": \"\"}, \"colorscale\": [[0.0, \"#0d0887\"], [0.1111111111111111, \"#46039f\"], [0.2222222222222222, \"#7201a8\"], [0.3333333333333333, \"#9c179e\"], [0.4444444444444444, \"#bd3786\"], [0.5555555555555556, \"#d8576b\"], [0.6666666666666666, \"#ed7953\"], [0.7777777777777778, \"#fb9f3a\"], [0.8888888888888888, \"#fdca26\"], [1.0, \"#f0f921\"]], \"type\": \"histogram2d\"}], \"histogram2dcontour\": [{\"colorbar\": {\"outlinewidth\": 0, \"ticks\": \"\"}, \"colorscale\": [[0.0, \"#0d0887\"], [0.1111111111111111, \"#46039f\"], [0.2222222222222222, \"#7201a8\"], [0.3333333333333333, \"#9c179e\"], [0.4444444444444444, \"#bd3786\"], [0.5555555555555556, \"#d8576b\"], [0.6666666666666666, \"#ed7953\"], [0.7777777777777778, \"#fb9f3a\"], [0.8888888888888888, \"#fdca26\"], [1.0, \"#f0f921\"]], \"type\": \"histogram2dcontour\"}], \"mesh3d\": [{\"colorbar\": {\"outlinewidth\": 0, \"ticks\": \"\"}, \"type\": \"mesh3d\"}], \"parcoords\": [{\"line\": {\"colorbar\": {\"outlinewidth\": 0, \"ticks\": \"\"}}, \"type\": \"parcoords\"}], \"scatter\": [{\"marker\": {\"colorbar\": {\"outlinewidth\": 0, \"ticks\": \"\"}}, \"type\": \"scatter\"}], \"scatter3d\": [{\"line\": {\"colorbar\": {\"outlinewidth\": 0, \"ticks\": \"\"}}, \"marker\": {\"colorbar\": {\"outlinewidth\": 0, \"ticks\": \"\"}}, \"type\": \"scatter3d\"}], \"scattercarpet\": [{\"marker\": {\"colorbar\": {\"outlinewidth\": 0, \"ticks\": \"\"}}, \"type\": \"scattercarpet\"}], \"scattergeo\": [{\"marker\": {\"colorbar\": {\"outlinewidth\": 0, \"ticks\": \"\"}}, \"type\": \"scattergeo\"}], \"scattergl\": [{\"marker\": {\"colorbar\": {\"outlinewidth\": 0, \"ticks\": \"\"}}, \"type\": \"scattergl\"}], \"scattermapbox\": [{\"marker\": {\"colorbar\": {\"outlinewidth\": 0, \"ticks\": \"\"}}, \"type\": \"scattermapbox\"}], \"scatterpolar\": [{\"marker\": {\"colorbar\": {\"outlinewidth\": 0, \"ticks\": \"\"}}, \"type\": \"scatterpolar\"}], \"scatterpolargl\": [{\"marker\": {\"colorbar\": {\"outlinewidth\": 0, \"ticks\": \"\"}}, \"type\": \"scatterpolargl\"}], \"scatterternary\": [{\"marker\": {\"colorbar\": {\"outlinewidth\": 0, \"ticks\": \"\"}}, \"type\": \"scatterternary\"}], \"surface\": [{\"colorbar\": {\"outlinewidth\": 0, \"ticks\": \"\"}, \"colorscale\": [[0.0, \"#0d0887\"], [0.1111111111111111, \"#46039f\"], [0.2222222222222222, \"#7201a8\"], [0.3333333333333333, \"#9c179e\"], [0.4444444444444444, \"#bd3786\"], [0.5555555555555556, \"#d8576b\"], [0.6666666666666666, \"#ed7953\"], [0.7777777777777778, \"#fb9f3a\"], [0.8888888888888888, \"#fdca26\"], [1.0, \"#f0f921\"]], \"type\": \"surface\"}], \"table\": [{\"cells\": {\"fill\": {\"color\": \"#EBF0F8\"}, \"line\": {\"color\": \"white\"}}, \"header\": {\"fill\": {\"color\": \"#C8D4E3\"}, \"line\": {\"color\": \"white\"}}, \"type\": \"table\"}]}, \"layout\": {\"annotationdefaults\": {\"arrowcolor\": \"#2a3f5f\", \"arrowhead\": 0, \"arrowwidth\": 1}, \"colorscale\": {\"diverging\": [[0, \"#8e0152\"], [0.1, \"#c51b7d\"], [0.2, \"#de77ae\"], [0.3, \"#f1b6da\"], [0.4, \"#fde0ef\"], [0.5, \"#f7f7f7\"], [0.6, \"#e6f5d0\"], [0.7, \"#b8e186\"], [0.8, \"#7fbc41\"], [0.9, \"#4d9221\"], [1, \"#276419\"]], \"sequential\": [[0.0, \"#0d0887\"], [0.1111111111111111, \"#46039f\"], [0.2222222222222222, \"#7201a8\"], [0.3333333333333333, \"#9c179e\"], [0.4444444444444444, \"#bd3786\"], [0.5555555555555556, \"#d8576b\"], [0.6666666666666666, \"#ed7953\"], [0.7777777777777778, \"#fb9f3a\"], [0.8888888888888888, \"#fdca26\"], [1.0, \"#f0f921\"]], \"sequentialminus\": [[0.0, \"#0d0887\"], [0.1111111111111111, \"#46039f\"], [0.2222222222222222, \"#7201a8\"], [0.3333333333333333, \"#9c179e\"], [0.4444444444444444, \"#bd3786\"], [0.5555555555555556, \"#d8576b\"], [0.6666666666666666, \"#ed7953\"], [0.7777777777777778, \"#fb9f3a\"], [0.8888888888888888, \"#fdca26\"], [1.0, \"#f0f921\"]]}, \"colorway\": [\"#636efa\", \"#EF553B\", \"#00cc96\", \"#ab63fa\", \"#FFA15A\", \"#19d3f3\", \"#FF6692\", \"#B6E880\", \"#FF97FF\", \"#FECB52\"], \"font\": {\"color\": \"#2a3f5f\"}, \"geo\": {\"bgcolor\": \"white\", \"lakecolor\": \"white\", \"landcolor\": \"#E5ECF6\", \"showlakes\": true, \"showland\": true, \"subunitcolor\": \"white\"}, \"hoverlabel\": {\"align\": \"left\"}, \"hovermode\": \"closest\", \"mapbox\": {\"style\": \"light\"}, \"paper_bgcolor\": \"white\", \"plot_bgcolor\": \"#E5ECF6\", \"polar\": {\"angularaxis\": {\"gridcolor\": \"white\", \"linecolor\": \"white\", \"ticks\": \"\"}, \"bgcolor\": \"#E5ECF6\", \"radialaxis\": {\"gridcolor\": \"white\", \"linecolor\": \"white\", \"ticks\": \"\"}}, \"scene\": {\"xaxis\": {\"backgroundcolor\": \"#E5ECF6\", \"gridcolor\": \"white\", \"gridwidth\": 2, \"linecolor\": \"white\", \"showbackground\": true, \"ticks\": \"\", \"zerolinecolor\": \"white\"}, \"yaxis\": {\"backgroundcolor\": \"#E5ECF6\", \"gridcolor\": \"white\", \"gridwidth\": 2, \"linecolor\": \"white\", \"showbackground\": true, \"ticks\": \"\", \"zerolinecolor\": \"white\"}, \"zaxis\": {\"backgroundcolor\": \"#E5ECF6\", \"gridcolor\": \"white\", \"gridwidth\": 2, \"linecolor\": \"white\", \"showbackground\": true, \"ticks\": \"\", \"zerolinecolor\": \"white\"}}, \"shapedefaults\": {\"line\": {\"color\": \"#2a3f5f\"}}, \"ternary\": {\"aaxis\": {\"gridcolor\": \"white\", \"linecolor\": \"white\", \"ticks\": \"\"}, \"baxis\": {\"gridcolor\": \"white\", \"linecolor\": \"white\", \"ticks\": \"\"}, \"bgcolor\": \"#E5ECF6\", \"caxis\": {\"gridcolor\": \"white\", \"linecolor\": \"white\", \"ticks\": \"\"}}, \"title\": {\"x\": 0.05}, \"xaxis\": {\"automargin\": true, \"gridcolor\": \"white\", \"linecolor\": \"white\", \"ticks\": \"\", \"zerolinecolor\": \"white\", \"zerolinewidth\": 2}, \"yaxis\": {\"automargin\": true, \"gridcolor\": \"white\", \"linecolor\": \"white\", \"ticks\": \"\", \"zerolinecolor\": \"white\", \"zerolinewidth\": 2}}}, \"title\": {\"text\": \"Temps for 3 cities.\"}, \"xaxis\": {\"anchor\": \"y\", \"domain\": [0.0, 0.2888888888888889]}, \"xaxis2\": {\"anchor\": \"y2\", \"domain\": [0.35555555555555557, 0.6444444444444445]}, \"xaxis3\": {\"anchor\": \"y3\", \"domain\": [0.7111111111111111, 1.0]}, \"yaxis\": {\"anchor\": \"x\", \"domain\": [0.0, 1.0]}, \"yaxis2\": {\"anchor\": \"x2\", \"domain\": [0.0, 1.0]}, \"yaxis3\": {\"anchor\": \"x3\", \"domain\": [0.0, 1.0]}},\n",
              "                        {\"responsive\": true}\n",
              "                    ).then(function(){\n",
              "                            \n",
              "var gd = document.getElementById('fc985b4c-9508-47b1-9941-9c5af493ba29');\n",
              "var x = new MutationObserver(function (mutations, observer) {{\n",
              "        var display = window.getComputedStyle(gd).display;\n",
              "        if (!display || display === 'none') {{\n",
              "            console.log([gd, 'removed!']);\n",
              "            Plotly.purge(gd);\n",
              "            observer.disconnect();\n",
              "        }}\n",
              "}});\n",
              "\n",
              "// Listen for the removal of the full notebook cells\n",
              "var notebookContainer = gd.closest('#notebook-container');\n",
              "if (notebookContainer) {{\n",
              "    x.observe(notebookContainer, {childList: true});\n",
              "}}\n",
              "\n",
              "// Listen for the clearing of the current output cell\n",
              "var outputEl = gd.closest('.output');\n",
              "if (outputEl) {{\n",
              "    x.observe(outputEl, {childList: true});\n",
              "}}\n",
              "\n",
              "                        })\n",
              "                };\n",
              "                \n",
              "            </script>\n",
              "        </div>\n",
              "</body>\n",
              "</html>"
            ]
          },
          "metadata": {
            "tags": []
          }
        }
      ]
    },
    {
      "cell_type": "code",
      "metadata": {
        "id": "GRHSdtlHD5-4",
        "colab_type": "code",
        "colab": {}
      },
      "source": [
        ""
      ],
      "execution_count": 0,
      "outputs": []
    }
  ]
}